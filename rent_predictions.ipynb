{
 "cells": [
  {
   "cell_type": "markdown",
   "metadata": {},
   "source": [
    "SVD truncated for space matrix:\n",
    "http://scikit-learn.org/stable/modules/decomposition.html\n",
    "FE ideas:\n",
    "https://www.kaggle.com/visnaga/two-sigma-connect-rental-listing-inquiries/xgboost-for-the-millionth-time-0-54724-lb/code"
   ]
  },
  {
   "cell_type": "code",
   "execution_count": 1,
   "metadata": {
    "collapsed": false
   },
   "outputs": [
    {
     "name": "stdout",
     "output_type": "stream",
     "text": [
      "2017-02-26 \n",
      "\n",
      "CPython 3.5.1\n",
      "IPython 4.2.0\n",
      "\n",
      "numpy 1.12.0\n",
      "pandas 0.18.1\n",
      "matplotlib 2.0.0\n",
      "scikit-learn 0.18.1\n",
      "seaborn 0.7.1\n",
      "\n",
      "compiler   : MSC v.1900 64 bit (AMD64)\n",
      "system     : Windows\n",
      "release    : 7\n",
      "machine    : AMD64\n",
      "processor  : Intel64 Family 6 Model 58 Stepping 9, GenuineIntel\n",
      "CPU cores  : 4\n",
      "interpreter: 64bit\n"
     ]
    }
   ],
   "source": [
    "%load_ext watermark\n",
    "%watermark -d -v -m -p numpy,pandas,matplotlib,scikit-learn,seaborn"
   ]
  },
  {
   "cell_type": "code",
   "execution_count": 2,
   "metadata": {
    "collapsed": false
   },
   "outputs": [],
   "source": [
    "import numpy as np\n",
    "import pandas as pd\n",
    "\n",
    "%matplotlib inline \n",
    "import matplotlib.pyplot as plt\n",
    "import seaborn as sns\n",
    "\n",
    "from sklearn.preprocessing import LabelEncoder\n",
    "from sklearn.model_selection import GridSearchCV\n",
    "from sklearn.pipeline import Pipeline\n",
    "from sklearn.pipeline import FeatureUnion\n",
    "from sklearn.decomposition import TruncatedSVD\n",
    "from sklearn.feature_extraction.text import CountVectorizer\n",
    "from sklearn.feature_extraction.text import TfidfVectorizer\n",
    "from sklearn.cluster import KMeans\n",
    "from sklearn.calibration import calibration_curve\n",
    "\n",
    "from nltk.stem.snowball import SnowballStemmer\n",
    "from nltk.tokenize import word_tokenize\n",
    "\n",
    "\n",
    "from sklearn.ensemble import GradientBoostingClassifier\n",
    "from sklearn.linear_model import LogisticRegression\n",
    "from sklearn.ensemble import RandomForestClassifier\n",
    "from sklearn.ensemble import AdaBoostClassifier\n",
    "\n",
    "import warnings\n",
    "warnings.filterwarnings('ignore')"
   ]
  },
  {
   "cell_type": "code",
   "execution_count": 3,
   "metadata": {
    "collapsed": false
   },
   "outputs": [],
   "source": [
    "from sklearn.base import BaseEstimator, TransformerMixin\n",
    "   \n",
    "class fe (BaseEstimator, TransformerMixin):\n",
    "    \"\"\"Custom tranformer that selects numerical featues (attribute names)\n",
    "       and feature engineer to retunr attribute names plus new featues\"\"\"\n",
    "    \n",
    "    def __init__(self, attribute_names):\n",
    "        self.attribute_names = attribute_names\n",
    "    def fit(self, X, y=None):\n",
    "        return self\n",
    "    def transform(self, X):\n",
    "        # selection\n",
    "        X = X[self.attribute_names]\n",
    "        # feature engineering\n",
    "        X[\"bed_bath_ration\"] = X[\"bedrooms\"]/X[\"bathrooms\"] # ratio rooms\n",
    "        X[\"bed_bath_ration\"] = X[\"bed_bath_ration\"].map(lambda x: 100 if x>100 else x) # fix inf\n",
    "        X[\"bed_bath_ration\"].fillna(value=-1,inplace=True) # fix na\n",
    "        \n",
    "        X[\"room_dif\"] = X[\"bedrooms\"] - X[\"bathrooms\"] \n",
    "        \n",
    "        X[\"total_rooms\"] = X[\"bedrooms\"] + X[\"bathrooms\"]  # total rooms\n",
    "        \n",
    "        X['half_bath'] = X['bathrooms'].map(lambda x: 1 if x%1 == 0.5 else 0) # halfbath\n",
    "        \n",
    "        X[\"number_features\"] = X[\"features\"].map(lambda x: len(x)) # total features\n",
    "        \n",
    "        X[\"number_photos\"] = X[\"photos\"].map(lambda x: len(x)) # total features\n",
    "        \n",
    "        X[\"num_description_words\"] = X[\"description\"].apply(lambda x: len(x.split(\" \")))\n",
    "        \n",
    "        X[\"ratio_rooms_photos\"] = X[\"total_rooms\"]/X[\"number_photos\"]\n",
    "        X[\"ratio_rooms_photos\"] = X[\"ratio_rooms_photos\"].map(lambda x: 100 if x>100 else x) # fix inf\n",
    "        X[\"ratio_rooms_photos\"].fillna(value=-1,inplace=True) # fix na\n",
    "        \n",
    "        X[\"price_per_room\"] = X[\"price\"]/X[\"total_rooms\"]\n",
    "        X[\"price_per_room\"] = X[\"price_per_room\"].map(lambda x: 100 if x>100 else x) # fix inf\n",
    "        X[\"price_per_room\"].fillna(value=-1,inplace=True) # fix na\n",
    "        \n",
    "        X[\"price_per_bedroom\"] = X[\"price\"]/X[\"bedrooms\"]\n",
    "        X[\"price_per_bedroom\"] = X[\"price_per_bedroom\"].map(lambda x: 100 if x>100 else x) # fix inf\n",
    "        X[\"price_per_bedroom\"].fillna(value=-1,inplace=True) # fix na\n",
    "        \n",
    "        X[\"price_per_bathroom\"] = X[\"price\"]/X[\"bathrooms\"]\n",
    "        X[\"price_per_bathroom\"] = X[\"price_per_bathroom\"].map(lambda x: 100 if x>100 else x) # fix inf\n",
    "        X[\"price_per_bathroom\"].fillna(value=-1,inplace=True) # fix na\n",
    "       \n",
    "        #duplicates\n",
    "        X[\"photos_string\"] = X.photos.map(lambda x: ' '.join(x))\n",
    "        X[\"photos_duplicate\"] = X.duplicated(\"photos_string\",keep=False)\n",
    "        X[\"features_string\"] = X.photos.map(lambda x: ' '.join(x))\n",
    "        X[\"features_duplicate\"] = X.duplicated(\"features_string\",keep=False)\n",
    "        X[\"description_duplicate\"] = X.duplicated(\"description\",keep=False)\n",
    "        \n",
    "        # creation date\n",
    "        X.created = pd.to_datetime(X.created)\n",
    "        X[\"year\"] = X[\"created\"].dt.year\n",
    "        X[\"day\"] = X[\"created\"].dt.day\n",
    "        X[\"month\"] = X[\"created\"].dt.month\n",
    "        X[\"hour\"] = X[\"created\"].dt.hour\n",
    "        X[\"weekday\"] = X[\"created\"].dt.weekday\n",
    "        X[\"days_passed\"] = (X[\"created\"].max() - X[\"created\"]).dt.days\n",
    "        \n",
    "        \n",
    "        # zones\n",
    "        kmeans = KMeans(n_clusters=325, init='k-means++', n_init=10, max_iter=400,verbose=0, random_state=3, n_jobs=-1)\n",
    "        kmeans.fit_transform(X[[\"longitude\",\"latitude\"]])\n",
    "        X[\"kmeans\"] =  kmeans.labels_\n",
    "        \n",
    "        # drop\n",
    "        X.drop([\"created\",\"features\",\"photos\",\"photos_string\",\"description\",\"features_string\"], axis=1, inplace=True)\n",
    "        return X\n",
    "    \n",
    "class count_vector(BaseEstimator, TransformerMixin):\n",
    "    \"\"\"This custom tranformer select the features passes as the \n",
    "       argument attribute_names\"\"\"\n",
    "    \n",
    "    def __init__(self, attribute_names):\n",
    "        self.attribute_names = attribute_names\n",
    "    def fit(self, X, y=None):\n",
    "        return self\n",
    "    def transform(self, X):\n",
    "        vectorizer = CountVectorizer(min_df=1,stop_words='english')\n",
    "        corpus = X[self.attribute_names].map(lambda x: ' '.join(x))\n",
    "        cv = vectorizer.fit_transform(corpus)\n",
    "        return cv\n",
    "        \n",
    "        \n",
    "class tfidf_vector (BaseEstimator, TransformerMixin):\n",
    "    \"\"\"This custom tranformer select the features passes as the \n",
    "       argument attribute_names\"\"\"\n",
    "    \n",
    "    def __init__(self, key):\n",
    "        self.key = key\n",
    "    def fit(self, X, y=None):\n",
    "        return self\n",
    "    def transform(self, X):\n",
    "        X[self.key] = X[self.key].apply(str)\n",
    "        stemmer = SnowballStemmer(\"english\",ignore_stopwords=True)\n",
    "        X[self.key] = X[self.key].apply(stemmer.stem)\n",
    "\n",
    "        tfidf = TfidfVectorizer(ngram_range=(1, 1), stop_words='english')   \n",
    "        tfidf_sparce = tfidf.fit_transform(X[self.key])\n",
    "        return tfidf_sparce\n",
    "             \n",
    "\n",
    "        \n",
    "class encode (BaseEstimator, TransformerMixin):\n",
    "    \"\"\"This custom tranformer select the features passes as the \n",
    "       argument attribute_names\"\"\"\n",
    "    \n",
    "    def __init__(self, attribute_names):\n",
    "        self.attribute_names = attribute_names\n",
    "    def fit(self, X, y=None):\n",
    "        return self\n",
    "    def transform(self, X):\n",
    "        X = X[self.attribute_names]\n",
    "        \n",
    "        encoder= LabelEncoder()\n",
    "        \n",
    "        X[\"building_id\"] =  encoder.fit_transform(X[\"building_id\"])\n",
    "        X[\"manager_id\"] =  encoder.fit_transform(X[\"manager_id\"])\n",
    "        X[\"display_address\"] =  encoder.fit_transform(X[\"display_address\"])\n",
    "        X[\"street_address\"] =  encoder.fit_transform(X[\"street_address\"])\n",
    "        \n",
    "        X[\"photos\"] = X.photos.map(lambda x: ' '.join(x))\n",
    "        X[\"photos\"] =  encoder.fit_transform(X[\"photos\"])\n",
    "       \n",
    "        \n",
    "        X[\"features\"] = X.features.map(lambda x: ' '.join(x))\n",
    "        X[\"features\"] =  encoder.fit_transform(X[\"features\"])\n",
    "        \n",
    "        \n",
    "        X[\"description\"] =  encoder.fit_transform(X[\"description\"])\n",
    "        \n",
    "        \n",
    "        return X       "
   ]
  },
  {
   "cell_type": "code",
   "execution_count": 4,
   "metadata": {
    "collapsed": false
   },
   "outputs": [
    {
     "name": "stdout",
     "output_type": "stream",
     "text": [
      "(49352, 13)\n",
      "(74659, 13)\n"
     ]
    }
   ],
   "source": [
    "#load data\n",
    "train_df = pd.read_json(\"./input/train.json\")\n",
    "test_df = pd.read_json(\"./input/test.json\")\n",
    "\n",
    "#drop columns that won't be used \n",
    "train_df.drop([\"listing_id\"],axis=1, inplace=True)\n",
    "y_test = test_df.listing_id.values\n",
    "test_df.drop([\"listing_id\"],axis=1, inplace=True)\n",
    "\n",
    "# encode target variable\n",
    "encoder_interest = LabelEncoder()\n",
    "y_train =  encoder_interest.fit_transform(train_df[\"interest_level\"])\n",
    "train_df.drop(\"interest_level\", axis=1,inplace=True)\n",
    "\n",
    "# feature categories\n",
    "fe_features = [\"bathrooms\", \"bedrooms\", \"latitude\", \"longitude\",\n",
    "               \"price\", \"features\", \"created\", \"photos\", \"description\"]\n",
    "encode_features = [\"building_id\", \"manager_id\",\"display_address\",\n",
    "                   \"photos\", \"features\",\"description\",\"street_address\"]\n",
    "\n",
    "\n",
    "\n",
    "\n",
    "# truncated SVD for sparce matrix features\n",
    "tsvd_features = TruncatedSVD(n_components=40, random_state = 1)\n",
    "tsvd_description = TruncatedSVD(n_components=20, random_state = 1)\n",
    "\n",
    "#pipeline\n",
    "rent_pipeline = Pipeline([\n",
    "        ('union', FeatureUnion(\n",
    "                transformer_list = [\n",
    "                    ('fe',  fe(fe_features)),\n",
    "                    ('encode',  encode(encode_features)),\n",
    "                    ('listing_feat_to_sparce', Pipeline([('count_vectorizer', count_vector(\"features\")),\n",
    "                                                         ('tsvd_features', tsvd_features)\n",
    "                                                        ])),\n",
    "                    ('tfidf_description', Pipeline([('tfidf', tfidf_vector(\"description\")),\n",
    "                                                    ('tsvd_desc', tsvd_description)\n",
    "                                                   ]))\n",
    "                ],\n",
    "                transformer_weights = {'fe':1.0,\n",
    "                                       'encode':1.0,\n",
    "                                       'listing_feat_to_sparce':1,\n",
    "                                       'tfidf_description':1\n",
    "                                      })\n",
    "        )])\n",
    "\n",
    "\n",
    "print(train_df.shape)\n",
    "print(test_df.shape)"
   ]
  },
  {
   "cell_type": "code",
   "execution_count": 5,
   "metadata": {
    "collapsed": false
   },
   "outputs": [
    {
     "name": "stdout",
     "output_type": "stream",
     "text": [
      "(49352, 93)\n",
      "(74659, 93)\n"
     ]
    }
   ],
   "source": [
    "# run pipeline\n",
    "rows_train = train_df.shape[0]\n",
    "all_df = pd.concat([train_df,test_df])\n",
    "X_all_df = pd.DataFrame(rent_pipeline.fit_transform(all_df))\n",
    "X_train = X_all_df.iloc[:49352]\n",
    "X_test = X_all_df.iloc[49352:]\n",
    "print(X_train.shape)\n",
    "print(X_test.shape)"
   ]
  },
  {
   "cell_type": "code",
   "execution_count": 6,
   "metadata": {
    "collapsed": false
   },
   "outputs": [
    {
     "name": "stdout",
     "output_type": "stream",
     "text": [
      "Fitting 5 folds for each of 2 candidates, totalling 10 fits\n"
     ]
    },
    {
     "name": "stderr",
     "output_type": "stream",
     "text": [
      "[Parallel(n_jobs=-1)]: Done   7 out of  10 | elapsed: 22.7min remaining:  9.7min\n",
      "[Parallel(n_jobs=-1)]: Done  10 out of  10 | elapsed: 31.6min finished\n"
     ]
    },
    {
     "name": "stdout",
     "output_type": "stream",
     "text": [
      " ----------------- GRID_SEARCH INFO -----------------\n",
      " \n",
      "Best parameters:\n",
      "{'n_estimators': 525, 'min_samples_leaf': 4, 'learning_rate': 0.1, 'max_features': 0.7}\n",
      "\n",
      "Best estimator:\n",
      "GradientBoostingClassifier(criterion='friedman_mse', init=None,\n",
      "              learning_rate=0.1, loss='deviance', max_depth=3,\n",
      "              max_features=0.7, max_leaf_nodes=None,\n",
      "              min_impurity_split=1e-07, min_samples_leaf=4,\n",
      "              min_samples_split=2, min_weight_fraction_leaf=0.0,\n",
      "              n_estimators=525, presort='auto', random_state=3,\n",
      "              subsample=1.0, verbose=0, warm_start=False)\n",
      "\n",
      "Best CV score: -0.564587261647\n",
      "\n",
      "All scores:\n",
      "[mean: -0.57470, std: 0.00388, params: {'n_estimators': 525, 'min_samples_leaf': 4, 'learning_rate': 0.1, 'max_features': 'sqrt'}, mean: -0.56459, std: 0.00423, params: {'n_estimators': 525, 'min_samples_leaf': 4, 'learning_rate': 0.1, 'max_features': 0.7}]\n"
     ]
    },
    {
     "data": {
      "image/png": "[encoded data removed]",
      "text/plain": [
       "<matplotlib.figure.Figure at 0x1a08a898>"
      ]
     },
     "metadata": {},
     "output_type": "display_data"
    }
   ],
   "source": [
    "# model GB -gridsearch\n",
    "param_grid = [{'n_estimators': [525], 'max_features': ['sqrt',0.7],\n",
    "               'learning_rate': [0.1], 'min_samples_leaf':[4]}]\n",
    "\n",
    "gbc = GradientBoostingClassifier(random_state=3)\n",
    "grid_search = GridSearchCV(gbc, param_grid, cv=5,\n",
    "                           scoring='neg_log_loss',\n",
    "                           n_jobs=-1,\n",
    "                           verbose=3)\n",
    "\n",
    "grid_search.fit(X_train, y_train)\n",
    "\n",
    "print(\" ----------------- GRID_SEARCH INFO -----------------\\n \")\n",
    "print(\"Best parameters:\")\n",
    "print(grid_search.best_params_)\n",
    "print(\"\\nBest estimator:\")\n",
    "print(grid_search.best_estimator_)\n",
    "print(\"\\nBest CV score:\", grid_search.best_score_)\n",
    "print(\"\\nAll scores:\")\n",
    "print(grid_search.grid_scores_)\n",
    "\n",
    "# submission\n",
    "final_model = grid_search.best_estimator_\n",
    "# predictions\n",
    "final_predictions = final_model.predict_proba(X_test)\n",
    "# sub\n",
    "pd.DataFrame({'listing_id':y_test,\n",
    "              'high':final_predictions[:,0],\n",
    "              'medium':final_predictions[:,2],\n",
    "              'low': final_predictions[:,1]}).to_csv(\"./submissions/subgb1.csv\",index=False)\n",
    "\n",
    "# plot probs\n",
    "plt.figure(figsize=(10, 10))\n",
    "ax1 = plt.subplot2grid((3, 1), (2, 0))\n",
    "ax1.hist(final_predictions[:,0], range=(0, 1), bins=10, label=\"tst\",\n",
    "             histtype=\"step\", lw=2, color=\"red\")\n",
    "ax1.hist(final_predictions[:,1], range=(0, 1), bins=10, label=\"tst\",\n",
    "             histtype=\"step\", lw=2)\n",
    "ax1.hist(final_predictions[:,2], range=(0, 1), bins=10, label=\"tst\",\n",
    "             histtype=\"step\", lw=2)\n",
    "# legend\n",
    "import matplotlib.patches as mpatches\n",
    "pink_patch = mpatches.Patch(color='red', label='high')\n",
    "green_patch = mpatches.Patch(color='blue', label='low')\n",
    "blue_patch = mpatches.Patch(color='green', label='medium')\n",
    "plt.legend(handles=[pink_patch,green_patch,blue_patch])\n",
    "plt.show()"
   ]
  },
  {
   "cell_type": "code",
   "execution_count": null,
   "metadata": {
    "collapsed": true
   },
   "outputs": [],
   "source": []
  },
  {
   "cell_type": "code",
   "execution_count": null,
   "metadata": {
    "collapsed": true
   },
   "outputs": [],
   "source": [
    "eclf = VotingClassifier(estimators=[('rf1', rf1), ('rf2', rf2), ('gbc', gbc), ('xgb',xgb)], voting='soft')\n",
    "eclf.fit(X_train, y_train)\n",
    "y_val_pred = eclf.predict_proba(X_val)\n",
    "log_loss(y_val, y_val_pred)"
   ]
  },
  {
   "cell_type": "code",
   "execution_count": null,
   "metadata": {
    "collapsed": false
   },
   "outputs": [],
   "source": []
  },
  {
   "cell_type": "code",
   "execution_count": null,
   "metadata": {
    "collapsed": true
   },
   "outputs": [],
   "source": []
  },
  {
   "cell_type": "code",
   "execution_count": null,
   "metadata": {
    "collapsed": true
   },
   "outputs": [],
   "source": []
  },
  {
   "cell_type": "code",
   "execution_count": null,
   "metadata": {
    "collapsed": false
   },
   "outputs": [],
   "source": [
    "param_grid = [{'n_estimators': [500], 'max_features': ['sqrt'],\n",
    "               'bootstrap': [True], 'min_samples_leaf':[5]}]\n",
    "\n",
    "forest_clas = RandomForestClassifier(random_state=3)\n",
    "grid_search = GridSearchCV(forest_clas, param_grid, cv=5,\n",
    "                           scoring='neg_log_loss',\n",
    "                           n_jobs=-1,\n",
    "                           verbose=3)\n",
    "\n",
    "grid_search.fit(X_train, y_train)\n",
    "\n",
    "print(\" ----------------- GRID_SEARCH INFO -----------------\\n \")\n",
    "print(grid_search.best_params_)\n",
    "print(grid_search.best_estimator_)\n",
    "print(\"Best CV score:\", grid_search.best_score_)\n",
    "print(grid_search.grid_scores_)\n",
    "               \n",
    "# test set\n",
    "#X_test = rent_pipeline.fit_transform(test_df)\n",
    "# submission\n",
    "final_model = grid_search.best_estimator_\n",
    "# predictions\n",
    "final_predictions = final_model.predict_proba(X_test)\n",
    "# sub\n",
    "pd.DataFrame({'listing_id':test_df.listing_id.values,\n",
    "              'high':final_predictions[:,0],\n",
    "              'medium':final_predictions[:,2],\n",
    "              'low': final_predictions[:,1]}).to_csv(\"./submissions/subrf.csv\",index=False)\n",
    "\n",
    "# plot probs\n",
    "plt.figure(figsize=(10, 10))\n",
    "ax1 = plt.subplot2grid((3, 1), (2, 0))\n",
    "ax1.hist(final_predictions[:,0], range=(0, 1), bins=10, label=\"tst\",\n",
    "             histtype=\"step\", lw=2, color=\"red\")\n",
    "ax1.hist(final_predictions[:,1], range=(0, 1), bins=10, label=\"tst\",\n",
    "             histtype=\"step\", lw=2)\n",
    "ax1.hist(final_predictions[:,2], range=(0, 1), bins=10, label=\"tst\",\n",
    "             histtype=\"step\", lw=2)\n",
    "# legend\n",
    "import matplotlib.patches as mpatches\n",
    "pink_patch = mpatches.Patch(color='red', label='high')\n",
    "green_patch = mpatches.Patch(color='blue', label='low')\n",
    "blue_patch = mpatches.Patch(color='green', label='medium')\n",
    "plt.legend(handles=[pink_patch,green_patch,blue_patch])\n",
    "plt.show()"
   ]
  },
  {
   "cell_type": "code",
   "execution_count": null,
   "metadata": {
    "collapsed": true
   },
   "outputs": [],
   "source": []
  },
  {
   "cell_type": "code",
   "execution_count": null,
   "metadata": {
    "collapsed": true
   },
   "outputs": [],
   "source": []
  },
  {
   "cell_type": "code",
   "execution_count": null,
   "metadata": {
    "collapsed": true
   },
   "outputs": [],
   "source": []
  },
  {
   "cell_type": "code",
   "execution_count": null,
   "metadata": {
    "collapsed": true
   },
   "outputs": [],
   "source": []
  },
  {
   "cell_type": "code",
   "execution_count": null,
   "metadata": {
    "collapsed": false
   },
   "outputs": [],
   "source": [
    "# feature importance\n",
    "feature_importances = grid_search.best_estimator_.feature_importances_\n",
    "indices = np.argsort(feature_importances)[::-1]\n",
    "attributes = X_train.columns\n",
    "fimpotances = sorted(zip(feature_importances, attributes), reverse=True)\n",
    "\n",
    "# plot 15 most important features \n",
    "plt.figure(figsize=(8, 15))\n",
    "plt.barh(range(len(fimpotances)), feature_importances[indices], color=\"r\", align=\"center\")\n",
    "plt.yticks(range(len(fimpotances)), [x[1] for x in fimpotances])\n",
    "plt.title(\"Feature importances\", size=20)\n",
    "plt.grid(True)\n",
    "plt.gca().invert_yaxis()\n",
    "plt.show()"
   ]
  },
  {
   "cell_type": "code",
   "execution_count": null,
   "metadata": {
    "collapsed": false
   },
   "outputs": [],
   "source": [
    "# test set\n",
    "X_test = rent_pipeline.fit_transform(test_df)\n",
    "# submission\n",
    "final_model = grid_search.best_estimator_\n",
    "# predictions\n",
    "final_predictions = final_model.predict_proba(X_test)\n",
    "# sub\n",
    "pd.DataFrame({'listing_id':test_df.listing_id.values,\n",
    "              'high':final_predictions[:,0],\n",
    "              'medium':final_predictions[:,2],\n",
    "              'low': final_predictions[:,1]}).to_csv(\"./submissions/sub.csv\",index=False)"
   ]
  },
  {
   "cell_type": "code",
   "execution_count": null,
   "metadata": {
    "collapsed": false
   },
   "outputs": [],
   "source": []
  },
  {
   "cell_type": "code",
   "execution_count": null,
   "metadata": {
    "collapsed": true
   },
   "outputs": [],
   "source": []
  },
  {
   "cell_type": "code",
   "execution_count": null,
   "metadata": {
    "collapsed": true
   },
   "outputs": [],
   "source": []
  },
  {
   "cell_type": "code",
   "execution_count": null,
   "metadata": {
    "collapsed": true
   },
   "outputs": [],
   "source": []
  },
  {
   "cell_type": "code",
   "execution_count": null,
   "metadata": {
    "collapsed": true
   },
   "outputs": [],
   "source": []
  },
  {
   "cell_type": "code",
   "execution_count": null,
   "metadata": {
    "collapsed": false
   },
   "outputs": [],
   "source": [
    "from sklearn.cluster import KMeans\n",
    "import matplotlib.cm as cm\n",
    "import pandas as pd\n",
    "from mpl_toolkits.basemap import Basemap\n",
    "import matplotlib.patches as mpatches\n",
    "import numpy as np\n",
    "\n",
    "%matplotlib inline \n",
    "import matplotlib.pyplot as plt\n",
    "\n",
    "train_df = pd.read_json(\"./input/train.json\")\n",
    "\n",
    "west, south, east, north = -74.05, 40.60, -73.80, 40.90\n",
    "\n",
    "\n",
    "fig = plt.figure(figsize=(22,27))\n",
    "\n",
    "kmeans = KMeans(n_clusters=500, init='k-means++', n_init=10, max_iter=300,verbose=0, random_state=3, n_jobs=-1)\n",
    "kmeans.fit_transform(train_df[[\"longitude\",\"latitude\"]])\n",
    "train_df[\"kmeans\"] =  kmeans.labels_\n",
    "\n",
    "fig.add_subplot(222)\n",
    "\n",
    "colors = cm.rainbow(np.linspace(0, 1, 500))\n",
    "\n",
    "m = Basemap(llcrnrlat=south, urcrnrlat=north, llcrnrlon=west,\n",
    "            urcrnrlon=east, lat_ts=south,resolution='i')\n",
    "\n",
    "c=0\n",
    "for k in train_df[\"kmeans\"].unique():\n",
    "    \n",
    "    aa = train_df[train_df[\"kmeans\"] == k]\n",
    "    m.plot(aa['longitude'].values,aa['latitude'].values,\n",
    "       'bo', \n",
    "       markersize=2, color=colors[c],alpha=0.3,\n",
    "       markeredgewidth=0.05) \n",
    "    c=c+1\n",
    "\n",
    "m.drawmapboundary(fill_color='black')\n",
    "\n",
    "plt.show()"
   ]
  },
  {
   "cell_type": "code",
   "execution_count": null,
   "metadata": {
    "collapsed": false
   },
   "outputs": [],
   "source": []
  },
  {
   "cell_type": "code",
   "execution_count": null,
   "metadata": {
    "collapsed": false
   },
   "outputs": [],
   "source": []
  },
  {
   "cell_type": "code",
   "execution_count": null,
   "metadata": {
    "collapsed": false
   },
   "outputs": [],
   "source": []
  },
  {
   "cell_type": "code",
   "execution_count": null,
   "metadata": {
    "collapsed": false
   },
   "outputs": [],
   "source": []
  },
  {
   "cell_type": "code",
   "execution_count": null,
   "metadata": {
    "collapsed": false
   },
   "outputs": [],
   "source": []
  },
  {
   "cell_type": "code",
   "execution_count": null,
   "metadata": {
    "collapsed": true
   },
   "outputs": [],
   "source": []
  },
  {
   "cell_type": "code",
   "execution_count": null,
   "metadata": {
    "collapsed": true
   },
   "outputs": [],
   "source": []
  },
  {
   "cell_type": "code",
   "execution_count": null,
   "metadata": {
    "collapsed": true
   },
   "outputs": [],
   "source": []
  },
  {
   "cell_type": "code",
   "execution_count": null,
   "metadata": {
    "collapsed": true
   },
   "outputs": [],
   "source": []
  },
  {
   "cell_type": "code",
   "execution_count": null,
   "metadata": {
    "collapsed": false
   },
   "outputs": [],
   "source": [
    "from sklearn.calibration import calibration_curve\n",
    "plt.figure(figsize=(10, 10))\n",
    "ax1 = plt.subplot2grid((3, 1), (2, 0))\n",
    "ax1.hist(final_predictions[:,0], range=(0, 1), bins=10, label=\"tst\",\n",
    "             histtype=\"step\", lw=2, color=\"red\")\n",
    "ax1.hist(final_predictions[:,1], range=(0, 1), bins=10, label=\"tst\",\n",
    "             histtype=\"step\", lw=2)\n",
    "ax1.hist(final_predictions[:,2], range=(0, 1), bins=10, label=\"tst\",\n",
    "             histtype=\"step\", lw=2)\n",
    "plt.show()"
   ]
  },
  {
   "cell_type": "code",
   "execution_count": null,
   "metadata": {
    "collapsed": false
   },
   "outputs": [],
   "source": [
    "from sklearn.calibration import CalibratedClassifierCV\n",
    "\n",
    "# Gaussian Naive-Bayes with isotonic calibration\n",
    "clf_isotonic = CalibratedClassifierCV(final_model, cv=2, method='isotonic')\n",
    "clf_isotonic.fit(X_train, y_train)\n",
    "prob_pos_isotonic = clf_isotonic.predict_proba(X_test)\n",
    "\n",
    "# Gaussian Naive-Bayes with sigmoid calibration\n",
    "clf_sigmoid = CalibratedClassifierCV(final_model, cv=2, method='sigmoid')\n",
    "clf_sigmoid.fit(X_train, y_train)\n",
    "prob_pos_sigmoid = clf_sigmoid.predict_proba(X_test)\n",
    "\n",
    "\n",
    "plt.figure(figsize=(10, 10))\n",
    "ax1 = plt.subplot2grid((3, 1), (2, 0))\n",
    "ax1.hist(final_predictions[:,0], range=(0, 1), bins=10, label=\"tst\",\n",
    "             histtype=\"step\", lw=2, color=\"red\")\n",
    "ax1.hist(final_predictions[:,1], range=(0, 1), bins=10, label=\"tst\",\n",
    "             histtype=\"step\", lw=2)\n",
    "ax1.hist(final_predictions[:,2], range=(0, 1), bins=10, label=\"tst\",\n",
    "             histtype=\"step\", lw=2)\n",
    "ax1.set_ylim([0,65000])\n",
    "plt.title(\"Normal\")\n",
    "plt.show()\n",
    "\n",
    "\n",
    "plt.figure(figsize=(10, 10))\n",
    "ax1 = plt.subplot2grid((3, 1), (2, 0))\n",
    "ax1.hist(prob_pos_sigmoid[:,0], range=(0, 1), bins=10, label=\"tst\",\n",
    "             histtype=\"step\", lw=2, color=\"red\")\n",
    "ax1.hist(prob_pos_sigmoid[:,1], range=(0, 1), bins=10, label=\"tst\",\n",
    "             histtype=\"step\", lw=2)\n",
    "ax1.hist(prob_pos_sigmoid[:,2], range=(0, 1), bins=10, label=\"tst\",\n",
    "             histtype=\"step\", lw=2)\n",
    "ax1.set_ylim([0,65000])\n",
    "plt.title(\"Sigmoid\")\n",
    "plt.show()\n",
    "\n",
    "\n",
    "plt.figure(figsize=(10, 10))\n",
    "ax1 = plt.subplot2grid((3, 1), (2, 0))\n",
    "ax1.hist(prob_pos_isotonic[:,0], range=(0, 1), bins=10, label=\"tst\",\n",
    "             histtype=\"step\", lw=2, color=\"red\")\n",
    "ax1.hist(prob_pos_isotonic[:,1], range=(0, 1), bins=10, label=\"tst\",\n",
    "             histtype=\"step\", lw=2)\n",
    "ax1.hist(prob_pos_isotonic[:,2], range=(0, 1), bins=10, label=\"tst\",\n",
    "             histtype=\"step\", lw=2)\n",
    "ax1.set_ylim([0,65000])\n",
    "plt.title(\"Isitonic\")\n",
    "plt.show()\n",
    "\n",
    "pd.DataFrame({'listing_id':test_df.listing_id.values,\n",
    "              'high':prob_pos_sigmoid[:,0],\n",
    "              'medium':prob_pos_sigmoid[:,2],\n",
    "              'low': prob_pos_sigmoid[:,1]}).to_csv(\"./submissions/prob_pos_sigmoid.csv\",index=False)\n",
    "pd.DataFrame({'listing_id':test_df.listing_id.values,\n",
    "              'high':prob_pos_sigmoid[:,0],\n",
    "              'medium':prob_pos_sigmoid[:,2],\n",
    "              'low': prob_pos_isotonic[:,1]}).to_csv(\"./submissions/prob_pos_isotonic.csv\",index=False)"
   ]
  },
  {
   "cell_type": "code",
   "execution_count": null,
   "metadata": {
    "collapsed": false
   },
   "outputs": [],
   "source": [
    "X_train"
   ]
  },
  {
   "cell_type": "markdown",
   "metadata": {
    "collapsed": true
   },
   "source": [
    "tsvd_features = TruncatedSVD(n_components=40, random_state = 1)\n",
    "\n",
    "tsvd_description = TruncatedSVD(n_components=20, random_state = 1)\n",
    "\n",
    "Best parameters:\n",
    "{'n_estimators': 525, 'min_samples_leaf': 4, 'learning_rate': 0.1, 'max_features': 0.7}\n",
    "\n",
    "Best estimator:\n",
    "GradientBoostingClassifier(criterion='friedman_mse', init=None,\n",
    "              learning_rate=0.1, loss='deviance', max_depth=3,\n",
    "              max_features=0.7, max_leaf_nodes=None,\n",
    "              min_impurity_split=1e-07, min_samples_leaf=4,\n",
    "              min_samples_split=2, min_weight_fraction_leaf=0.0,\n",
    "              n_estimators=525, presort='auto', random_state=3,\n",
    "              subsample=1.0, verbose=0, warm_start=False)\n",
    "\n",
    "Best CV score: -0.564587261647 - LB:0.56973"
   ]
  },
  {
   "cell_type": "code",
   "execution_count": null,
   "metadata": {
    "collapsed": true
   },
   "outputs": [],
   "source": []
  },
  {
   "cell_type": "code",
   "execution_count": null,
   "metadata": {
    "collapsed": true
   },
   "outputs": [],
   "source": []
  },
  {
   "cell_type": "code",
   "execution_count": null,
   "metadata": {
    "collapsed": true
   },
   "outputs": [],
   "source": []
  }
 ],
 "metadata": {
  "kernelspec": {
   "display_name": "Python 3",
   "language": "python",
   "name": "python3"
  },
  "language_info": {
   "codemirror_mode": {
    "name": "ipython",
    "version": 3
   },
   "file_extension": ".py",
   "mimetype": "text/x-python",
   "name": "python",
   "nbconvert_exporter": "python",
   "pygments_lexer": "ipython3",
   "version": "3.5.1"
  }
 },
 "nbformat": 4,
 "nbformat_minor": 0
}
