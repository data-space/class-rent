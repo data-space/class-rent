{
 "cells": [
  {
   "cell_type": "markdown",
   "metadata": {},
   "source": [
    "This note book is based entirely on a Kaggle jupyter notebook. https://www.kaggle.com/guoday/two-sigma-connect-rental-listing-inquiries/cv-statistics-edited-0-5346-score/notebook"
   ]
  },
  {
   "cell_type": "code",
   "execution_count": 68,
   "metadata": {
    "collapsed": false
   },
   "outputs": [],
   "source": [
    "import os\n",
    "import sys\n",
    "import operator\n",
    "import numpy as np\n",
    "import pandas as pd\n",
    "from scipy import sparse\n",
    "import xgboost as xgb\n",
    "import random\n",
    "from sklearn import model_selection, preprocessing, ensemble\n",
    "from sklearn.metrics import log_loss\n",
    "from sklearn.feature_extraction.text import TfidfVectorizer, CountVectorizer\n",
    "#input data\n",
    "train_df=pd.read_json('C:\\\\Users\\\\sevda\\\\Documents\\\\Data Lab\\\\Six sigma rental property\\\\train.json\\\\train.json')\n",
    "test_df=pd.read_json('C:\\\\Users\\\\sevda\\\\Documents\\\\Data Lab\\\\Six sigma rental property\\\\test.json\\\\test.json')"
   ]
  },
  {
   "cell_type": "markdown",
   "metadata": {},
   "source": [
    "We create some basic additional features based on the initial variables."
   ]
  },
  {
   "cell_type": "code",
   "execution_count": 69,
   "metadata": {
    "collapsed": true
   },
   "outputs": [],
   "source": [
    "#basic features\n",
    "train_df[\"price_t\"] =train_df[\"price\"]/train_df[\"bedrooms\"]\n",
    "test_df[\"price_t\"] = test_df[\"price\"]/test_df[\"bedrooms\"] \n",
    "train_df[\"room_sum\"] = train_df[\"bedrooms\"]+train_df[\"bathrooms\"] \n",
    "test_df[\"room_sum\"] = test_df[\"bedrooms\"]+test_df[\"bathrooms\"] \n",
    "\n",
    "# count of photos #\n",
    "train_df[\"num_photos\"] = train_df[\"photos\"].apply(len)\n",
    "test_df[\"num_photos\"] = test_df[\"photos\"].apply(len)\n",
    "\n",
    "# count of \"features\" #\n",
    "train_df[\"num_features\"] = train_df[\"features\"].apply(len)\n",
    "test_df[\"num_features\"] = test_df[\"features\"].apply(len)\n",
    "\n",
    "# count of words present in description column #\n",
    "train_df[\"num_description_words\"] = train_df[\"description\"].apply(lambda x: len(x.split(\" \")))\n",
    "test_df[\"num_description_words\"] = test_df[\"description\"].apply(lambda x: len(x.split(\" \")))\n",
    "\n",
    "\n",
    "features_to_use=[\"bathrooms\", \"bedrooms\", \"latitude\", \"longitude\", \"price\",\"price_t\",\"num_photos\", \"num_features\", \"num_description_words\",\"listing_id\"]\n"
   ]
  },
  {
   "cell_type": "markdown",
   "metadata": {},
   "source": [
    "We will create three levels of manager id valuation based on the number of low, medium and high interest for listing interest."
   ]
  },
  {
   "cell_type": "code",
   "execution_count": 70,
   "metadata": {
    "collapsed": true
   },
   "outputs": [],
   "source": [
    "index=list(range(train_df.shape[0]))\n",
    "random.shuffle(index)\n",
    "a=[np.nan]*len(train_df)\n",
    "b=[np.nan]*len(train_df)\n",
    "c=[np.nan]*len(train_df)\n",
    "\n",
    "for i in range(5):\n",
    "    building_level={}\n",
    "    for j in train_df['manager_id'].values:\n",
    "        building_level[j]=[0,0,0]\n",
    "    test_index=index[int((i*train_df.shape[0])/5):int(((i+1)*train_df.shape[0])/5)]\n",
    "    train_index=list(set(index).difference(test_index))\n",
    "    for j in train_index:\n",
    "        temp=train_df.iloc[j]\n",
    "        if temp['interest_level']=='low':\n",
    "            building_level[temp['manager_id']][0]+=1\n",
    "        if temp['interest_level']=='medium':\n",
    "            building_level[temp['manager_id']][1]+=1\n",
    "        if temp['interest_level']=='high':\n",
    "            building_level[temp['manager_id']][2]+=1\n",
    "    for j in test_index:\n",
    "        temp=train_df.iloc[j]\n",
    "        if sum(building_level[temp['manager_id']])!=0:\n",
    "            a[j]=building_level[temp['manager_id']][0]*1.0/sum(building_level[temp['manager_id']])\n",
    "            b[j]=building_level[temp['manager_id']][1]*1.0/sum(building_level[temp['manager_id']])\n",
    "            c[j]=building_level[temp['manager_id']][2]*1.0/sum(building_level[temp['manager_id']])\n",
    "train_df['manager_level_low']=a\n",
    "train_df['manager_level_medium']=b\n",
    "train_df['manager_level_high']=c\n",
    "\n",
    "\n",
    "\n",
    "a=[]\n",
    "b=[]\n",
    "c=[]\n",
    "building_level={}\n",
    "for j in train_df['manager_id'].values:\n",
    "    building_level[j]=[0,0,0]\n",
    "for j in range(train_df.shape[0]):\n",
    "    temp=train_df.iloc[j]\n",
    "    if temp['interest_level']=='low':\n",
    "        building_level[temp['manager_id']][0]+=1\n",
    "    if temp['interest_level']=='medium':\n",
    "        building_level[temp['manager_id']][1]+=1\n",
    "    if temp['interest_level']=='high':\n",
    "        building_level[temp['manager_id']][2]+=1\n",
    "\n",
    "for i in test_df['manager_id'].values:\n",
    "    if i not in building_level.keys():\n",
    "        a.append(np.nan)\n",
    "        b.append(np.nan)\n",
    "        c.append(np.nan)\n",
    "    else:\n",
    "        a.append(building_level[i][0]*1.0/sum(building_level[i]))\n",
    "        b.append(building_level[i][1]*1.0/sum(building_level[i]))\n",
    "        c.append(building_level[i][2]*1.0/sum(building_level[i]))\n",
    "test_df['manager_level_low']=a\n",
    "test_df['manager_level_medium']=b\n",
    "test_df['manager_level_high']=c\n",
    "\n",
    "#features_to_use.append('manager_level_low') \n",
    "#features_to_use.append('manager_level_medium') \n",
    "#features_to_use.append('manager_level_high')"
   ]
  },
  {
   "cell_type": "markdown",
   "metadata": {},
   "source": [
    "Label encoding transformation of the categorical variables."
   ]
  },
  {
   "cell_type": "code",
   "execution_count": 71,
   "metadata": {
    "collapsed": true
   },
   "outputs": [],
   "source": [
    "#categorical = [\"display_address\", \"manager_id\", \"building_id\", \"street_address\"]\n",
    "categorical = [\"manager_id\", \"building_id\"]\n",
    "for f in categorical:\n",
    "        if train_df[f].dtype=='object':\n",
    "            #print(f)\n",
    "            lbl = preprocessing.LabelEncoder()\n",
    "            lbl.fit(list(train_df[f].values) + list(test_df[f].values))\n",
    "            train_df[f] = lbl.transform(list(train_df[f].values))\n",
    "            test_df[f] = lbl.transform(list(test_df[f].values))\n",
    "            features_to_use.append(f)"
   ]
  },
  {
   "cell_type": "markdown",
   "metadata": {},
   "source": [
    "Introducing the neighbourhood variable."
   ]
  },
  {
   "cell_type": "code",
   "execution_count": 177,
   "metadata": {
    "collapsed": true
   },
   "outputs": [],
   "source": [
    "#Skip this one\n",
    "\n",
    "import shapefile\n",
    "\n",
    "sf = shapefile.Reader(\"C:\\\\Users\\\\sevda\\\\Documents\\\\Data Lab\\\\Six sigma rental property\\\\ZillowNeighborhoods-NY\\\\ZillowNeighborhoods-NY.shp\")\n",
    "\n",
    "shapes = sf.shapes()\n",
    "records = sf.records()\n",
    "\n",
    "towns_values = [records[i][2] for i in range(len(records))]\n",
    "neighb_values = [records[i][3] for i in range(len(records))]\n",
    "west_values = [shapes[i].bbox[0] for i in range(len(records))]\n",
    "south_values = [shapes[i].bbox[1] for i in range(len(records))]\n",
    "east_values = [shapes[i].bbox[2] for i in range(len(records))]\n",
    "north_values = [shapes[i].bbox[3] for i in range(len(records))]\n",
    "\n",
    "west, south, east, north = -74.02, 40.64, -73.85, 40.86\n",
    "\n",
    "neighbourhood_pd = pd.DataFrame({'Town' : towns_values,\n",
    "                                 'Neighbourhood' : neighb_values,\n",
    "                                 'West' : west_values,\n",
    "                                 'South' : south_values,\n",
    "                                 'East' : east_values,\n",
    "                                 'North' : north_values})\n",
    "\n",
    "neighbourhood_pd = neighbourhood_pd[neighbourhood_pd.Town == \"New York\"]\n",
    "neighbourhood_pd = neighbourhood_pd.ix[(neighbourhood_pd.West >= west) & \n",
    "                                     (neighbourhood_pd.East <= east) & \n",
    "                                     (neighbourhood_pd.South >= south) & \n",
    "                                     (neighbourhood_pd.North <= north)]\n",
    "\n",
    "neighbourhood_sorted_pd = neighbourhood_pd.sort_values(['West'])\n",
    "\n",
    "\n",
    "neighbourhood_ls = []\n",
    "for num in range(0, train_df.shape[0]):\n",
    "    temp = neighbourhood_sorted_pd[(neighbourhood_sorted_pd.West<train_df.longitude.values[num]) &\n",
    "                                   (neighbourhood_sorted_pd.East>train_df.longitude.values[num]) &\n",
    "                                   (neighbourhood_sorted_pd.South<train_df.latitude.values[num]) &\n",
    "                                   (neighbourhood_sorted_pd.North>train_df.latitude.values[num])]\n",
    "    if temp.shape[0] > 0:\n",
    "        neighbourhood_ls += [temp.Neighbourhood.values[0]]\n",
    "    else:\n",
    "        neighbourhood_ls += [\"Other\"]\n",
    "    \n",
    "train_df['neighbourhood'] = pd.Series(neighbourhood_ls, index=train_df.index)\n",
    "\n",
    "neighbourhood_ls = []\n",
    "for num in range(0, test_df.shape[0]):\n",
    "    temp = neighbourhood_sorted_pd[(neighbourhood_sorted_pd.West<test_df.longitude.values[num]) &\n",
    "                                   (neighbourhood_sorted_pd.East>test_df.longitude.values[num]) &\n",
    "                                   (neighbourhood_sorted_pd.South<test_df.latitude.values[num]) &\n",
    "                                   (neighbourhood_sorted_pd.North>test_df.latitude.values[num])]\n",
    "    if temp.shape[0] > 0:\n",
    "        neighbourhood_ls += [temp.Neighbourhood.values[0]]\n",
    "    else:\n",
    "        neighbourhood_ls += [\"Other\"]\n",
    "    \n",
    "test_df['neighbourhood'] = pd.Series(neighbourhood_ls, index=test_df.index)"
   ]
  },
  {
   "cell_type": "markdown",
   "metadata": {},
   "source": [
    "Introducing the price_diff variable"
   ]
  },
  {
   "cell_type": "code",
   "execution_count": 178,
   "metadata": {
    "collapsed": true
   },
   "outputs": [],
   "source": [
    "# Skip this one\n",
    "train_group_by = train_df[[\"bedrooms\", \"neighbourhood\", \"price\"]].groupby([\"bedrooms\", \"neighbourhood\"]).median()\n",
    "train_group_by = train_group_by.add_suffix('_median').reset_index()\n",
    "\n",
    "train_df = train_df.merge(train_group_by, left_on=['bedrooms', 'neighbourhood'], right_on=['bedrooms', 'neighbourhood'], how='outer')\n",
    "test_df = test_df.merge(train_group_by, left_on=['bedrooms', 'neighbourhood'], right_on=['bedrooms', 'neighbourhood'], how='left')\n",
    "\n",
    "train_df[\"price_diff\"] = train_df[\"price\"] - train_df[\"price_median\"]\n",
    "test_df[\"price_diff\"] = test_df[\"price\"] - test_df[\"price_median\"]"
   ]
  },
  {
   "cell_type": "code",
   "execution_count": 72,
   "metadata": {
    "collapsed": true
   },
   "outputs": [],
   "source": [
    "train_group_by = train_df[[\"bedrooms\", \"price\"]].groupby([\"bedrooms\"]).median()\n",
    "train_group_by = train_group_by.add_suffix('_median').reset_index()\n",
    "\n",
    "train_df = train_df.merge(train_group_by, left_on=['bedrooms'], right_on=['bedrooms'], how='outer')\n",
    "test_df = test_df.merge(train_group_by, left_on=['bedrooms'], right_on=['bedrooms'], how='left')\n",
    "\n",
    "train_df[\"price_diff\"] = train_df[\"price\"] - train_df[\"price_median\"]\n",
    "test_df[\"price_diff\"] = test_df[\"price\"] - test_df[\"price_median\"]"
   ]
  },
  {
   "cell_type": "markdown",
   "metadata": {},
   "source": [
    "We will use the created date and will add the day of year, week of year and a number of other data related variables."
   ]
  },
  {
   "cell_type": "code",
   "execution_count": 73,
   "metadata": {
    "collapsed": true
   },
   "outputs": [],
   "source": [
    "train_df[\"created\"] = pd.to_datetime(train_df[\"created\"])\n",
    "train_df[\"date\"]= train_df[\"created\"].dt.date\n",
    "\n",
    "train_df[\"dayofyear\"] = train_df[\"created\"].dt.dayofyear\n",
    "train_df[\"weekofyear\"] = train_df[\"created\"].dt.weekofyear\n",
    "train_df[\"weekday\"] = train_df[\"created\"].dt.weekday\n",
    "train_df[\"hour\"] = train_df[\"created\"].dt.hour\n",
    "\n",
    "test_df[\"created\"] = pd.to_datetime(test_df[\"created\"])\n",
    "test_df[\"date\"]= test_df[\"created\"].dt.date\n",
    "\n",
    "test_df[\"dayofyear\"] = test_df[\"created\"].dt.dayofyear\n",
    "test_df[\"weekofyear\"] = test_df[\"created\"].dt.weekofyear\n",
    "test_df[\"weekday\"] = test_df[\"created\"].dt.weekday\n",
    "test_df[\"hour\"] = test_df[\"created\"].dt.hour"
   ]
  },
  {
   "cell_type": "markdown",
   "metadata": {},
   "source": [
    "Adding the count of apartments available for rent in each building."
   ]
  },
  {
   "cell_type": "code",
   "execution_count": 74,
   "metadata": {
    "collapsed": true
   },
   "outputs": [],
   "source": [
    "building_id_group_by = train_df[[\"street_address\", \"building_id\"]].groupby([\"building_id\"]).count()\n",
    "building_id_group_by = building_id_group_by.add_suffix('_count').reset_index()\n",
    "\n",
    "train_df = train_df.merge(building_id_group_by, left_on=['building_id'], right_on=['building_id'], how='inner')\n",
    "test_df = test_df.merge(building_id_group_by, left_on=['building_id'], right_on=['building_id'], how='left')"
   ]
  },
  {
   "cell_type": "markdown",
   "metadata": {},
   "source": [
    "Adding a density description variable for the location of the apartments."
   ]
  },
  {
   "cell_type": "code",
   "execution_count": 75,
   "metadata": {
    "collapsed": true
   },
   "outputs": [],
   "source": [
    "train_df[\"pos\"] = train_df.longitude.round(3).astype(str) + '_' + train_df.latitude.round(3).astype(str)\n",
    "test_df[\"pos\"] = test_df.longitude.round(3).astype(str) + '_' + test_df.latitude.round(3).astype(str)\n",
    "\n",
    "vals = train_df['pos'].value_counts()\n",
    "dvals = vals.to_dict()\n",
    "train_df[\"density\"] = train_df['pos'].apply(lambda x: dvals.get(x, vals.min()))\n",
    "test_df[\"density\"] = test_df['pos'].apply(lambda x: dvals.get(x, vals.min()))"
   ]
  },
  {
   "cell_type": "markdown",
   "metadata": {},
   "source": [
    "Assessing the manager skill based on the postings with high and low interest."
   ]
  },
  {
   "cell_type": "code",
   "execution_count": 76,
   "metadata": {
    "collapsed": false
   },
   "outputs": [],
   "source": [
    "train_df['manager_skill'] = train_df['manager_level_high']*3 + train_df['manager_level_medium']*2 + train_df['manager_level_low']\n",
    "test_df['manager_skill'] = test_df['manager_level_high']*3 + test_df['manager_level_medium']*2 + test_df['manager_level_low']"
   ]
  },
  {
   "cell_type": "markdown",
   "metadata": {},
   "source": [
    "Adding a listing difference variable which is a reflection of the position under which a listing appears."
   ]
  },
  {
   "cell_type": "code",
   "execution_count": 77,
   "metadata": {
    "collapsed": true
   },
   "outputs": [],
   "source": [
    "dayofyear_group_by = train_df[[\"listing_id\", \"dayofyear\"]].groupby([\"dayofyear\"]).min()\n",
    "dayofyear_group_by = dayofyear_group_by.add_suffix('_min').reset_index()\n",
    "\n",
    "train_df = train_df.merge(dayofyear_group_by, left_on=['dayofyear'], right_on=['dayofyear'], how='left')\n",
    "train_df['listing_difference'] = train_df['listing_id'] - train_df['listing_id_min']\n",
    "\n",
    "test_df = test_df.merge(dayofyear_group_by, left_on=['dayofyear'], right_on=['dayofyear'], how='left')\n",
    "test_df['listing_difference'] = test_df['listing_id'] - test_df['listing_id_min']"
   ]
  },
  {
   "cell_type": "markdown",
   "metadata": {},
   "source": [
    "We are adding the newly created variable to features_to_use."
   ]
  },
  {
   "cell_type": "code",
   "execution_count": 78,
   "metadata": {
    "collapsed": true
   },
   "outputs": [],
   "source": [
    "features_to_use=[\"bathrooms\", \"bedrooms\", \"latitude\", \"longitude\", \"listing_difference\", \"price\",\"price_t\",\"num_photos\", \"num_features\", \"num_description_words\",\"listing_id\"]\n",
    "\n",
    "features_to_use.append(\"price_diff\")\n",
    "features_to_use.append(\"dayofyear\")\n",
    "features_to_use.append(\"weekofyear\")\n",
    "features_to_use.append(\"weekday\")\n",
    "features_to_use.append(\"hour\")\n",
    "#features_to_use.append(\"price_diff\")\n",
    "#features_to_use.append(\"longitude\")\n",
    "#features_to_use.append(\"latitude\")\n",
    "features_to_use.append(\"street_address_count\")\n",
    "features_to_use.append(\"manager_level_low\")\n",
    "features_to_use.append(\"manager_level_medium\")\n",
    "features_to_use.append(\"manager_level_high\")\n",
    "#features_to_use.append(\"pos\")\n",
    "features_to_use.append(\"density\")\n",
    "features_to_use.append(\"manager_skill\")\n",
    "#features_to_use.append(\"listing_difference\")"
   ]
  },
  {
   "cell_type": "markdown",
   "metadata": {},
   "source": [
    "Transforming the feature variable."
   ]
  },
  {
   "cell_type": "code",
   "execution_count": 79,
   "metadata": {
    "collapsed": false
   },
   "outputs": [
    {
     "name": "stdout",
     "output_type": "stream",
     "text": [
      "0                                                     \n",
      "1                                                     \n",
      "2                                                     \n",
      "3          Doorman Elevator Dishwasher Hardwood_Floors\n",
      "4    Fireplace Dining_Room Balcony Doorman Elevator...\n",
      "Name: features, dtype: object\n"
     ]
    }
   ],
   "source": [
    "train_df['features'] = train_df[\"features\"].apply(lambda x: \" \".join([\"_\".join(i.split(\" \")) for i in x]))\n",
    "test_df['features'] = test_df[\"features\"].apply(lambda x: \" \".join([\"_\".join(i.split(\" \")) for i in x]))\n",
    "print(train_df[\"features\"].head())\n",
    "tfidf = CountVectorizer(stop_words='english', max_features=200)\n",
    "tr_sparse = tfidf.fit_transform(train_df[\"features\"])\n",
    "te_sparse = tfidf.transform(test_df[\"features\"])\n",
    "\n",
    "col_desc = ['desc_'+ i for i in tfidf.get_feature_names()] \n",
    "count_vect_df = pd.DataFrame(tr_sparse.todense(), columns=col_desc)\n",
    "train_X_full = pd.concat([train_df[features_to_use].reset_index(),count_vect_df],axis=1)\n",
    "\n",
    "count_vect_test_df = pd.DataFrame(te_sparse.todense(), columns=col_desc)\n",
    "test_X_full = pd.concat([test_df[features_to_use].reset_index(),count_vect_test_df],axis=1)"
   ]
  },
  {
   "cell_type": "markdown",
   "metadata": {},
   "source": [
    "Source for part of the code https://www.kaggle.com/ug2409/two-sigma-connect-rental-listing-inquiries/using-description-as-the-only-feature-72-cv"
   ]
  },
  {
   "cell_type": "code",
   "execution_count": 80,
   "metadata": {
    "collapsed": false
   },
   "outputs": [
    {
     "name": "stdout",
     "output_type": "stream",
     "text": [
      "(74659, 223)\n",
      "(49352, 223)\n"
     ]
    }
   ],
   "source": [
    "print(test_X_full.shape)\n",
    "print(train_X_full.shape)"
   ]
  },
  {
   "cell_type": "markdown",
   "metadata": {},
   "source": [
    "Now we will combine the newly created feature variables, which represent whether a feature is present or not, with the initial data frame"
   ]
  },
  {
   "cell_type": "code",
   "execution_count": 81,
   "metadata": {
    "collapsed": false
   },
   "outputs": [],
   "source": [
    "#train_X = sparse.hstack([train_df[features_to_use], tr_sparse]).tocsr()\n",
    "#test_X = sparse.hstack([test_df[features_to_use], te_sparse]).tocsr()\n",
    "\n",
    "target_num_map = {'high':0, 'medium':1, 'low':2}\n",
    "train_y = np.array(train_df['interest_level'].apply(lambda x: target_num_map[x]))\n",
    "#print(train_X.shape, test_X.shape)"
   ]
  },
  {
   "cell_type": "markdown",
   "metadata": {},
   "source": [
    "We will define the XGBoost function"
   ]
  },
  {
   "cell_type": "code",
   "execution_count": 82,
   "metadata": {
    "collapsed": true
   },
   "outputs": [],
   "source": [
    "def runXGB(train_X, train_y, test_X, test_y=None, feature_names=None, seed_val=0, num_rounds=1000):\n",
    "    param = {}\n",
    "    param['objective'] = 'multi:softprob'\n",
    "    param['eta'] = 0.1\n",
    "    param['max_depth'] = 6\n",
    "    param['silent'] = 1\n",
    "    param['num_class'] = 3\n",
    "    param['eval_metric'] = \"mlogloss\"\n",
    "    param['min_child_weight'] = 1\n",
    "    param['subsample'] = 0.7\n",
    "    param['colsample_bytree'] = 0.7\n",
    "    param['seed'] = seed_val\n",
    "    num_rounds = num_rounds\n",
    "\n",
    "    plst = list(param.items())\n",
    "    xgtrain = xgb.DMatrix(train_X, label=train_y)\n",
    "\n",
    "    if test_y is not None:\n",
    "        xgtest = xgb.DMatrix(test_X, label=test_y)\n",
    "        watchlist = [ (xgtrain,'train'), (xgtest, 'test') ]\n",
    "        model = xgb.train(plst, xgtrain, num_rounds, watchlist, early_stopping_rounds=20)\n",
    "    else:\n",
    "        xgtest = xgb.DMatrix(test_X)\n",
    "        print(\"Before train function\")\n",
    "        model = xgb.train(plst, xgtrain, num_rounds)\n",
    "\n",
    "    pred_test_y = model.predict(xgtest)\n",
    "    return pred_test_y, model"
   ]
  },
  {
   "cell_type": "code",
   "execution_count": 83,
   "metadata": {
    "collapsed": false
   },
   "outputs": [
    {
     "name": "stdout",
     "output_type": "stream",
     "text": [
      "<pandas.core.indexing._LocIndexer object at 0x000001FD4E527438>\n",
      "[0]\ttrain-mlogloss:1.03299\ttest-mlogloss:1.03416\n",
      "Multiple eval metrics have been passed: 'test-mlogloss' will be used for early stopping.\n",
      "\n",
      "Will train until test-mlogloss hasn't improved in 20 rounds.\n",
      "[1]\ttrain-mlogloss:0.975647\ttest-mlogloss:0.978701\n",
      "[2]\ttrain-mlogloss:0.926607\ttest-mlogloss:0.931391\n",
      "[3]\ttrain-mlogloss:0.884001\ttest-mlogloss:0.890369\n",
      "[4]\ttrain-mlogloss:0.848156\ttest-mlogloss:0.85583\n",
      "[5]\ttrain-mlogloss:0.816305\ttest-mlogloss:0.825313\n",
      "[6]\ttrain-mlogloss:0.787896\ttest-mlogloss:0.79833\n",
      "[7]\ttrain-mlogloss:0.76298\ttest-mlogloss:0.774693\n",
      "[8]\ttrain-mlogloss:0.741012\ttest-mlogloss:0.754133\n",
      "[9]\ttrain-mlogloss:0.72127\ttest-mlogloss:0.735662\n",
      "[10]\ttrain-mlogloss:0.704632\ttest-mlogloss:0.719986\n",
      "[11]\ttrain-mlogloss:0.689604\ttest-mlogloss:0.705968\n",
      "[12]\ttrain-mlogloss:0.675631\ttest-mlogloss:0.693314\n",
      "[13]\ttrain-mlogloss:0.662766\ttest-mlogloss:0.68156\n",
      "[14]\ttrain-mlogloss:0.651056\ttest-mlogloss:0.671074\n",
      "[15]\ttrain-mlogloss:0.640788\ttest-mlogloss:0.662036\n",
      "[16]\ttrain-mlogloss:0.631256\ttest-mlogloss:0.653522\n",
      "[17]\ttrain-mlogloss:0.622763\ttest-mlogloss:0.646069\n",
      "[18]\ttrain-mlogloss:0.614769\ttest-mlogloss:0.639111\n",
      "[19]\ttrain-mlogloss:0.607506\ttest-mlogloss:0.632879\n",
      "[20]\ttrain-mlogloss:0.601323\ttest-mlogloss:0.627588\n",
      "[21]\ttrain-mlogloss:0.595034\ttest-mlogloss:0.622375\n",
      "[22]\ttrain-mlogloss:0.589486\ttest-mlogloss:0.617604\n",
      "[23]\ttrain-mlogloss:0.58435\ttest-mlogloss:0.613605\n",
      "[24]\ttrain-mlogloss:0.579604\ttest-mlogloss:0.609731\n",
      "[25]\ttrain-mlogloss:0.575238\ttest-mlogloss:0.60616\n",
      "[26]\ttrain-mlogloss:0.571389\ttest-mlogloss:0.60304\n",
      "[27]\ttrain-mlogloss:0.567617\ttest-mlogloss:0.600021\n",
      "[28]\ttrain-mlogloss:0.56414\ttest-mlogloss:0.597335\n",
      "[29]\ttrain-mlogloss:0.560816\ttest-mlogloss:0.594718\n",
      "[30]\ttrain-mlogloss:0.558196\ttest-mlogloss:0.592777\n",
      "[31]\ttrain-mlogloss:0.555261\ttest-mlogloss:0.590514\n",
      "[32]\ttrain-mlogloss:0.552395\ttest-mlogloss:0.588313\n",
      "[33]\ttrain-mlogloss:0.549432\ttest-mlogloss:0.586319\n",
      "[34]\ttrain-mlogloss:0.546857\ttest-mlogloss:0.584654\n",
      "[35]\ttrain-mlogloss:0.544409\ttest-mlogloss:0.582941\n",
      "[36]\ttrain-mlogloss:0.541872\ttest-mlogloss:0.581318\n",
      "[37]\ttrain-mlogloss:0.539675\ttest-mlogloss:0.579995\n",
      "[38]\ttrain-mlogloss:0.537536\ttest-mlogloss:0.578539\n",
      "[39]\ttrain-mlogloss:0.535073\ttest-mlogloss:0.577085\n",
      "[40]\ttrain-mlogloss:0.533409\ttest-mlogloss:0.576132\n",
      "[41]\ttrain-mlogloss:0.531774\ttest-mlogloss:0.575085\n",
      "[42]\ttrain-mlogloss:0.529277\ttest-mlogloss:0.573491\n",
      "[43]\ttrain-mlogloss:0.52774\ttest-mlogloss:0.572663\n",
      "[44]\ttrain-mlogloss:0.52623\ttest-mlogloss:0.571978\n",
      "[45]\ttrain-mlogloss:0.524583\ttest-mlogloss:0.571024\n",
      "[46]\ttrain-mlogloss:0.522591\ttest-mlogloss:0.569533\n",
      "[47]\ttrain-mlogloss:0.521047\ttest-mlogloss:0.568716\n",
      "[48]\ttrain-mlogloss:0.519405\ttest-mlogloss:0.568064\n",
      "[49]\ttrain-mlogloss:0.518067\ttest-mlogloss:0.56748\n",
      "[50]\ttrain-mlogloss:0.516766\ttest-mlogloss:0.566796\n",
      "[51]\ttrain-mlogloss:0.515097\ttest-mlogloss:0.565968\n",
      "[52]\ttrain-mlogloss:0.513469\ttest-mlogloss:0.565293\n",
      "[53]\ttrain-mlogloss:0.511981\ttest-mlogloss:0.564617\n",
      "[54]\ttrain-mlogloss:0.510665\ttest-mlogloss:0.563916\n",
      "[55]\ttrain-mlogloss:0.50926\ttest-mlogloss:0.563263\n",
      "[56]\ttrain-mlogloss:0.507801\ttest-mlogloss:0.56272\n",
      "[57]\ttrain-mlogloss:0.506609\ttest-mlogloss:0.562261\n",
      "[58]\ttrain-mlogloss:0.505122\ttest-mlogloss:0.561544\n",
      "[59]\ttrain-mlogloss:0.503784\ttest-mlogloss:0.560856\n",
      "[60]\ttrain-mlogloss:0.502522\ttest-mlogloss:0.560341\n",
      "[61]\ttrain-mlogloss:0.501579\ttest-mlogloss:0.559957\n",
      "[62]\ttrain-mlogloss:0.500191\ttest-mlogloss:0.559539\n",
      "[63]\ttrain-mlogloss:0.499271\ttest-mlogloss:0.559094\n",
      "[64]\ttrain-mlogloss:0.498268\ttest-mlogloss:0.55856\n",
      "[65]\ttrain-mlogloss:0.497371\ttest-mlogloss:0.558432\n",
      "[66]\ttrain-mlogloss:0.496468\ttest-mlogloss:0.558108\n",
      "[67]\ttrain-mlogloss:0.495496\ttest-mlogloss:0.557583\n",
      "[68]\ttrain-mlogloss:0.49415\ttest-mlogloss:0.557056\n",
      "[69]\ttrain-mlogloss:0.493148\ttest-mlogloss:0.556747\n",
      "[70]\ttrain-mlogloss:0.492112\ttest-mlogloss:0.556446\n",
      "[71]\ttrain-mlogloss:0.490615\ttest-mlogloss:0.556012\n",
      "[72]\ttrain-mlogloss:0.489709\ttest-mlogloss:0.555721\n",
      "[73]\ttrain-mlogloss:0.488345\ttest-mlogloss:0.555273\n",
      "[74]\ttrain-mlogloss:0.48734\ttest-mlogloss:0.554896\n",
      "[75]\ttrain-mlogloss:0.485966\ttest-mlogloss:0.554283\n",
      "[76]\ttrain-mlogloss:0.484827\ttest-mlogloss:0.554015\n",
      "[77]\ttrain-mlogloss:0.48382\ttest-mlogloss:0.553565\n",
      "[78]\ttrain-mlogloss:0.483041\ttest-mlogloss:0.553245\n",
      "[79]\ttrain-mlogloss:0.482143\ttest-mlogloss:0.553047\n",
      "[80]\ttrain-mlogloss:0.480973\ttest-mlogloss:0.552674\n",
      "[81]\ttrain-mlogloss:0.480056\ttest-mlogloss:0.552249\n",
      "[82]\ttrain-mlogloss:0.479132\ttest-mlogloss:0.55202\n",
      "[83]\ttrain-mlogloss:0.478298\ttest-mlogloss:0.55177\n",
      "[84]\ttrain-mlogloss:0.4776\ttest-mlogloss:0.551514\n",
      "[85]\ttrain-mlogloss:0.476845\ttest-mlogloss:0.551337\n",
      "[86]\ttrain-mlogloss:0.476108\ttest-mlogloss:0.551171\n",
      "[87]\ttrain-mlogloss:0.475219\ttest-mlogloss:0.550917\n",
      "[88]\ttrain-mlogloss:0.474366\ttest-mlogloss:0.55057\n",
      "[89]\ttrain-mlogloss:0.473361\ttest-mlogloss:0.550262\n",
      "[90]\ttrain-mlogloss:0.472229\ttest-mlogloss:0.550006\n",
      "[91]\ttrain-mlogloss:0.471279\ttest-mlogloss:0.550038\n",
      "[92]\ttrain-mlogloss:0.470452\ttest-mlogloss:0.549884\n",
      "[93]\ttrain-mlogloss:0.469703\ttest-mlogloss:0.549633\n",
      "[94]\ttrain-mlogloss:0.468943\ttest-mlogloss:0.549383\n",
      "[95]\ttrain-mlogloss:0.468189\ttest-mlogloss:0.549125\n",
      "[96]\ttrain-mlogloss:0.467364\ttest-mlogloss:0.548983\n",
      "[97]\ttrain-mlogloss:0.466683\ttest-mlogloss:0.548802\n",
      "[98]\ttrain-mlogloss:0.465411\ttest-mlogloss:0.548418\n",
      "[99]\ttrain-mlogloss:0.464778\ttest-mlogloss:0.548216\n",
      "[100]\ttrain-mlogloss:0.463886\ttest-mlogloss:0.548028\n",
      "[101]\ttrain-mlogloss:0.463183\ttest-mlogloss:0.548029\n",
      "[102]\ttrain-mlogloss:0.462513\ttest-mlogloss:0.548003\n",
      "[103]\ttrain-mlogloss:0.46192\ttest-mlogloss:0.547847\n",
      "[104]\ttrain-mlogloss:0.460896\ttest-mlogloss:0.547569\n",
      "[105]\ttrain-mlogloss:0.459911\ttest-mlogloss:0.547305\n",
      "[106]\ttrain-mlogloss:0.458918\ttest-mlogloss:0.547011\n",
      "[107]\ttrain-mlogloss:0.457894\ttest-mlogloss:0.546821\n",
      "[108]\ttrain-mlogloss:0.45731\ttest-mlogloss:0.546866\n",
      "[109]\ttrain-mlogloss:0.456495\ttest-mlogloss:0.546749\n",
      "[110]\ttrain-mlogloss:0.455586\ttest-mlogloss:0.546585\n",
      "[111]\ttrain-mlogloss:0.455079\ttest-mlogloss:0.546536\n",
      "[112]\ttrain-mlogloss:0.454312\ttest-mlogloss:0.546289\n",
      "[113]\ttrain-mlogloss:0.453438\ttest-mlogloss:0.546201\n",
      "[114]\ttrain-mlogloss:0.452733\ttest-mlogloss:0.546093\n",
      "[115]\ttrain-mlogloss:0.451983\ttest-mlogloss:0.546004\n",
      "[116]\ttrain-mlogloss:0.450928\ttest-mlogloss:0.545785\n",
      "[117]\ttrain-mlogloss:0.450321\ttest-mlogloss:0.54561\n",
      "[118]\ttrain-mlogloss:0.449588\ttest-mlogloss:0.545318\n",
      "[119]\ttrain-mlogloss:0.448964\ttest-mlogloss:0.545063\n",
      "[120]\ttrain-mlogloss:0.448602\ttest-mlogloss:0.545083\n",
      "[121]\ttrain-mlogloss:0.447602\ttest-mlogloss:0.544894\n",
      "[122]\ttrain-mlogloss:0.446881\ttest-mlogloss:0.544692\n",
      "[123]\ttrain-mlogloss:0.446269\ttest-mlogloss:0.544638\n",
      "[124]\ttrain-mlogloss:0.445359\ttest-mlogloss:0.544317\n",
      "[125]\ttrain-mlogloss:0.444643\ttest-mlogloss:0.544281\n",
      "[126]\ttrain-mlogloss:0.443667\ttest-mlogloss:0.544141\n",
      "[127]\ttrain-mlogloss:0.443095\ttest-mlogloss:0.544077\n",
      "[128]\ttrain-mlogloss:0.44249\ttest-mlogloss:0.543958\n",
      "[129]\ttrain-mlogloss:0.442069\ttest-mlogloss:0.543872\n",
      "[130]\ttrain-mlogloss:0.441471\ttest-mlogloss:0.543823\n",
      "[131]\ttrain-mlogloss:0.441133\ttest-mlogloss:0.543785\n",
      "[132]\ttrain-mlogloss:0.440277\ttest-mlogloss:0.543604\n",
      "[133]\ttrain-mlogloss:0.439534\ttest-mlogloss:0.543432\n",
      "[134]\ttrain-mlogloss:0.439065\ttest-mlogloss:0.543494\n",
      "[135]\ttrain-mlogloss:0.438185\ttest-mlogloss:0.543484\n",
      "[136]\ttrain-mlogloss:0.437692\ttest-mlogloss:0.543406\n",
      "[137]\ttrain-mlogloss:0.436955\ttest-mlogloss:0.543316\n",
      "[138]\ttrain-mlogloss:0.436343\ttest-mlogloss:0.543312\n",
      "[139]\ttrain-mlogloss:0.43563\ttest-mlogloss:0.543139\n",
      "[140]\ttrain-mlogloss:0.435127\ttest-mlogloss:0.543128\n",
      "[141]\ttrain-mlogloss:0.434743\ttest-mlogloss:0.543088\n",
      "[142]\ttrain-mlogloss:0.433946\ttest-mlogloss:0.542965\n",
      "[143]\ttrain-mlogloss:0.433179\ttest-mlogloss:0.542663\n",
      "[144]\ttrain-mlogloss:0.43242\ttest-mlogloss:0.542506\n",
      "[145]\ttrain-mlogloss:0.431505\ttest-mlogloss:0.542507\n",
      "[146]\ttrain-mlogloss:0.430974\ttest-mlogloss:0.542405\n",
      "[147]\ttrain-mlogloss:0.430294\ttest-mlogloss:0.54228\n",
      "[148]\ttrain-mlogloss:0.429541\ttest-mlogloss:0.542226\n",
      "[149]\ttrain-mlogloss:0.428897\ttest-mlogloss:0.542095\n",
      "[150]\ttrain-mlogloss:0.428082\ttest-mlogloss:0.541926\n",
      "[151]\ttrain-mlogloss:0.427351\ttest-mlogloss:0.541811\n",
      "[152]\ttrain-mlogloss:0.426337\ttest-mlogloss:0.54158\n",
      "[153]\ttrain-mlogloss:0.425559\ttest-mlogloss:0.541646\n",
      "[154]\ttrain-mlogloss:0.424838\ttest-mlogloss:0.541566\n",
      "[155]\ttrain-mlogloss:0.424326\ttest-mlogloss:0.541558\n",
      "[156]\ttrain-mlogloss:0.423614\ttest-mlogloss:0.5416\n",
      "[157]\ttrain-mlogloss:0.423001\ttest-mlogloss:0.541583\n",
      "[158]\ttrain-mlogloss:0.42249\ttest-mlogloss:0.541514\n",
      "[159]\ttrain-mlogloss:0.42174\ttest-mlogloss:0.541447\n",
      "[160]\ttrain-mlogloss:0.421242\ttest-mlogloss:0.541325\n",
      "[161]\ttrain-mlogloss:0.420683\ttest-mlogloss:0.541175\n",
      "[162]\ttrain-mlogloss:0.420394\ttest-mlogloss:0.541269\n",
      "[163]\ttrain-mlogloss:0.419616\ttest-mlogloss:0.541284\n",
      "[164]\ttrain-mlogloss:0.418965\ttest-mlogloss:0.541206\n",
      "[165]\ttrain-mlogloss:0.418443\ttest-mlogloss:0.541217\n",
      "[166]\ttrain-mlogloss:0.417964\ttest-mlogloss:0.541287\n",
      "[167]\ttrain-mlogloss:0.417606\ttest-mlogloss:0.541194\n",
      "[168]\ttrain-mlogloss:0.416998\ttest-mlogloss:0.541073\n",
      "[169]\ttrain-mlogloss:0.416291\ttest-mlogloss:0.540888\n",
      "[170]\ttrain-mlogloss:0.415715\ttest-mlogloss:0.540844\n",
      "[171]\ttrain-mlogloss:0.415177\ttest-mlogloss:0.54087\n",
      "[172]\ttrain-mlogloss:0.414504\ttest-mlogloss:0.54087\n",
      "[173]\ttrain-mlogloss:0.413858\ttest-mlogloss:0.540888\n",
      "[174]\ttrain-mlogloss:0.413519\ttest-mlogloss:0.540908\n",
      "[175]\ttrain-mlogloss:0.413001\ttest-mlogloss:0.540817\n",
      "[176]\ttrain-mlogloss:0.41232\ttest-mlogloss:0.540744\n",
      "[177]\ttrain-mlogloss:0.411546\ttest-mlogloss:0.540738\n",
      "[178]\ttrain-mlogloss:0.410884\ttest-mlogloss:0.540618\n",
      "[179]\ttrain-mlogloss:0.410459\ttest-mlogloss:0.540564\n",
      "[180]\ttrain-mlogloss:0.409651\ttest-mlogloss:0.540482\n",
      "[181]\ttrain-mlogloss:0.409128\ttest-mlogloss:0.540572\n",
      "[182]\ttrain-mlogloss:0.408231\ttest-mlogloss:0.540456\n",
      "[183]\ttrain-mlogloss:0.40765\ttest-mlogloss:0.54043\n",
      "[184]\ttrain-mlogloss:0.407102\ttest-mlogloss:0.5404\n",
      "[185]\ttrain-mlogloss:0.406602\ttest-mlogloss:0.540285\n",
      "[186]\ttrain-mlogloss:0.405935\ttest-mlogloss:0.540322\n",
      "[187]\ttrain-mlogloss:0.40541\ttest-mlogloss:0.54033\n",
      "[188]\ttrain-mlogloss:0.404886\ttest-mlogloss:0.540264\n",
      "[189]\ttrain-mlogloss:0.404363\ttest-mlogloss:0.540207\n",
      "[190]\ttrain-mlogloss:0.403802\ttest-mlogloss:0.540229\n",
      "[191]\ttrain-mlogloss:0.403474\ttest-mlogloss:0.54031\n",
      "[192]\ttrain-mlogloss:0.403059\ttest-mlogloss:0.540351\n",
      "[193]\ttrain-mlogloss:0.402431\ttest-mlogloss:0.54032\n",
      "[194]\ttrain-mlogloss:0.40194\ttest-mlogloss:0.540338\n",
      "[195]\ttrain-mlogloss:0.401309\ttest-mlogloss:0.540321\n",
      "[196]\ttrain-mlogloss:0.400781\ttest-mlogloss:0.540151\n",
      "[197]\ttrain-mlogloss:0.400154\ttest-mlogloss:0.54002\n",
      "[198]\ttrain-mlogloss:0.399348\ttest-mlogloss:0.540045\n",
      "[199]\ttrain-mlogloss:0.398806\ttest-mlogloss:0.540033\n",
      "[200]\ttrain-mlogloss:0.398111\ttest-mlogloss:0.540077\n",
      "[201]\ttrain-mlogloss:0.397542\ttest-mlogloss:0.540103\n",
      "[202]\ttrain-mlogloss:0.397054\ttest-mlogloss:0.540113\n",
      "[203]\ttrain-mlogloss:0.396463\ttest-mlogloss:0.54\n",
      "[204]\ttrain-mlogloss:0.395759\ttest-mlogloss:0.540029\n",
      "[205]\ttrain-mlogloss:0.395248\ttest-mlogloss:0.540195\n",
      "[206]\ttrain-mlogloss:0.394863\ttest-mlogloss:0.540204\n",
      "[207]\ttrain-mlogloss:0.394273\ttest-mlogloss:0.54015\n",
      "[208]\ttrain-mlogloss:0.39354\ttest-mlogloss:0.54012\n",
      "[209]\ttrain-mlogloss:0.393011\ttest-mlogloss:0.54002\n",
      "[210]\ttrain-mlogloss:0.392371\ttest-mlogloss:0.540003\n",
      "[211]\ttrain-mlogloss:0.391872\ttest-mlogloss:0.54001\n",
      "[212]\ttrain-mlogloss:0.391494\ttest-mlogloss:0.540145\n",
      "[213]\ttrain-mlogloss:0.391055\ttest-mlogloss:0.540083\n",
      "[214]\ttrain-mlogloss:0.390494\ttest-mlogloss:0.540165\n",
      "[215]\ttrain-mlogloss:0.390004\ttest-mlogloss:0.54017\n",
      "[216]\ttrain-mlogloss:0.389245\ttest-mlogloss:0.540058\n",
      "[217]\ttrain-mlogloss:0.388726\ttest-mlogloss:0.540132\n",
      "[218]\ttrain-mlogloss:0.388329\ttest-mlogloss:0.540056\n",
      "[219]\ttrain-mlogloss:0.387768\ttest-mlogloss:0.540003\n",
      "[220]\ttrain-mlogloss:0.387229\ttest-mlogloss:0.539983\n",
      "[221]\ttrain-mlogloss:0.386736\ttest-mlogloss:0.540034\n",
      "[222]\ttrain-mlogloss:0.386195\ttest-mlogloss:0.539937\n",
      "[223]\ttrain-mlogloss:0.385713\ttest-mlogloss:0.539949\n",
      "[224]\ttrain-mlogloss:0.385224\ttest-mlogloss:0.539958\n",
      "[225]\ttrain-mlogloss:0.384588\ttest-mlogloss:0.539967\n",
      "[226]\ttrain-mlogloss:0.383975\ttest-mlogloss:0.539991\n",
      "[227]\ttrain-mlogloss:0.383512\ttest-mlogloss:0.53996\n",
      "[228]\ttrain-mlogloss:0.382825\ttest-mlogloss:0.539949\n",
      "[229]\ttrain-mlogloss:0.382142\ttest-mlogloss:0.539826\n",
      "[230]\ttrain-mlogloss:0.381597\ttest-mlogloss:0.539817\n",
      "[231]\ttrain-mlogloss:0.381225\ttest-mlogloss:0.539819\n",
      "[232]\ttrain-mlogloss:0.380645\ttest-mlogloss:0.53991\n",
      "[233]\ttrain-mlogloss:0.380215\ttest-mlogloss:0.53996\n",
      "[234]\ttrain-mlogloss:0.379805\ttest-mlogloss:0.540084\n",
      "[235]\ttrain-mlogloss:0.379481\ttest-mlogloss:0.540008\n",
      "[236]\ttrain-mlogloss:0.378909\ttest-mlogloss:0.540049\n",
      "[237]\ttrain-mlogloss:0.37835\ttest-mlogloss:0.540144\n",
      "[238]\ttrain-mlogloss:0.37804\ttest-mlogloss:0.54015\n",
      "[239]\ttrain-mlogloss:0.377412\ttest-mlogloss:0.540086\n",
      "[240]\ttrain-mlogloss:0.376783\ttest-mlogloss:0.540059\n",
      "[241]\ttrain-mlogloss:0.376286\ttest-mlogloss:0.540105\n",
      "[242]\ttrain-mlogloss:0.375706\ttest-mlogloss:0.540109\n",
      "[243]\ttrain-mlogloss:0.375293\ttest-mlogloss:0.539966\n",
      "[244]\ttrain-mlogloss:0.37474\ttest-mlogloss:0.539796\n",
      "[245]\ttrain-mlogloss:0.374188\ttest-mlogloss:0.539828\n",
      "[246]\ttrain-mlogloss:0.373784\ttest-mlogloss:0.539778\n",
      "[247]\ttrain-mlogloss:0.373322\ttest-mlogloss:0.539827\n",
      "[248]\ttrain-mlogloss:0.372932\ttest-mlogloss:0.539748\n",
      "[249]\ttrain-mlogloss:0.372494\ttest-mlogloss:0.539802\n",
      "[250]\ttrain-mlogloss:0.371918\ttest-mlogloss:0.539691\n",
      "[251]\ttrain-mlogloss:0.371206\ttest-mlogloss:0.539593\n",
      "[252]\ttrain-mlogloss:0.370739\ttest-mlogloss:0.539544\n",
      "[253]\ttrain-mlogloss:0.370397\ttest-mlogloss:0.539456\n",
      "[254]\ttrain-mlogloss:0.369909\ttest-mlogloss:0.539353\n",
      "[255]\ttrain-mlogloss:0.369483\ttest-mlogloss:0.539368\n",
      "[256]\ttrain-mlogloss:0.369261\ttest-mlogloss:0.539394\n",
      "[257]\ttrain-mlogloss:0.368962\ttest-mlogloss:0.539485\n",
      "[258]\ttrain-mlogloss:0.368402\ttest-mlogloss:0.53947\n",
      "[259]\ttrain-mlogloss:0.367896\ttest-mlogloss:0.539428\n",
      "[260]\ttrain-mlogloss:0.367208\ttest-mlogloss:0.53931\n",
      "[261]\ttrain-mlogloss:0.366505\ttest-mlogloss:0.539244\n",
      "[262]\ttrain-mlogloss:0.366256\ttest-mlogloss:0.539312\n",
      "[263]\ttrain-mlogloss:0.365719\ttest-mlogloss:0.539342\n",
      "[264]\ttrain-mlogloss:0.365167\ttest-mlogloss:0.539414\n",
      "[265]\ttrain-mlogloss:0.36468\ttest-mlogloss:0.539312\n",
      "[266]\ttrain-mlogloss:0.364231\ttest-mlogloss:0.539297\n",
      "[267]\ttrain-mlogloss:0.363732\ttest-mlogloss:0.539272\n",
      "[268]\ttrain-mlogloss:0.363287\ttest-mlogloss:0.539238\n",
      "[269]\ttrain-mlogloss:0.362786\ttest-mlogloss:0.5393\n",
      "[270]\ttrain-mlogloss:0.362209\ttest-mlogloss:0.539225\n",
      "[271]\ttrain-mlogloss:0.361512\ttest-mlogloss:0.539276\n",
      "[272]\ttrain-mlogloss:0.360697\ttest-mlogloss:0.539356\n",
      "[273]\ttrain-mlogloss:0.360136\ttest-mlogloss:0.539236\n",
      "[274]\ttrain-mlogloss:0.359775\ttest-mlogloss:0.539237\n",
      "[275]\ttrain-mlogloss:0.359126\ttest-mlogloss:0.539187\n",
      "[276]\ttrain-mlogloss:0.358641\ttest-mlogloss:0.539256\n",
      "[277]\ttrain-mlogloss:0.358016\ttest-mlogloss:0.539264\n",
      "[278]\ttrain-mlogloss:0.357759\ttest-mlogloss:0.539246\n",
      "[279]\ttrain-mlogloss:0.357349\ttest-mlogloss:0.539312\n",
      "[280]\ttrain-mlogloss:0.356881\ttest-mlogloss:0.539303\n",
      "[281]\ttrain-mlogloss:0.356629\ttest-mlogloss:0.539312\n",
      "[282]\ttrain-mlogloss:0.356191\ttest-mlogloss:0.539324\n",
      "[283]\ttrain-mlogloss:0.355927\ttest-mlogloss:0.539329\n",
      "[284]\ttrain-mlogloss:0.355365\ttest-mlogloss:0.539327\n",
      "[285]\ttrain-mlogloss:0.354752\ttest-mlogloss:0.539257\n",
      "[286]\ttrain-mlogloss:0.354352\ttest-mlogloss:0.539266\n",
      "[287]\ttrain-mlogloss:0.354116\ttest-mlogloss:0.539231\n",
      "[288]\ttrain-mlogloss:0.353587\ttest-mlogloss:0.539214\n",
      "[289]\ttrain-mlogloss:0.352963\ttest-mlogloss:0.539291\n",
      "[290]\ttrain-mlogloss:0.352424\ttest-mlogloss:0.539415\n",
      "[291]\ttrain-mlogloss:0.352172\ttest-mlogloss:0.539379\n",
      "[292]\ttrain-mlogloss:0.351811\ttest-mlogloss:0.539383\n",
      "[293]\ttrain-mlogloss:0.351302\ttest-mlogloss:0.539551\n",
      "[294]\ttrain-mlogloss:0.350777\ttest-mlogloss:0.539551\n",
      "[295]\ttrain-mlogloss:0.350343\ttest-mlogloss:0.539653\n",
      "Stopping. Best iteration:\n",
      "[275]\ttrain-mlogloss:0.359126\ttest-mlogloss:0.539187\n",
      "\n",
      "[0.5396525651161358]\n"
     ]
    }
   ],
   "source": [
    "cv_scores = []\n",
    "kf = model_selection.KFold(n_splits=5, shuffle=True, random_state=2016)\n",
    "i = 0\n",
    "for dev_index, val_index in kf.split(range(train_X_full.shape[0])):\n",
    "        #print(i)\n",
    "        i = i + 1\n",
    "        print(train_X_full.loc(dev_index))\n",
    "        dev_X, val_X = train_X_full.loc[dev_index], train_X_full.loc[val_index]\n",
    "        dev_y, val_y = train_y[dev_index], train_y[val_index]\n",
    "        preds, model = runXGB(dev_X, dev_y, val_X, val_y)\n",
    "        #print(log_loss(val_y, preds))\n",
    "        cv_scores.append(log_loss(val_y, preds))\n",
    "        print(cv_scores)\n",
    "        break"
   ]
  },
  {
   "cell_type": "code",
   "execution_count": 84,
   "metadata": {
    "collapsed": false
   },
   "outputs": [
    {
     "name": "stdout",
     "output_type": "stream",
     "text": [
      "Before train function\n"
     ]
    }
   ],
   "source": [
    "#preds, model = runXGB(train_X, train_y, test_X, num_rounds=300)\n",
    "preds, model = runXGB(train_X_full, train_y, test_X_full, num_rounds=300)\n",
    "\n",
    "out_df = pd.DataFrame(preds)\n",
    "out_df.columns = [\"high\", \"medium\", \"low\"]\n",
    "out_df[\"listing_id\"] = test_df.listing_id.values\n",
    "out_df.to_csv(\"xgb_starter_results_v11.csv\", index=False)"
   ]
  },
  {
   "cell_type": "code",
   "execution_count": 85,
   "metadata": {
    "collapsed": false
   },
   "outputs": [
    {
     "data": {
      "text/plain": [
       "<matplotlib.figure.Figure at 0x1fd4e51aac8>"
      ]
     },
     "metadata": {},
     "output_type": "display_data"
    },
    {
     "data": {
      "image/png": "[encoded data removed]",
      "text/plain": [
       "<matplotlib.figure.Figure at 0x1fd4e51b908>"
      ]
     },
     "metadata": {},
     "output_type": "display_data"
    },
    {
     "data": {
      "image/png": "[encoded data removed]",
      "text/plain": [
       "<matplotlib.figure.Figure at 0x1fd4e5086d8>"
      ]
     },
     "metadata": {},
     "output_type": "display_data"
    }
   ],
   "source": [
    "from matplotlib import pylab as plt\n",
    "from xgboost import plot_tree\n",
    "\n",
    "importance = model.get_fscore()\n",
    "importance = sorted(importance.items(), key=operator.itemgetter(1))\n",
    "\n",
    "df = pd.DataFrame(importance, columns=['feature', 'fscore'])\n",
    "df['fscore'] = df['fscore'] / df['fscore'].sum()\n",
    "df = df[df['fscore']>0.02]\n",
    "\n",
    "plt.style.use('ggplot') \n",
    "\n",
    "plt.figure()\n",
    "df.plot()\n",
    "df.plot(kind='barh', x='feature', y='fscore', legend=False, figsize=(6, 10))\n",
    "plt.title('XGBoost Feature Importance')\n",
    "plt.xlabel('relative importance')\n",
    "plt.show()"
   ]
  },
  {
   "cell_type": "code",
   "execution_count": 44,
   "metadata": {
    "collapsed": false
   },
   "outputs": [
    {
     "name": "stdout",
     "output_type": "stream",
     "text": [
      "latitude\n",
      "before xgboost\n",
      "Before train function\n",
      "sfter xgboost\n",
      "longitude\n",
      "before xgboost\n",
      "Before train function\n",
      "sfter xgboost\n",
      "price_diff\n",
      "before xgboost\n",
      "Before train function\n",
      "sfter xgboost\n",
      "price\n",
      "before xgboost\n",
      "Before train function\n",
      "sfter xgboost\n",
      "num_description_words\n",
      "before xgboost\n",
      "Before train function\n",
      "sfter xgboost\n",
      "price_t\n",
      "before xgboost\n",
      "Before train function\n",
      "sfter xgboost\n"
     ]
    }
   ],
   "source": [
    "remove_vars = [\"latitude\", \"longitude\", \"price_diff\", \"price\", \"num_description_words\", \"price_t\"]\n",
    "\n",
    "all_results_df = out_df\n",
    "for var in remove_vars:\n",
    "    print(var)\n",
    "    train_X_partial = train_X_full.drop(var, axis=1)\n",
    "    test_X_partial= test_X_full.drop(var, axis=1)\n",
    "    print(\"before xgboost\")\n",
    "    preds, model = runXGB(train_X_partial, train_y, test_X_partial, num_rounds=300)\n",
    "    print(\"sfter xgboost\")\n",
    "    out_df = pd.DataFrame(preds)\n",
    "    out_df.columns = [\"high\", \"medium\", \"low\"]\n",
    "    out_df[\"listing_id\"] = test_df.listing_id.values\n",
    "    if all_results_df.empty: \n",
    "        all_results_df = out_df\n",
    "    else:\n",
    "        all_results_df.append(out_df)\n",
    "\n",
    "final_out_df = all_results_df.groupby([\"listing_id\"]).mean()\n",
    "#out_df = out_df.add_suffix('_mean').reset_index()\n",
    "final_out_df = final_out_df.reset_index()\n",
    "\n",
    "final_out_df.to_csv(\"xgb_starter_results_v11.csv\", index=False)    "
   ]
  },
  {
   "cell_type": "markdown",
   "metadata": {},
   "source": [
    "Predicting and saving the output."
   ]
  },
  {
   "cell_type": "code",
   "execution_count": 126,
   "metadata": {
    "collapsed": false
   },
   "outputs": [
    {
     "data": {
      "text/plain": [
       "<matplotlib.figure.Figure at 0x17dcc9ebac8>"
      ]
     },
     "metadata": {},
     "output_type": "display_data"
    },
    {
     "data": {
      "image/png": "[encoded data removed]",
      "text/plain": [
       "<matplotlib.figure.Figure at 0x17dbe79f390>"
      ]
     },
     "metadata": {},
     "output_type": "display_data"
    },
    {
     "data": {
      "image/png": "[encoded data removed]",
      "text/plain": [
       "<matplotlib.figure.Figure at 0x17dbe779940>"
      ]
     },
     "metadata": {},
     "output_type": "display_data"
    }
   ],
   "source": [
    "from matplotlib import pylab as plt\n",
    "from xgboost import plot_tree\n",
    "\n",
    "importance = model.get_fscore()\n",
    "importance = sorted(importance.items(), key=operator.itemgetter(1))\n",
    "\n",
    "df = pd.DataFrame(importance, columns=['feature', 'fscore'])\n",
    "df['fscore'] = df['fscore'] / df['fscore'].sum()\n",
    "df = df[df['fscore']>0.02]\n",
    "\n",
    "plt.style.use('ggplot') \n",
    "\n",
    "plt.figure()\n",
    "df.plot()\n",
    "df.plot(kind='barh', x='feature', y='fscore', legend=False, figsize=(6, 10))\n",
    "plt.title('XGBoost Feature Importance')\n",
    "plt.xlabel('relative importance')\n",
    "plt.show()\n"
   ]
  },
  {
   "cell_type": "code",
   "execution_count": null,
   "metadata": {
    "collapsed": true
   },
   "outputs": [],
   "source": []
  }
 ],
 "metadata": {
  "kernelspec": {
   "display_name": "Python 3",
   "language": "python",
   "name": "python3"
  },
  "language_info": {
   "codemirror_mode": {
    "name": "ipython",
    "version": 3
   },
   "file_extension": ".py",
   "mimetype": "text/x-python",
   "name": "python",
   "nbconvert_exporter": "python",
   "pygments_lexer": "ipython3",
   "version": "3.6.0"
  }
 },
 "nbformat": 4,
 "nbformat_minor": 2
}
