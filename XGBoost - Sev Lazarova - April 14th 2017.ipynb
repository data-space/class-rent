{
 "cells": [
  {
   "cell_type": "markdown",
   "metadata": {},
   "source": [
    "This note book is based entirely on a Kaggle jupyter notebook. https://www.kaggle.com/guoday/two-sigma-connect-rental-listing-inquiries/cv-statistics-edited-0-5346-score/notebook"
   ]
  },
  {
   "cell_type": "code",
   "execution_count": 25,
   "metadata": {
    "collapsed": false
   },
   "outputs": [
    {
     "name": "stderr",
     "output_type": "stream",
     "text": [
      "Exception ignored in: <bound method DMatrix.__del__ of <xgboost.core.DMatrix object at 0x000001FD74A03550>>\n",
      "Traceback (most recent call last):\n",
      "  File \"C:\\Users\\sevda\\Anaconda3\\lib\\site-packages\\xgboost\\core.py\", line 324, in __del__\n",
      "    _check_call(_LIB.XGDMatrixFree(self.handle))\n",
      "AttributeError: 'DMatrix' object has no attribute 'handle'\n"
     ]
    }
   ],
   "source": [
    "import os\n",
    "import sys\n",
    "import operator\n",
    "import numpy as np\n",
    "import pandas as pd\n",
    "from scipy import sparse\n",
    "import xgboost as xgb\n",
    "import random\n",
    "from sklearn import model_selection, preprocessing, ensemble\n",
    "from sklearn.metrics import log_loss\n",
    "from sklearn.feature_extraction.text import TfidfVectorizer, CountVectorizer\n",
    "#input data\n",
    "train_df=pd.read_json('C:\\\\Users\\\\sevda\\\\Documents\\\\Data Lab\\\\Six sigma rental property\\\\train.json\\\\train.json')\n",
    "test_df=pd.read_json('C:\\\\Users\\\\sevda\\\\Documents\\\\Data Lab\\\\Six sigma rental property\\\\test.json\\\\test.json')"
   ]
  },
  {
   "cell_type": "markdown",
   "metadata": {},
   "source": [
    "We create some basic additional features based on the initial variables."
   ]
  },
  {
   "cell_type": "code",
   "execution_count": 26,
   "metadata": {
    "collapsed": true
   },
   "outputs": [],
   "source": [
    "#basic features\n",
    "train_df[\"price_t\"] =train_df[\"price\"]/train_df[\"bedrooms\"]\n",
    "test_df[\"price_t\"] = test_df[\"price\"]/test_df[\"bedrooms\"] \n",
    "train_df[\"room_sum\"] = train_df[\"bedrooms\"]+train_df[\"bathrooms\"] \n",
    "test_df[\"room_sum\"] = test_df[\"bedrooms\"]+test_df[\"bathrooms\"] \n",
    "\n",
    "# count of photos #\n",
    "train_df[\"num_photos\"] = train_df[\"photos\"].apply(len)\n",
    "test_df[\"num_photos\"] = test_df[\"photos\"].apply(len)\n",
    "\n",
    "# count of \"features\" #\n",
    "train_df[\"num_features\"] = train_df[\"features\"].apply(len)\n",
    "test_df[\"num_features\"] = test_df[\"features\"].apply(len)\n",
    "\n",
    "# count of words present in description column #\n",
    "train_df[\"num_description_words\"] = train_df[\"description\"].apply(lambda x: len(x.split(\" \")))\n",
    "test_df[\"num_description_words\"] = test_df[\"description\"].apply(lambda x: len(x.split(\" \")))\n",
    "\n",
    "\n",
    "features_to_use=[\"bathrooms\", \"bedrooms\", \"latitude\", \"longitude\", \"price\",\"price_t\",\"num_photos\", \"num_features\", \"num_description_words\",\"listing_id\"]\n"
   ]
  },
  {
   "cell_type": "markdown",
   "metadata": {},
   "source": [
    "We will create three levels of manager id valuation based on the number of low, medium and high interest for listing interest."
   ]
  },
  {
   "cell_type": "code",
   "execution_count": 27,
   "metadata": {
    "collapsed": true
   },
   "outputs": [],
   "source": [
    "index=list(range(train_df.shape[0]))\n",
    "random.shuffle(index)\n",
    "a=[np.nan]*len(train_df)\n",
    "b=[np.nan]*len(train_df)\n",
    "c=[np.nan]*len(train_df)\n",
    "\n",
    "for i in range(5):\n",
    "    building_level={}\n",
    "    for j in train_df['manager_id'].values:\n",
    "        building_level[j]=[0,0,0]\n",
    "    test_index=index[int((i*train_df.shape[0])/5):int(((i+1)*train_df.shape[0])/5)]\n",
    "    train_index=list(set(index).difference(test_index))\n",
    "    for j in train_index:\n",
    "        temp=train_df.iloc[j]\n",
    "        if temp['interest_level']=='low':\n",
    "            building_level[temp['manager_id']][0]+=1\n",
    "        if temp['interest_level']=='medium':\n",
    "            building_level[temp['manager_id']][1]+=1\n",
    "        if temp['interest_level']=='high':\n",
    "            building_level[temp['manager_id']][2]+=1\n",
    "    for j in test_index:\n",
    "        temp=train_df.iloc[j]\n",
    "        if sum(building_level[temp['manager_id']])!=0:\n",
    "            a[j]=building_level[temp['manager_id']][0]*1.0/sum(building_level[temp['manager_id']])\n",
    "            b[j]=building_level[temp['manager_id']][1]*1.0/sum(building_level[temp['manager_id']])\n",
    "            c[j]=building_level[temp['manager_id']][2]*1.0/sum(building_level[temp['manager_id']])\n",
    "train_df['manager_level_low']=a\n",
    "train_df['manager_level_medium']=b\n",
    "train_df['manager_level_high']=c\n",
    "\n",
    "\n",
    "\n",
    "a=[]\n",
    "b=[]\n",
    "c=[]\n",
    "building_level={}\n",
    "for j in train_df['manager_id'].values:\n",
    "    building_level[j]=[0,0,0]\n",
    "for j in range(train_df.shape[0]):\n",
    "    temp=train_df.iloc[j]\n",
    "    if temp['interest_level']=='low':\n",
    "        building_level[temp['manager_id']][0]+=1\n",
    "    if temp['interest_level']=='medium':\n",
    "        building_level[temp['manager_id']][1]+=1\n",
    "    if temp['interest_level']=='high':\n",
    "        building_level[temp['manager_id']][2]+=1\n",
    "\n",
    "for i in test_df['manager_id'].values:\n",
    "    if i not in building_level.keys():\n",
    "        a.append(np.nan)\n",
    "        b.append(np.nan)\n",
    "        c.append(np.nan)\n",
    "    else:\n",
    "        a.append(building_level[i][0]*1.0/sum(building_level[i]))\n",
    "        b.append(building_level[i][1]*1.0/sum(building_level[i]))\n",
    "        c.append(building_level[i][2]*1.0/sum(building_level[i]))\n",
    "test_df['manager_level_low']=a\n",
    "test_df['manager_level_medium']=b\n",
    "test_df['manager_level_high']=c\n",
    "\n",
    "#features_to_use.append('manager_level_low') \n",
    "#features_to_use.append('manager_level_medium') \n",
    "#features_to_use.append('manager_level_high')"
   ]
  },
  {
   "cell_type": "markdown",
   "metadata": {},
   "source": [
    "Label encoding transformation of the categorical variables."
   ]
  },
  {
   "cell_type": "code",
   "execution_count": 28,
   "metadata": {
    "collapsed": true
   },
   "outputs": [],
   "source": [
    "#categorical = [\"display_address\", \"manager_id\", \"building_id\", \"street_address\"]\n",
    "categorical = [\"manager_id\", \"building_id\"]\n",
    "for f in categorical:\n",
    "        if train_df[f].dtype=='object':\n",
    "            #print(f)\n",
    "            lbl = preprocessing.LabelEncoder()\n",
    "            lbl.fit(list(train_df[f].values) + list(test_df[f].values))\n",
    "            train_df[f] = lbl.transform(list(train_df[f].values))\n",
    "            test_df[f] = lbl.transform(list(test_df[f].values))\n",
    "            features_to_use.append(f)"
   ]
  },
  {
   "cell_type": "markdown",
   "metadata": {},
   "source": [
    "Introducing the neighbourhood variable."
   ]
  },
  {
   "cell_type": "code",
   "execution_count": 177,
   "metadata": {
    "collapsed": true
   },
   "outputs": [],
   "source": [
    "#Skip this one\n",
    "\n",
    "import shapefile\n",
    "\n",
    "sf = shapefile.Reader(\"C:\\\\Users\\\\sevda\\\\Documents\\\\Data Lab\\\\Six sigma rental property\\\\ZillowNeighborhoods-NY\\\\ZillowNeighborhoods-NY.shp\")\n",
    "\n",
    "shapes = sf.shapes()\n",
    "records = sf.records()\n",
    "\n",
    "towns_values = [records[i][2] for i in range(len(records))]\n",
    "neighb_values = [records[i][3] for i in range(len(records))]\n",
    "west_values = [shapes[i].bbox[0] for i in range(len(records))]\n",
    "south_values = [shapes[i].bbox[1] for i in range(len(records))]\n",
    "east_values = [shapes[i].bbox[2] for i in range(len(records))]\n",
    "north_values = [shapes[i].bbox[3] for i in range(len(records))]\n",
    "\n",
    "west, south, east, north = -74.02, 40.64, -73.85, 40.86\n",
    "\n",
    "neighbourhood_pd = pd.DataFrame({'Town' : towns_values,\n",
    "                                 'Neighbourhood' : neighb_values,\n",
    "                                 'West' : west_values,\n",
    "                                 'South' : south_values,\n",
    "                                 'East' : east_values,\n",
    "                                 'North' : north_values})\n",
    "\n",
    "neighbourhood_pd = neighbourhood_pd[neighbourhood_pd.Town == \"New York\"]\n",
    "neighbourhood_pd = neighbourhood_pd.ix[(neighbourhood_pd.West >= west) & \n",
    "                                     (neighbourhood_pd.East <= east) & \n",
    "                                     (neighbourhood_pd.South >= south) & \n",
    "                                     (neighbourhood_pd.North <= north)]\n",
    "\n",
    "neighbourhood_sorted_pd = neighbourhood_pd.sort_values(['West'])\n",
    "\n",
    "\n",
    "neighbourhood_ls = []\n",
    "for num in range(0, train_df.shape[0]):\n",
    "    temp = neighbourhood_sorted_pd[(neighbourhood_sorted_pd.West<train_df.longitude.values[num]) &\n",
    "                                   (neighbourhood_sorted_pd.East>train_df.longitude.values[num]) &\n",
    "                                   (neighbourhood_sorted_pd.South<train_df.latitude.values[num]) &\n",
    "                                   (neighbourhood_sorted_pd.North>train_df.latitude.values[num])]\n",
    "    if temp.shape[0] > 0:\n",
    "        neighbourhood_ls += [temp.Neighbourhood.values[0]]\n",
    "    else:\n",
    "        neighbourhood_ls += [\"Other\"]\n",
    "    \n",
    "train_df['neighbourhood'] = pd.Series(neighbourhood_ls, index=train_df.index)\n",
    "\n",
    "neighbourhood_ls = []\n",
    "for num in range(0, test_df.shape[0]):\n",
    "    temp = neighbourhood_sorted_pd[(neighbourhood_sorted_pd.West<test_df.longitude.values[num]) &\n",
    "                                   (neighbourhood_sorted_pd.East>test_df.longitude.values[num]) &\n",
    "                                   (neighbourhood_sorted_pd.South<test_df.latitude.values[num]) &\n",
    "                                   (neighbourhood_sorted_pd.North>test_df.latitude.values[num])]\n",
    "    if temp.shape[0] > 0:\n",
    "        neighbourhood_ls += [temp.Neighbourhood.values[0]]\n",
    "    else:\n",
    "        neighbourhood_ls += [\"Other\"]\n",
    "    \n",
    "test_df['neighbourhood'] = pd.Series(neighbourhood_ls, index=test_df.index)"
   ]
  },
  {
   "cell_type": "markdown",
   "metadata": {},
   "source": [
    "Introducing the price_diff variable"
   ]
  },
  {
   "cell_type": "code",
   "execution_count": 178,
   "metadata": {
    "collapsed": true
   },
   "outputs": [],
   "source": [
    "# Skip this one\n",
    "train_group_by = train_df[[\"bedrooms\", \"neighbourhood\", \"price\"]].groupby([\"bedrooms\", \"neighbourhood\"]).median()\n",
    "train_group_by = train_group_by.add_suffix('_median').reset_index()\n",
    "\n",
    "train_df = train_df.merge(train_group_by, left_on=['bedrooms', 'neighbourhood'], right_on=['bedrooms', 'neighbourhood'], how='outer')\n",
    "test_df = test_df.merge(train_group_by, left_on=['bedrooms', 'neighbourhood'], right_on=['bedrooms', 'neighbourhood'], how='left')\n",
    "\n",
    "train_df[\"price_diff\"] = train_df[\"price\"] - train_df[\"price_median\"]\n",
    "test_df[\"price_diff\"] = test_df[\"price\"] - test_df[\"price_median\"]"
   ]
  },
  {
   "cell_type": "code",
   "execution_count": 29,
   "metadata": {
    "collapsed": true
   },
   "outputs": [],
   "source": [
    "train_group_by = train_df[[\"bedrooms\", \"price\"]].groupby([\"bedrooms\"]).median()\n",
    "train_group_by = train_group_by.add_suffix('_median').reset_index()\n",
    "\n",
    "train_df = train_df.merge(train_group_by, left_on=['bedrooms'], right_on=['bedrooms'], how='outer')\n",
    "test_df = test_df.merge(train_group_by, left_on=['bedrooms'], right_on=['bedrooms'], how='left')\n",
    "\n",
    "train_df[\"price_diff\"] = train_df[\"price\"] - train_df[\"price_median\"]\n",
    "test_df[\"price_diff\"] = test_df[\"price\"] - test_df[\"price_median\"]"
   ]
  },
  {
   "cell_type": "markdown",
   "metadata": {},
   "source": [
    "We will use the created date and will add the day of year, week of year and a number of other data related variables."
   ]
  },
  {
   "cell_type": "code",
   "execution_count": 30,
   "metadata": {
    "collapsed": true
   },
   "outputs": [],
   "source": [
    "train_df[\"created\"] = pd.to_datetime(train_df[\"created\"])\n",
    "train_df[\"date\"]= train_df[\"created\"].dt.date\n",
    "\n",
    "train_df[\"dayofyear\"] = train_df[\"created\"].dt.dayofyear\n",
    "train_df[\"weekofyear\"] = train_df[\"created\"].dt.weekofyear\n",
    "train_df[\"weekday\"] = train_df[\"created\"].dt.weekday\n",
    "train_df[\"hour\"] = train_df[\"created\"].dt.hour\n",
    "\n",
    "test_df[\"created\"] = pd.to_datetime(test_df[\"created\"])\n",
    "test_df[\"date\"]= test_df[\"created\"].dt.date\n",
    "\n",
    "test_df[\"dayofyear\"] = test_df[\"created\"].dt.dayofyear\n",
    "test_df[\"weekofyear\"] = test_df[\"created\"].dt.weekofyear\n",
    "test_df[\"weekday\"] = test_df[\"created\"].dt.weekday\n",
    "test_df[\"hour\"] = test_df[\"created\"].dt.hour"
   ]
  },
  {
   "cell_type": "markdown",
   "metadata": {},
   "source": [
    "Adding the count of apartments available for rent in each building."
   ]
  },
  {
   "cell_type": "code",
   "execution_count": 31,
   "metadata": {
    "collapsed": true
   },
   "outputs": [],
   "source": [
    "building_id_group_by = train_df[[\"street_address\", \"building_id\"]].groupby([\"building_id\"]).count()\n",
    "building_id_group_by = building_id_group_by.add_suffix('_count').reset_index()\n",
    "\n",
    "train_df = train_df.merge(building_id_group_by, left_on=['building_id'], right_on=['building_id'], how='inner')\n",
    "test_df = test_df.merge(building_id_group_by, left_on=['building_id'], right_on=['building_id'], how='left')"
   ]
  },
  {
   "cell_type": "markdown",
   "metadata": {},
   "source": [
    "Adding a density description variable for the location of the apartments."
   ]
  },
  {
   "cell_type": "code",
   "execution_count": 32,
   "metadata": {
    "collapsed": true
   },
   "outputs": [],
   "source": [
    "train_df[\"pos\"] = train_df.longitude.round(3).astype(str) + '_' + train_df.latitude.round(3).astype(str)\n",
    "test_df[\"pos\"] = test_df.longitude.round(3).astype(str) + '_' + test_df.latitude.round(3).astype(str)\n",
    "\n",
    "vals = train_df['pos'].value_counts()\n",
    "dvals = vals.to_dict()\n",
    "train_df[\"density\"] = train_df['pos'].apply(lambda x: dvals.get(x, vals.min()))\n",
    "test_df[\"density\"] = test_df['pos'].apply(lambda x: dvals.get(x, vals.min()))"
   ]
  },
  {
   "cell_type": "code",
   "execution_count": 33,
   "metadata": {
    "collapsed": false
   },
   "outputs": [],
   "source": [
    "train_df['manager_skill'] = train_df['manager_level_high']*3 + train_df['manager_level_medium']*2 + train_df['manager_level_low']\n",
    "test_df['manager_skill'] = test_df['manager_level_high']*3 + test_df['manager_level_medium']*2 + test_df['manager_level_low']"
   ]
  },
  {
   "cell_type": "markdown",
   "metadata": {},
   "source": [
    "We are adding the newly created variable to features_to_use."
   ]
  },
  {
   "cell_type": "code",
   "execution_count": 34,
   "metadata": {
    "collapsed": true
   },
   "outputs": [],
   "source": [
    "features_to_use=[\"bathrooms\", \"bedrooms\", \"latitude\", \"longitude\", \"price\",\"price_t\",\"num_photos\", \"num_features\", \"num_description_words\",\"listing_id\"]\n",
    "\n",
    "features_to_use.append(\"price_diff\")\n",
    "features_to_use.append(\"dayofyear\")\n",
    "features_to_use.append(\"weekofyear\")\n",
    "features_to_use.append(\"weekday\")\n",
    "features_to_use.append(\"hour\")\n",
    "#features_to_use.append(\"price_diff\")\n",
    "#features_to_use.append(\"longitude\")\n",
    "#features_to_use.append(\"latitude\")\n",
    "features_to_use.append(\"street_address_count\")\n",
    "features_to_use.append(\"manager_level_low\")\n",
    "features_to_use.append(\"manager_level_medium\")\n",
    "features_to_use.append(\"manager_level_high\")\n",
    "#features_to_use.append(\"pos\")\n",
    "features_to_use.append(\"density\")\n",
    "features_to_use.append(\"manager_skill\")"
   ]
  },
  {
   "cell_type": "markdown",
   "metadata": {},
   "source": [
    "Transforming the feature variable."
   ]
  },
  {
   "cell_type": "code",
   "execution_count": 35,
   "metadata": {
    "collapsed": false
   },
   "outputs": [
    {
     "name": "stdout",
     "output_type": "stream",
     "text": [
      "0                                                     \n",
      "1                                                     \n",
      "2                                                     \n",
      "3          Doorman Elevator Dishwasher Hardwood_Floors\n",
      "4    Fireplace Dining_Room Balcony Doorman Elevator...\n",
      "Name: features, dtype: object\n"
     ]
    }
   ],
   "source": [
    "train_df['features'] = train_df[\"features\"].apply(lambda x: \" \".join([\"_\".join(i.split(\" \")) for i in x]))\n",
    "test_df['features'] = test_df[\"features\"].apply(lambda x: \" \".join([\"_\".join(i.split(\" \")) for i in x]))\n",
    "print(train_df[\"features\"].head())\n",
    "tfidf = CountVectorizer(stop_words='english', max_features=200)\n",
    "tr_sparse = tfidf.fit_transform(train_df[\"features\"])\n",
    "te_sparse = tfidf.transform(test_df[\"features\"])\n",
    "\n",
    "col_desc = ['desc_'+ i for i in tfidf.get_feature_names()] \n",
    "count_vect_df = pd.DataFrame(tr_sparse.todense(), columns=col_desc)\n",
    "train_X_full = pd.concat([train_df[features_to_use].reset_index(),count_vect_df],axis=1)\n",
    "\n",
    "count_vect_test_df = pd.DataFrame(te_sparse.todense(), columns=col_desc)\n",
    "test_X_full = pd.concat([test_df[features_to_use].reset_index(),count_vect_test_df],axis=1)"
   ]
  },
  {
   "cell_type": "markdown",
   "metadata": {},
   "source": [
    "Source for part of the code https://www.kaggle.com/ug2409/two-sigma-connect-rental-listing-inquiries/using-description-as-the-only-feature-72-cv"
   ]
  },
  {
   "cell_type": "code",
   "execution_count": 36,
   "metadata": {
    "collapsed": false
   },
   "outputs": [
    {
     "name": "stdout",
     "output_type": "stream",
     "text": [
      "(74659, 222)\n",
      "(49352, 222)\n"
     ]
    }
   ],
   "source": [
    "print(test_X_full.shape)\n",
    "print(train_X_full.shape)"
   ]
  },
  {
   "cell_type": "code",
   "execution_count": 37,
   "metadata": {
    "collapsed": false
   },
   "outputs": [
    {
     "name": "stdout",
     "output_type": "stream",
     "text": [
      "['index' 'bathrooms' 'bedrooms' 'latitude' 'longitude' 'price' 'price_t'\n",
      " 'num_photos' 'num_features' 'num_description_words' 'listing_id'\n",
      " 'price_diff' 'dayofyear' 'weekofyear' 'weekday' 'hour'\n",
      " 'street_address_count' 'manager_level_low' 'manager_level_medium'\n",
      " 'manager_level_high' 'density' 'manager_skill' 'desc_24' 'desc__balconies'\n",
      " 'desc__dishwasher_' 'desc__dryer' 'desc__eat' 'desc__elev'\n",
      " 'desc__exposed_brick_' 'desc__gourmet_kitchen_' 'desc__gut_renovated_'\n",
      " 'desc__lndry_bldg_' 'desc__massive_1br_home_' 'desc__mr_clean_approved_'\n",
      " 'desc__new_' 'desc__pets_ok_' 'desc__photos' 'desc__roomy_closets_'\n",
      " 'desc__walls_of_windows_' 'desc_actual_apt' 'desc_air_conditioning'\n",
      " 'desc_all_utilities_included' 'desc_assigned' 'desc_attended_lobby'\n",
      " 'desc_backyard' 'desc_balcony' 'desc_basement_storage' 'desc_bike_room'\n",
      " 'desc_bike_storage' 'desc_billiards_room' 'desc_brownstone'\n",
      " 'desc_building' 'desc_business_center' 'desc_cable' 'desc_cats_allowed'\n",
      " 'desc_central_a' 'desc_central_ac' 'desc_central_air' 'desc_children'\n",
      " 'desc_childrens_playroom' 'desc_common' 'desc_common_backyard'\n",
      " 'desc_common_garden' 'desc_common_outdoor_space' 'desc_common_parking'\n",
      " 'desc_common_roof_deck' 'desc_common_terrace'\n",
      " 'desc_community_recreation_facilities' 'desc_concierge'\n",
      " 'desc_concierge_service' 'desc_courtyard' 'desc_deck'\n",
      " 'desc_decorative_fireplace' 'desc_dining_room' 'desc_dishwasher'\n",
      " 'desc_dogs_allowed' 'desc_doorman' 'desc_dryer' 'desc_dryer_in_building'\n",
      " 'desc_dryer_in_unit' 'desc_duplex' 'desc_eat' 'desc_eat_in_kitchen'\n",
      " 'desc_elevator' 'desc_exclusive' 'desc_exposed_brick' 'desc_fireplace'\n",
      " 'desc_fitness' 'desc_fitness_center' 'desc_flex' 'desc_ft_doorman'\n",
      " 'desc_full_service_garage' 'desc_furnished' 'desc_garage' 'desc_garden'\n",
      " 'desc_granite_kitchen' 'desc_green_building' 'desc_guarantors_accepted'\n",
      " 'desc_gut_renovated' 'desc_gym' 'desc_gym_in_building' 'desc_hardwood'\n",
      " 'desc_hardwood_floors' 'desc_health_club' 'desc_hi_rise' 'desc_high'\n",
      " 'desc_high_ceiling' 'desc_high_ceilings' 'desc_high_speed_internet'\n",
      " 'desc_highrise' 'desc_in_closet' 'desc_in_kitchen' 'desc_in_kitchen_'\n",
      " 'desc_in_super' 'desc_in_superintendent' 'desc_indoor_pool' 'desc_laundry'\n",
      " 'desc_laundry_' 'desc_laundry_in_building' 'desc_laundry_in_unit'\n",
      " 'desc_laundry_on_floor' 'desc_laundry_room' 'desc_level' 'desc_light'\n",
      " 'desc_live' 'desc_live_in_super' 'desc_lndry_bldg_' 'desc_loft'\n",
      " 'desc_lounge' 'desc_lounge_room' 'desc_lowrise' 'desc_luxury_building'\n",
      " 'desc_mail_room' 'desc_marble_bath' 'desc_marble_bathroom'\n",
      " 'desc_microwave' 'desc_midrise' 'desc_multi' 'desc_new_construction'\n",
      " 'desc_newly_renovated' 'desc_no_fee' 'desc_no_pets' 'desc_nursery'\n",
      " 'desc_outdoor' 'desc_outdoor_areas' 'desc_outdoor_entertainment_space'\n",
      " 'desc_outdoor_pool' 'desc_outdoor_space' 'desc_package_room'\n",
      " 'desc_parking' 'desc_parking_space' 'desc_patio' 'desc_pet_friendly'\n",
      " 'desc_pets' 'desc_pets_allowed' 'desc_pets_on_approval' 'desc_playroom'\n",
      " 'desc_pool' 'desc_post' 'desc_post_war' 'desc_pre' 'desc_prewar'\n",
      " 'desc_private' 'desc_private_backyard' 'desc_private_balcony'\n",
      " 'desc_private_deck' 'desc_private_outdoor_space' 'desc_private_parking'\n",
      " 'desc_private_terrace' 'desc_publicoutdoor' 'desc_reduced_fee'\n",
      " 'desc_renovated' 'desc_residents_garden' 'desc_residents_lounge'\n",
      " 'desc_roof' 'desc_roof_deck' 'desc_roofdeck' 'desc_rooftop_deck'\n",
      " 'desc_rooftop_terrace' 'desc_s_kitchen_' 'desc_s_playroom'\n",
      " 'desc_satellite_tv' 'desc_sauna' 'desc_screening_room'\n",
      " 'desc_shared_backyard' 'desc_shares_ok' 'desc_short_term_allowed'\n",
      " 'desc_simplex' 'desc_site_garage' 'desc_site_laundry' 'desc_site_parking'\n",
      " 'desc_site_parking_lot' 'desc_site_super' 'desc_skylight' 'desc_space'\n",
      " 'desc_speed_internet' 'desc_stainless_steel_appliances' 'desc_storage'\n",
      " 'desc_storage_room' 'desc_sublet' 'desc_subway' 'desc_sundeck'\n",
      " 'desc_swimming_pool' 'desc_terrace' 'desc_terraces_' 'desc_time_doorman'\n",
      " 'desc_unit_washer' 'desc_valet' 'desc_valet_parking' 'desc_video_intercom'\n",
      " 'desc_view' 'desc_virtual_doorman' 'desc_walk' 'desc_walk_in_closet'\n",
      " 'desc_war' 'desc_washer' 'desc_washer_' 'desc_washer_in_unit'\n",
      " 'desc_wheelchair_access' 'desc_wheelchair_ramp' 'desc_wifi_access'\n",
      " 'desc_work']\n"
     ]
    }
   ],
   "source": [
    "print(test_X_full.columns.values)"
   ]
  },
  {
   "cell_type": "markdown",
   "metadata": {},
   "source": [
    "Now we will combine the newly created feature variables, which represent whether a feature is present or not, with the initial data frame"
   ]
  },
  {
   "cell_type": "code",
   "execution_count": 38,
   "metadata": {
    "collapsed": false
   },
   "outputs": [],
   "source": [
    "#train_X = sparse.hstack([train_df[features_to_use], tr_sparse]).tocsr()\n",
    "#test_X = sparse.hstack([test_df[features_to_use], te_sparse]).tocsr()\n",
    "\n",
    "target_num_map = {'high':0, 'medium':1, 'low':2}\n",
    "train_y = np.array(train_df['interest_level'].apply(lambda x: target_num_map[x]))\n",
    "#print(train_X.shape, test_X.shape)"
   ]
  },
  {
   "cell_type": "markdown",
   "metadata": {},
   "source": [
    "We will define the XGBoost function"
   ]
  },
  {
   "cell_type": "code",
   "execution_count": 39,
   "metadata": {
    "collapsed": true
   },
   "outputs": [],
   "source": [
    "def runXGB(train_X, train_y, test_X, test_y=None, feature_names=None, seed_val=0, num_rounds=1000):\n",
    "    param = {}\n",
    "    param['objective'] = 'multi:softprob'\n",
    "    param['eta'] = 0.1\n",
    "    param['max_depth'] = 6\n",
    "    param['silent'] = 1\n",
    "    param['num_class'] = 3\n",
    "    param['eval_metric'] = \"mlogloss\"\n",
    "    param['min_child_weight'] = 1\n",
    "    param['subsample'] = 0.7\n",
    "    param['colsample_bytree'] = 0.7\n",
    "    param['seed'] = seed_val\n",
    "    num_rounds = num_rounds\n",
    "\n",
    "    plst = list(param.items())\n",
    "    xgtrain = xgb.DMatrix(train_X, label=train_y)\n",
    "\n",
    "    if test_y is not None:\n",
    "        xgtest = xgb.DMatrix(test_X, label=test_y)\n",
    "        watchlist = [ (xgtrain,'train'), (xgtest, 'test') ]\n",
    "        model = xgb.train(plst, xgtrain, num_rounds, watchlist, early_stopping_rounds=20)\n",
    "    else:\n",
    "        xgtest = xgb.DMatrix(test_X)\n",
    "        print(\"Before train function\")\n",
    "        model = xgb.train(plst, xgtrain, num_rounds)\n",
    "\n",
    "    pred_test_y = model.predict(xgtest)\n",
    "    return pred_test_y, model"
   ]
  },
  {
   "cell_type": "code",
   "execution_count": 40,
   "metadata": {
    "collapsed": false
   },
   "outputs": [
    {
     "name": "stdout",
     "output_type": "stream",
     "text": [
      "<pandas.core.indexing._LocIndexer object at 0x000001FD3BB36748>\n",
      "[0]\ttrain-mlogloss:1.03125\ttest-mlogloss:1.03301\n",
      "Multiple eval metrics have been passed: 'test-mlogloss' will be used for early stopping.\n",
      "\n",
      "Will train until test-mlogloss hasn't improved in 20 rounds.\n",
      "[1]\ttrain-mlogloss:0.974606\ttest-mlogloss:0.978001\n",
      "[2]\ttrain-mlogloss:0.925196\ttest-mlogloss:0.930154\n",
      "[3]\ttrain-mlogloss:0.883222\ttest-mlogloss:0.889813\n",
      "[4]\ttrain-mlogloss:0.846494\ttest-mlogloss:0.854659\n",
      "[5]\ttrain-mlogloss:0.814455\ttest-mlogloss:0.824125\n",
      "[6]\ttrain-mlogloss:0.786507\ttest-mlogloss:0.797427\n",
      "[7]\ttrain-mlogloss:0.761753\ttest-mlogloss:0.773821\n",
      "[8]\ttrain-mlogloss:0.739758\ttest-mlogloss:0.752986\n",
      "[9]\ttrain-mlogloss:0.720179\ttest-mlogloss:0.734759\n",
      "[10]\ttrain-mlogloss:0.70314\ttest-mlogloss:0.718803\n",
      "[11]\ttrain-mlogloss:0.687773\ttest-mlogloss:0.704453\n",
      "[12]\ttrain-mlogloss:0.673814\ttest-mlogloss:0.69176\n",
      "[13]\ttrain-mlogloss:0.661481\ttest-mlogloss:0.680547\n",
      "[14]\ttrain-mlogloss:0.650267\ttest-mlogloss:0.670467\n",
      "[15]\ttrain-mlogloss:0.639958\ttest-mlogloss:0.661184\n",
      "[16]\ttrain-mlogloss:0.63081\ttest-mlogloss:0.653151\n",
      "[17]\ttrain-mlogloss:0.622144\ttest-mlogloss:0.645658\n",
      "[18]\ttrain-mlogloss:0.614216\ttest-mlogloss:0.638844\n",
      "[19]\ttrain-mlogloss:0.60717\ttest-mlogloss:0.63285\n",
      "[20]\ttrain-mlogloss:0.601159\ttest-mlogloss:0.627696\n",
      "[21]\ttrain-mlogloss:0.594944\ttest-mlogloss:0.622371\n",
      "[22]\ttrain-mlogloss:0.589023\ttest-mlogloss:0.617458\n",
      "[23]\ttrain-mlogloss:0.583957\ttest-mlogloss:0.613226\n",
      "[24]\ttrain-mlogloss:0.579739\ttest-mlogloss:0.609771\n",
      "[25]\ttrain-mlogloss:0.575297\ttest-mlogloss:0.606159\n",
      "[26]\ttrain-mlogloss:0.571337\ttest-mlogloss:0.6031\n",
      "[27]\ttrain-mlogloss:0.567627\ttest-mlogloss:0.600145\n",
      "[28]\ttrain-mlogloss:0.564213\ttest-mlogloss:0.59749\n",
      "[29]\ttrain-mlogloss:0.560986\ttest-mlogloss:0.595238\n",
      "[30]\ttrain-mlogloss:0.557872\ttest-mlogloss:0.592683\n",
      "[31]\ttrain-mlogloss:0.554817\ttest-mlogloss:0.590554\n",
      "[32]\ttrain-mlogloss:0.551989\ttest-mlogloss:0.588637\n",
      "[33]\ttrain-mlogloss:0.548992\ttest-mlogloss:0.586557\n",
      "[34]\ttrain-mlogloss:0.546436\ttest-mlogloss:0.584735\n",
      "[35]\ttrain-mlogloss:0.544356\ttest-mlogloss:0.583273\n",
      "[36]\ttrain-mlogloss:0.542242\ttest-mlogloss:0.581788\n",
      "[37]\ttrain-mlogloss:0.539907\ttest-mlogloss:0.580216\n",
      "[38]\ttrain-mlogloss:0.537775\ttest-mlogloss:0.578882\n",
      "[39]\ttrain-mlogloss:0.535736\ttest-mlogloss:0.577582\n",
      "[40]\ttrain-mlogloss:0.533763\ttest-mlogloss:0.576199\n",
      "[41]\ttrain-mlogloss:0.531517\ttest-mlogloss:0.574918\n",
      "[42]\ttrain-mlogloss:0.529723\ttest-mlogloss:0.574046\n",
      "[43]\ttrain-mlogloss:0.527873\ttest-mlogloss:0.57306\n",
      "[44]\ttrain-mlogloss:0.526153\ttest-mlogloss:0.571941\n",
      "[45]\ttrain-mlogloss:0.524119\ttest-mlogloss:0.570941\n",
      "[46]\ttrain-mlogloss:0.522233\ttest-mlogloss:0.569723\n",
      "[47]\ttrain-mlogloss:0.520485\ttest-mlogloss:0.568956\n",
      "[48]\ttrain-mlogloss:0.518983\ttest-mlogloss:0.568088\n",
      "[49]\ttrain-mlogloss:0.517543\ttest-mlogloss:0.567391\n",
      "[50]\ttrain-mlogloss:0.516005\ttest-mlogloss:0.566396\n",
      "[51]\ttrain-mlogloss:0.514415\ttest-mlogloss:0.565562\n",
      "[52]\ttrain-mlogloss:0.513207\ttest-mlogloss:0.56506\n",
      "[53]\ttrain-mlogloss:0.512028\ttest-mlogloss:0.564444\n",
      "[54]\ttrain-mlogloss:0.510513\ttest-mlogloss:0.563794\n",
      "[55]\ttrain-mlogloss:0.509529\ttest-mlogloss:0.563111\n",
      "[56]\ttrain-mlogloss:0.508124\ttest-mlogloss:0.562355\n",
      "[57]\ttrain-mlogloss:0.506917\ttest-mlogloss:0.561851\n",
      "[58]\ttrain-mlogloss:0.505549\ttest-mlogloss:0.561178\n",
      "[59]\ttrain-mlogloss:0.50432\ttest-mlogloss:0.560608\n",
      "[60]\ttrain-mlogloss:0.503278\ttest-mlogloss:0.560303\n",
      "[61]\ttrain-mlogloss:0.502217\ttest-mlogloss:0.559783\n",
      "[62]\ttrain-mlogloss:0.501077\ttest-mlogloss:0.559433\n",
      "[63]\ttrain-mlogloss:0.500174\ttest-mlogloss:0.558959\n",
      "[64]\ttrain-mlogloss:0.499246\ttest-mlogloss:0.558585\n",
      "[65]\ttrain-mlogloss:0.498239\ttest-mlogloss:0.558226\n",
      "[66]\ttrain-mlogloss:0.49689\ttest-mlogloss:0.557648\n",
      "[67]\ttrain-mlogloss:0.495461\ttest-mlogloss:0.557124\n",
      "[68]\ttrain-mlogloss:0.493997\ttest-mlogloss:0.556716\n",
      "[69]\ttrain-mlogloss:0.4929\ttest-mlogloss:0.556308\n",
      "[70]\ttrain-mlogloss:0.491959\ttest-mlogloss:0.555969\n",
      "[71]\ttrain-mlogloss:0.490779\ttest-mlogloss:0.555548\n",
      "[72]\ttrain-mlogloss:0.489611\ttest-mlogloss:0.555224\n",
      "[73]\ttrain-mlogloss:0.488511\ttest-mlogloss:0.554826\n",
      "[74]\ttrain-mlogloss:0.48741\ttest-mlogloss:0.554354\n",
      "[75]\ttrain-mlogloss:0.486345\ttest-mlogloss:0.553927\n",
      "[76]\ttrain-mlogloss:0.485461\ttest-mlogloss:0.553421\n",
      "[77]\ttrain-mlogloss:0.484812\ttest-mlogloss:0.553101\n",
      "[78]\ttrain-mlogloss:0.483907\ttest-mlogloss:0.552833\n",
      "[79]\ttrain-mlogloss:0.482821\ttest-mlogloss:0.552654\n",
      "[80]\ttrain-mlogloss:0.482006\ttest-mlogloss:0.552374\n",
      "[81]\ttrain-mlogloss:0.481332\ttest-mlogloss:0.552032\n",
      "[82]\ttrain-mlogloss:0.480317\ttest-mlogloss:0.551729\n",
      "[83]\ttrain-mlogloss:0.479432\ttest-mlogloss:0.551306\n",
      "[84]\ttrain-mlogloss:0.478528\ttest-mlogloss:0.551079\n",
      "[85]\ttrain-mlogloss:0.477438\ttest-mlogloss:0.550885\n",
      "[86]\ttrain-mlogloss:0.476539\ttest-mlogloss:0.550478\n",
      "[87]\ttrain-mlogloss:0.47558\ttest-mlogloss:0.550415\n",
      "[88]\ttrain-mlogloss:0.474811\ttest-mlogloss:0.550171\n",
      "[89]\ttrain-mlogloss:0.473807\ttest-mlogloss:0.549937\n",
      "[90]\ttrain-mlogloss:0.473207\ttest-mlogloss:0.549791\n",
      "[91]\ttrain-mlogloss:0.472621\ttest-mlogloss:0.549533\n",
      "[92]\ttrain-mlogloss:0.471536\ttest-mlogloss:0.549266\n",
      "[93]\ttrain-mlogloss:0.470463\ttest-mlogloss:0.548887\n",
      "[94]\ttrain-mlogloss:0.469604\ttest-mlogloss:0.548675\n",
      "[95]\ttrain-mlogloss:0.468751\ttest-mlogloss:0.548541\n",
      "[96]\ttrain-mlogloss:0.467922\ttest-mlogloss:0.548333\n",
      "[97]\ttrain-mlogloss:0.467255\ttest-mlogloss:0.54812\n",
      "[98]\ttrain-mlogloss:0.466543\ttest-mlogloss:0.547925\n",
      "[99]\ttrain-mlogloss:0.465868\ttest-mlogloss:0.547698\n",
      "[100]\ttrain-mlogloss:0.464919\ttest-mlogloss:0.547525\n",
      "[101]\ttrain-mlogloss:0.464445\ttest-mlogloss:0.547341\n",
      "[102]\ttrain-mlogloss:0.463567\ttest-mlogloss:0.547205\n",
      "[103]\ttrain-mlogloss:0.462613\ttest-mlogloss:0.547123\n",
      "[104]\ttrain-mlogloss:0.461778\ttest-mlogloss:0.547017\n",
      "[105]\ttrain-mlogloss:0.460807\ttest-mlogloss:0.546775\n",
      "[106]\ttrain-mlogloss:0.459996\ttest-mlogloss:0.54659\n",
      "[107]\ttrain-mlogloss:0.45918\ttest-mlogloss:0.546416\n",
      "[108]\ttrain-mlogloss:0.458467\ttest-mlogloss:0.546297\n",
      "[109]\ttrain-mlogloss:0.457697\ttest-mlogloss:0.546059\n",
      "[110]\ttrain-mlogloss:0.456908\ttest-mlogloss:0.545823\n",
      "[111]\ttrain-mlogloss:0.456053\ttest-mlogloss:0.545618\n",
      "[112]\ttrain-mlogloss:0.455411\ttest-mlogloss:0.545454\n",
      "[113]\ttrain-mlogloss:0.454556\ttest-mlogloss:0.545223\n",
      "[114]\ttrain-mlogloss:0.454024\ttest-mlogloss:0.545177\n",
      "[115]\ttrain-mlogloss:0.453525\ttest-mlogloss:0.545118\n",
      "[116]\ttrain-mlogloss:0.452717\ttest-mlogloss:0.545044\n",
      "[117]\ttrain-mlogloss:0.452098\ttest-mlogloss:0.54493\n",
      "[118]\ttrain-mlogloss:0.451798\ttest-mlogloss:0.544837\n",
      "[119]\ttrain-mlogloss:0.450776\ttest-mlogloss:0.544708\n",
      "[120]\ttrain-mlogloss:0.450119\ttest-mlogloss:0.544628\n",
      "[121]\ttrain-mlogloss:0.449113\ttest-mlogloss:0.544367\n",
      "[122]\ttrain-mlogloss:0.448153\ttest-mlogloss:0.544149\n",
      "[123]\ttrain-mlogloss:0.447776\ttest-mlogloss:0.544056\n",
      "[124]\ttrain-mlogloss:0.447095\ttest-mlogloss:0.543878\n",
      "[125]\ttrain-mlogloss:0.446222\ttest-mlogloss:0.543611\n",
      "[126]\ttrain-mlogloss:0.445456\ttest-mlogloss:0.543444\n",
      "[127]\ttrain-mlogloss:0.444618\ttest-mlogloss:0.54327\n",
      "[128]\ttrain-mlogloss:0.44406\ttest-mlogloss:0.54332\n",
      "[129]\ttrain-mlogloss:0.443496\ttest-mlogloss:0.543208\n",
      "[130]\ttrain-mlogloss:0.442651\ttest-mlogloss:0.543055\n",
      "[131]\ttrain-mlogloss:0.441969\ttest-mlogloss:0.543018\n",
      "[132]\ttrain-mlogloss:0.441299\ttest-mlogloss:0.542878\n",
      "[133]\ttrain-mlogloss:0.44074\ttest-mlogloss:0.542849\n",
      "[134]\ttrain-mlogloss:0.439818\ttest-mlogloss:0.542765\n",
      "[135]\ttrain-mlogloss:0.43909\ttest-mlogloss:0.542797\n",
      "[136]\ttrain-mlogloss:0.438689\ttest-mlogloss:0.542766\n",
      "[137]\ttrain-mlogloss:0.438004\ttest-mlogloss:0.542662\n",
      "[138]\ttrain-mlogloss:0.437205\ttest-mlogloss:0.542535\n",
      "[139]\ttrain-mlogloss:0.436628\ttest-mlogloss:0.542435\n",
      "[140]\ttrain-mlogloss:0.436209\ttest-mlogloss:0.542358\n",
      "[141]\ttrain-mlogloss:0.435545\ttest-mlogloss:0.542292\n",
      "[142]\ttrain-mlogloss:0.434833\ttest-mlogloss:0.542123\n",
      "[143]\ttrain-mlogloss:0.434153\ttest-mlogloss:0.541915\n",
      "[144]\ttrain-mlogloss:0.433332\ttest-mlogloss:0.541727\n",
      "[145]\ttrain-mlogloss:0.432816\ttest-mlogloss:0.541618\n",
      "[146]\ttrain-mlogloss:0.432251\ttest-mlogloss:0.541538\n",
      "[147]\ttrain-mlogloss:0.431531\ttest-mlogloss:0.541488\n",
      "[148]\ttrain-mlogloss:0.43086\ttest-mlogloss:0.541349\n",
      "[149]\ttrain-mlogloss:0.430264\ttest-mlogloss:0.541377\n",
      "[150]\ttrain-mlogloss:0.429528\ttest-mlogloss:0.5413\n",
      "[151]\ttrain-mlogloss:0.428818\ttest-mlogloss:0.541172\n",
      "[152]\ttrain-mlogloss:0.428196\ttest-mlogloss:0.540898\n",
      "[153]\ttrain-mlogloss:0.427581\ttest-mlogloss:0.540652\n",
      "[154]\ttrain-mlogloss:0.427122\ttest-mlogloss:0.540552\n",
      "[155]\ttrain-mlogloss:0.426572\ttest-mlogloss:0.540548\n",
      "[156]\ttrain-mlogloss:0.426052\ttest-mlogloss:0.540501\n",
      "[157]\ttrain-mlogloss:0.42531\ttest-mlogloss:0.540462\n",
      "[158]\ttrain-mlogloss:0.424545\ttest-mlogloss:0.540384\n",
      "[159]\ttrain-mlogloss:0.423978\ttest-mlogloss:0.540443\n",
      "[160]\ttrain-mlogloss:0.423465\ttest-mlogloss:0.540317\n",
      "[161]\ttrain-mlogloss:0.422769\ttest-mlogloss:0.540232\n",
      "[162]\ttrain-mlogloss:0.421876\ttest-mlogloss:0.540081\n",
      "[163]\ttrain-mlogloss:0.421507\ttest-mlogloss:0.540004\n",
      "[164]\ttrain-mlogloss:0.420921\ttest-mlogloss:0.539935\n",
      "[165]\ttrain-mlogloss:0.420469\ttest-mlogloss:0.539942\n",
      "[166]\ttrain-mlogloss:0.419828\ttest-mlogloss:0.53997\n",
      "[167]\ttrain-mlogloss:0.419171\ttest-mlogloss:0.539919\n",
      "[168]\ttrain-mlogloss:0.418613\ttest-mlogloss:0.539865\n",
      "[169]\ttrain-mlogloss:0.417953\ttest-mlogloss:0.539748\n",
      "[170]\ttrain-mlogloss:0.417216\ttest-mlogloss:0.539597\n",
      "[171]\ttrain-mlogloss:0.416717\ttest-mlogloss:0.539695\n",
      "[172]\ttrain-mlogloss:0.415622\ttest-mlogloss:0.539692\n",
      "[173]\ttrain-mlogloss:0.41487\ttest-mlogloss:0.539717\n",
      "[174]\ttrain-mlogloss:0.414476\ttest-mlogloss:0.539667\n",
      "[175]\ttrain-mlogloss:0.413786\ttest-mlogloss:0.539466\n",
      "[176]\ttrain-mlogloss:0.413093\ttest-mlogloss:0.539397\n",
      "[177]\ttrain-mlogloss:0.41247\ttest-mlogloss:0.539397\n",
      "[178]\ttrain-mlogloss:0.412053\ttest-mlogloss:0.539299\n",
      "[179]\ttrain-mlogloss:0.411599\ttest-mlogloss:0.539293\n",
      "[180]\ttrain-mlogloss:0.410879\ttest-mlogloss:0.539277\n",
      "[181]\ttrain-mlogloss:0.41031\ttest-mlogloss:0.539204\n",
      "[182]\ttrain-mlogloss:0.409664\ttest-mlogloss:0.539163\n",
      "[183]\ttrain-mlogloss:0.409143\ttest-mlogloss:0.539123\n",
      "[184]\ttrain-mlogloss:0.408645\ttest-mlogloss:0.539089\n",
      "[185]\ttrain-mlogloss:0.408071\ttest-mlogloss:0.539114\n",
      "[186]\ttrain-mlogloss:0.407568\ttest-mlogloss:0.53903\n",
      "[187]\ttrain-mlogloss:0.4072\ttest-mlogloss:0.539021\n",
      "[188]\ttrain-mlogloss:0.406783\ttest-mlogloss:0.538996\n",
      "[189]\ttrain-mlogloss:0.406306\ttest-mlogloss:0.538965\n",
      "[190]\ttrain-mlogloss:0.40583\ttest-mlogloss:0.538913\n",
      "[191]\ttrain-mlogloss:0.405356\ttest-mlogloss:0.538895\n",
      "[192]\ttrain-mlogloss:0.404862\ttest-mlogloss:0.538912\n",
      "[193]\ttrain-mlogloss:0.404339\ttest-mlogloss:0.538839\n",
      "[194]\ttrain-mlogloss:0.403711\ttest-mlogloss:0.538732\n",
      "[195]\ttrain-mlogloss:0.403082\ttest-mlogloss:0.538645\n",
      "[196]\ttrain-mlogloss:0.402442\ttest-mlogloss:0.53864\n",
      "[197]\ttrain-mlogloss:0.401903\ttest-mlogloss:0.538492\n",
      "[198]\ttrain-mlogloss:0.401439\ttest-mlogloss:0.538502\n",
      "[199]\ttrain-mlogloss:0.400904\ttest-mlogloss:0.538476\n",
      "[200]\ttrain-mlogloss:0.400307\ttest-mlogloss:0.538424\n",
      "[201]\ttrain-mlogloss:0.3998\ttest-mlogloss:0.538315\n",
      "[202]\ttrain-mlogloss:0.399288\ttest-mlogloss:0.53833\n",
      "[203]\ttrain-mlogloss:0.398971\ttest-mlogloss:0.538198\n",
      "[204]\ttrain-mlogloss:0.398682\ttest-mlogloss:0.538261\n",
      "[205]\ttrain-mlogloss:0.398338\ttest-mlogloss:0.538317\n",
      "[206]\ttrain-mlogloss:0.397822\ttest-mlogloss:0.53836\n",
      "[207]\ttrain-mlogloss:0.397418\ttest-mlogloss:0.53836\n",
      "[208]\ttrain-mlogloss:0.396766\ttest-mlogloss:0.538343\n",
      "[209]\ttrain-mlogloss:0.396242\ttest-mlogloss:0.538241\n",
      "[210]\ttrain-mlogloss:0.395906\ttest-mlogloss:0.538139\n",
      "[211]\ttrain-mlogloss:0.395466\ttest-mlogloss:0.538092\n",
      "[212]\ttrain-mlogloss:0.394823\ttest-mlogloss:0.538115\n",
      "[213]\ttrain-mlogloss:0.394439\ttest-mlogloss:0.538066\n",
      "[214]\ttrain-mlogloss:0.394051\ttest-mlogloss:0.538032\n",
      "[215]\ttrain-mlogloss:0.393675\ttest-mlogloss:0.538004\n",
      "[216]\ttrain-mlogloss:0.393156\ttest-mlogloss:0.537983\n",
      "[217]\ttrain-mlogloss:0.392654\ttest-mlogloss:0.537904\n",
      "[218]\ttrain-mlogloss:0.392173\ttest-mlogloss:0.537838\n",
      "[219]\ttrain-mlogloss:0.391756\ttest-mlogloss:0.537781\n",
      "[220]\ttrain-mlogloss:0.391246\ttest-mlogloss:0.537761\n",
      "[221]\ttrain-mlogloss:0.390833\ttest-mlogloss:0.537836\n",
      "[222]\ttrain-mlogloss:0.390231\ttest-mlogloss:0.537817\n",
      "[223]\ttrain-mlogloss:0.389828\ttest-mlogloss:0.537904\n",
      "[224]\ttrain-mlogloss:0.3892\ttest-mlogloss:0.537999\n",
      "[225]\ttrain-mlogloss:0.388952\ttest-mlogloss:0.537989\n",
      "[226]\ttrain-mlogloss:0.388452\ttest-mlogloss:0.537919\n",
      "[227]\ttrain-mlogloss:0.387964\ttest-mlogloss:0.537845\n",
      "[228]\ttrain-mlogloss:0.387354\ttest-mlogloss:0.537863\n",
      "[229]\ttrain-mlogloss:0.386737\ttest-mlogloss:0.537836\n",
      "[230]\ttrain-mlogloss:0.3863\ttest-mlogloss:0.537769\n",
      "[231]\ttrain-mlogloss:0.385915\ttest-mlogloss:0.537626\n",
      "[232]\ttrain-mlogloss:0.385167\ttest-mlogloss:0.537606\n",
      "[233]\ttrain-mlogloss:0.384565\ttest-mlogloss:0.537613\n",
      "[234]\ttrain-mlogloss:0.383939\ttest-mlogloss:0.537603\n",
      "[235]\ttrain-mlogloss:0.383246\ttest-mlogloss:0.537622\n",
      "[236]\ttrain-mlogloss:0.382713\ttest-mlogloss:0.537663\n",
      "[237]\ttrain-mlogloss:0.382281\ttest-mlogloss:0.537691\n",
      "[238]\ttrain-mlogloss:0.381758\ttest-mlogloss:0.537681\n",
      "[239]\ttrain-mlogloss:0.381273\ttest-mlogloss:0.537613\n",
      "[240]\ttrain-mlogloss:0.380694\ttest-mlogloss:0.537589\n",
      "[241]\ttrain-mlogloss:0.379932\ttest-mlogloss:0.537474\n",
      "[242]\ttrain-mlogloss:0.379343\ttest-mlogloss:0.537528\n",
      "[243]\ttrain-mlogloss:0.378765\ttest-mlogloss:0.537679\n",
      "[244]\ttrain-mlogloss:0.378102\ttest-mlogloss:0.537564\n",
      "[245]\ttrain-mlogloss:0.377753\ttest-mlogloss:0.537607\n",
      "[246]\ttrain-mlogloss:0.377239\ttest-mlogloss:0.537636\n",
      "[247]\ttrain-mlogloss:0.376869\ttest-mlogloss:0.537731\n",
      "[248]\ttrain-mlogloss:0.376254\ttest-mlogloss:0.537668\n",
      "[249]\ttrain-mlogloss:0.375906\ttest-mlogloss:0.537636\n",
      "[250]\ttrain-mlogloss:0.375366\ttest-mlogloss:0.537665\n",
      "[251]\ttrain-mlogloss:0.374887\ttest-mlogloss:0.537668\n",
      "[252]\ttrain-mlogloss:0.374427\ttest-mlogloss:0.5377\n",
      "[253]\ttrain-mlogloss:0.373982\ttest-mlogloss:0.537667\n",
      "[254]\ttrain-mlogloss:0.373684\ttest-mlogloss:0.537696\n",
      "[255]\ttrain-mlogloss:0.373176\ttest-mlogloss:0.537685\n",
      "[256]\ttrain-mlogloss:0.372627\ttest-mlogloss:0.537626\n",
      "[257]\ttrain-mlogloss:0.372122\ttest-mlogloss:0.537561\n",
      "[258]\ttrain-mlogloss:0.371582\ttest-mlogloss:0.53753\n",
      "[259]\ttrain-mlogloss:0.371005\ttest-mlogloss:0.537482\n",
      "[260]\ttrain-mlogloss:0.370288\ttest-mlogloss:0.537494\n",
      "[261]\ttrain-mlogloss:0.369737\ttest-mlogloss:0.537545\n",
      "Stopping. Best iteration:\n",
      "[241]\ttrain-mlogloss:0.379932\ttest-mlogloss:0.537474\n",
      "\n",
      "[0.53754455837935622]\n"
     ]
    }
   ],
   "source": [
    "cv_scores = []\n",
    "kf = model_selection.KFold(n_splits=5, shuffle=True, random_state=2016)\n",
    "i = 0\n",
    "for dev_index, val_index in kf.split(range(train_X_full.shape[0])):\n",
    "        #print(i)\n",
    "        i = i + 1\n",
    "        print(train_X_full.loc(dev_index))\n",
    "        dev_X, val_X = train_X_full.loc[dev_index], train_X_full.loc[val_index]\n",
    "        dev_y, val_y = train_y[dev_index], train_y[val_index]\n",
    "        preds, model = runXGB(dev_X, dev_y, val_X, val_y)\n",
    "        #print(log_loss(val_y, preds))\n",
    "        cv_scores.append(log_loss(val_y, preds))\n",
    "        print(cv_scores)\n",
    "        break"
   ]
  },
  {
   "cell_type": "code",
   "execution_count": 41,
   "metadata": {
    "collapsed": false
   },
   "outputs": [
    {
     "name": "stdout",
     "output_type": "stream",
     "text": [
      "Before train function\n"
     ]
    }
   ],
   "source": [
    "#preds, model = runXGB(train_X, train_y, test_X, num_rounds=300)\n",
    "preds, model = runXGB(train_X_full, train_y, test_X_full, num_rounds=250)\n",
    "\n",
    "out_df = pd.DataFrame(preds)\n",
    "out_df.columns = [\"high\", \"medium\", \"low\"]\n",
    "out_df[\"listing_id\"] = test_df.listing_id.values\n",
    "out_df.to_csv(\"xgb_starter_results_v11.csv\", index=False)"
   ]
  },
  {
   "cell_type": "code",
   "execution_count": 42,
   "metadata": {
    "collapsed": false
   },
   "outputs": [
    {
     "data": {
      "text/plain": [
       "<matplotlib.figure.Figure at 0x1fd3b871b38>"
      ]
     },
     "metadata": {},
     "output_type": "display_data"
    },
    {
     "data": {
      "image/png": "[encoded data removed]",
      "text/plain": [
       "<matplotlib.figure.Figure at 0x1fd3b870978>"
      ]
     },
     "metadata": {},
     "output_type": "display_data"
    },
    {
     "data": {
      "image/png": "[encoded data removed]",
      "text/plain": [
       "<matplotlib.figure.Figure at 0x1fd3b86add8>"
      ]
     },
     "metadata": {},
     "output_type": "display_data"
    }
   ],
   "source": [
    "from matplotlib import pylab as plt\n",
    "from xgboost import plot_tree\n",
    "\n",
    "importance = model.get_fscore()\n",
    "importance = sorted(importance.items(), key=operator.itemgetter(1))\n",
    "\n",
    "df = pd.DataFrame(importance, columns=['feature', 'fscore'])\n",
    "df['fscore'] = df['fscore'] / df['fscore'].sum()\n",
    "df = df[df['fscore']>0.02]\n",
    "\n",
    "plt.style.use('ggplot') \n",
    "\n",
    "plt.figure()\n",
    "df.plot()\n",
    "df.plot(kind='barh', x='feature', y='fscore', legend=False, figsize=(6, 10))\n",
    "plt.title('XGBoost Feature Importance')\n",
    "plt.xlabel('relative importance')\n",
    "plt.show()"
   ]
  },
  {
   "cell_type": "code",
   "execution_count": null,
   "metadata": {
    "collapsed": false
   },
   "outputs": [
    {
     "name": "stdout",
     "output_type": "stream",
     "text": [
      "latitude\n",
      "before xgboost\n",
      "Before train function\n",
      "sfter xgboost\n",
      "longitude\n",
      "before xgboost\n",
      "Before train function\n"
     ]
    }
   ],
   "source": [
    "remove_vars = [\"latitude\", \"longitude\", \"price_diff\", \"price\", \"num_description_words\", \"price_t\"]\n",
    "\n",
    "all_results_df = out_df\n",
    "for var in remove_vars:\n",
    "    print(var)\n",
    "    train_X_partial = train_X_full.drop(var, axis=1)\n",
    "    test_X_partial= test_X_full.drop(var, axis=1)\n",
    "    print(\"before xgboost\")\n",
    "    preds, model = runXGB(train_X_partial, train_y, test_X_partial, num_rounds=300)\n",
    "    print(\"sfter xgboost\")\n",
    "    out_df = pd.DataFrame(preds)\n",
    "    out_df.columns = [\"high\", \"medium\", \"low\"]\n",
    "    out_df[\"listing_id\"] = test_df.listing_id.values\n",
    "    if all_results_df.empty: \n",
    "        all_results_df = out_df\n",
    "    else:\n",
    "        all_results_df.append(out_df)\n",
    "\n",
    "final_out_df = all_results_df.groupby([\"listing_id\"]).mean()\n",
    "#out_df = out_df.add_suffix('_mean').reset_index()\n",
    "final_out_df = final_out_df.reset_index()\n",
    "\n",
    "final_out_df.to_csv(\"xgb_starter_results_v11.csv\", index=False)    "
   ]
  },
  {
   "cell_type": "markdown",
   "metadata": {},
   "source": [
    "Predicting and saving the output."
   ]
  },
  {
   "cell_type": "code",
   "execution_count": 126,
   "metadata": {
    "collapsed": false
   },
   "outputs": [
    {
     "data": {
      "text/plain": [
       "<matplotlib.figure.Figure at 0x17dcc9ebac8>"
      ]
     },
     "metadata": {},
     "output_type": "display_data"
    },
    {
     "data": {
      "image/png": "[encoded data removed]",
      "text/plain": [
       "<matplotlib.figure.Figure at 0x17dbe79f390>"
      ]
     },
     "metadata": {},
     "output_type": "display_data"
    },
    {
     "data": {
      "image/png": "[encoded data removed]",
      "text/plain": [
       "<matplotlib.figure.Figure at 0x17dbe779940>"
      ]
     },
     "metadata": {},
     "output_type": "display_data"
    }
   ],
   "source": [
    "from matplotlib import pylab as plt\n",
    "from xgboost import plot_tree\n",
    "\n",
    "importance = model.get_fscore()\n",
    "importance = sorted(importance.items(), key=operator.itemgetter(1))\n",
    "\n",
    "df = pd.DataFrame(importance, columns=['feature', 'fscore'])\n",
    "df['fscore'] = df['fscore'] / df['fscore'].sum()\n",
    "df = df[df['fscore']>0.02]\n",
    "\n",
    "plt.style.use('ggplot') \n",
    "\n",
    "plt.figure()\n",
    "df.plot()\n",
    "df.plot(kind='barh', x='feature', y='fscore', legend=False, figsize=(6, 10))\n",
    "plt.title('XGBoost Feature Importance')\n",
    "plt.xlabel('relative importance')\n",
    "plt.show()\n"
   ]
  },
  {
   "cell_type": "code",
   "execution_count": null,
   "metadata": {
    "collapsed": true
   },
   "outputs": [],
   "source": []
  }
 ],
 "metadata": {
  "kernelspec": {
   "display_name": "Python 3",
   "language": "python",
   "name": "python3"
  },
  "language_info": {
   "codemirror_mode": {
    "name": "ipython",
    "version": 3
   },
   "file_extension": ".py",
   "mimetype": "text/x-python",
   "name": "python",
   "nbconvert_exporter": "python",
   "pygments_lexer": "ipython3",
   "version": "3.6.0"
  }
 },
 "nbformat": 4,
 "nbformat_minor": 2
}
