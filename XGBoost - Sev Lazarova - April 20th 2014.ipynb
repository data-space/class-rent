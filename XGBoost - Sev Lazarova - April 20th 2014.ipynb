{
 "cells": [
  {
   "cell_type": "markdown",
   "metadata": {},
   "source": [
    "This note book is based entirely on a Kaggle jupyter notebook. https://www.kaggle.com/guoday/two-sigma-connect-rental-listing-inquiries/cv-statistics-edited-0-5346-score/notebook"
   ]
  },
  {
   "cell_type": "code",
   "execution_count": 98,
   "metadata": {
    "collapsed": false
   },
   "outputs": [],
   "source": [
    "import os\n",
    "import sys\n",
    "import operator\n",
    "import numpy as np\n",
    "import pandas as pd\n",
    "from scipy import sparse\n",
    "import xgboost as xgb\n",
    "import random\n",
    "from sklearn import model_selection, preprocessing, ensemble\n",
    "from sklearn.metrics import log_loss\n",
    "from sklearn.feature_extraction.text import TfidfVectorizer, CountVectorizer\n",
    "#input data\n",
    "train_df=pd.read_json('C:\\\\Users\\\\sevda\\\\Documents\\\\Data Lab\\\\Six sigma rental property\\\\train.json\\\\train.json')\n",
    "test_df=pd.read_json('C:\\\\Users\\\\sevda\\\\Documents\\\\Data Lab\\\\Six sigma rental property\\\\test.json\\\\test.json')"
   ]
  },
  {
   "cell_type": "markdown",
   "metadata": {},
   "source": [
    "We will define the XGBoost function"
   ]
  },
  {
   "cell_type": "code",
   "execution_count": 99,
   "metadata": {
    "collapsed": true
   },
   "outputs": [],
   "source": [
    "def runXGB(train_X, train_y, test_X, test_y=None, feature_names=None, seed_val=0, num_rounds=1000):\n",
    "    param = {}\n",
    "    param['objective'] = 'multi:softprob'\n",
    "    param['eta'] = 0.1\n",
    "    param['max_depth'] = 6\n",
    "    param['silent'] = 1\n",
    "    param['num_class'] = 3\n",
    "    param['eval_metric'] = \"mlogloss\"\n",
    "    param['min_child_weight'] = 1\n",
    "    param['subsample'] = 0.7\n",
    "    param['colsample_bytree'] = 0.7\n",
    "    param['seed'] = seed_val\n",
    "    num_rounds = num_rounds\n",
    "\n",
    "    plst = list(param.items())\n",
    "    xgtrain = xgb.DMatrix(train_X, label=train_y)\n",
    "\n",
    "    if test_y is not None:\n",
    "        xgtest = xgb.DMatrix(test_X, label=test_y)\n",
    "        watchlist = [ (xgtrain,'train'), (xgtest, 'test') ]\n",
    "        model = xgb.train(plst, xgtrain, num_rounds, watchlist, early_stopping_rounds=20)\n",
    "    else:\n",
    "        xgtest = xgb.DMatrix(test_X)\n",
    "        print(\"Before train function\")\n",
    "        model = xgb.train(plst, xgtrain, num_rounds)\n",
    "\n",
    "    pred_test_y = model.predict(xgtest)\n",
    "    return pred_test_y, model"
   ]
  },
  {
   "cell_type": "markdown",
   "metadata": {},
   "source": [
    "We will also define a train_model function which splits the train data set into a training and testing data set, then apply the model XGBoost model and returns the best cross validation scores we can get with the model based on the selected variables which are included in the train_X_full dataset"
   ]
  },
  {
   "cell_type": "code",
   "execution_count": 100,
   "metadata": {
    "collapsed": false
   },
   "outputs": [],
   "source": [
    "#train_y is the column values we want to predict and train_X_full is the dataset with which we want to work \n",
    "def train_model(train_X_full, train_y):\n",
    "\n",
    "\n",
    "        target_num_map = {'high':0, 'medium':1, 'low':2}\n",
    "        train_y = np.array(train_y.apply(lambda x: target_num_map[x]))\n",
    "\n",
    "        cv_scores = []\n",
    "        kf = model_selection.KFold(n_splits=5, shuffle=True, random_state=2016)\n",
    "        i = 0\n",
    "        for dev_index, val_index in kf.split(range(train_X_full.shape[0])):\n",
    "            i = i + 1\n",
    "            #print(train_X_full.loc(dev_index))\n",
    "            dev_X, val_X = train_X_full.loc[dev_index], train_X_full.loc[val_index]\n",
    "            dev_y, val_y = train_y[dev_index], train_y[val_index]\n",
    "            preds, model = runXGB(dev_X, dev_y, val_X, val_y)\n",
    "            #print(log_loss(val_y, preds))\n",
    "            cv_scores.append(log_loss(val_y, preds))\n",
    "            #print(cv_scores)\n",
    "            break\n",
    "        return cv_scores"
   ]
  },
  {
   "cell_type": "markdown",
   "metadata": {},
   "source": [
    "As part of the feature engineering, we create some basic additional features based on the initial variables."
   ]
  },
  {
   "cell_type": "code",
   "execution_count": 101,
   "metadata": {
    "collapsed": true
   },
   "outputs": [],
   "source": [
    "#basic features\n",
    "train_df[\"price_t\"] =train_df[\"price\"]/(train_df[\"bedrooms\"] + 1)\n",
    "test_df[\"price_t\"] = test_df[\"price\"]/(test_df[\"bedrooms\"] + 1) \n",
    "train_df[\"room_sum\"] = train_df[\"bedrooms\"]+train_df[\"bathrooms\"] \n",
    "test_df[\"room_sum\"] = test_df[\"bedrooms\"]+test_df[\"bathrooms\"] \n",
    "\n",
    "# count of photos #\n",
    "train_df[\"num_photos\"] = train_df[\"photos\"].apply(len)\n",
    "test_df[\"num_photos\"] = test_df[\"photos\"].apply(len)\n",
    "\n",
    "# count of \"features\" #\n",
    "train_df[\"num_features\"] = train_df[\"features\"].apply(len)\n",
    "test_df[\"num_features\"] = test_df[\"features\"].apply(len)\n",
    "\n",
    "# count of words present in description column #\n",
    "train_df[\"num_description_words\"] = train_df[\"description\"].apply(lambda x: len(x.split(\" \")))\n",
    "test_df[\"num_description_words\"] = test_df[\"description\"].apply(lambda x: len(x.split(\" \")))\n",
    "\n",
    "\n",
    "features_to_use=[\"bathrooms\", \"bedrooms\", \"latitude\", \"longitude\", \"price\",\"price_t\",\"num_photos\", \"num_features\", \"num_description_words\",\"listing_id\"]\n"
   ]
  },
  {
   "cell_type": "markdown",
   "metadata": {},
   "source": [
    "We will create three levels of manager id valuation based on the number of low, medium and high interest for listing interest."
   ]
  },
  {
   "cell_type": "code",
   "execution_count": 102,
   "metadata": {
    "collapsed": true
   },
   "outputs": [],
   "source": [
    "index=list(range(train_df.shape[0]))\n",
    "random.shuffle(index)\n",
    "a=[0]*len(train_df)\n",
    "b=[0]*len(train_df)\n",
    "c=[0]*len(train_df)\n",
    "\n",
    "for i in range(5):\n",
    "    building_level={}\n",
    "    for j in train_df['manager_id'].values:\n",
    "        building_level[j]=[0,0,0]\n",
    "    test_index=index[int((i*train_df.shape[0])/5):int(((i+1)*train_df.shape[0])/5)]\n",
    "    train_index=list(set(index).difference(test_index))\n",
    "    for j in train_index:\n",
    "        temp=train_df.iloc[j]\n",
    "        if temp['interest_level']=='low':\n",
    "            building_level[temp['manager_id']][0]+=1\n",
    "        if temp['interest_level']=='medium':\n",
    "            building_level[temp['manager_id']][1]+=1\n",
    "        if temp['interest_level']=='high':\n",
    "            building_level[temp['manager_id']][2]+=1\n",
    "    for j in test_index:\n",
    "        temp=train_df.iloc[j]\n",
    "        if sum(building_level[temp['manager_id']])!=0:\n",
    "            a[j]=building_level[temp['manager_id']][0]*1.0/sum(building_level[temp['manager_id']])\n",
    "            b[j]=building_level[temp['manager_id']][1]*1.0/sum(building_level[temp['manager_id']])\n",
    "            c[j]=building_level[temp['manager_id']][2]*1.0/sum(building_level[temp['manager_id']])\n",
    "train_df['manager_level_low']=a\n",
    "train_df['manager_level_medium']=b\n",
    "train_df['manager_level_high']=c\n",
    "\n",
    "\n",
    "\n",
    "a=[]\n",
    "b=[]\n",
    "c=[]\n",
    "building_level={}\n",
    "for j in train_df['manager_id'].values:\n",
    "    building_level[j]=[0,0,0]\n",
    "for j in range(train_df.shape[0]):\n",
    "    temp=train_df.iloc[j]\n",
    "    if temp['interest_level']=='low':\n",
    "        building_level[temp['manager_id']][0]+=1\n",
    "    if temp['interest_level']=='medium':\n",
    "        building_level[temp['manager_id']][1]+=1\n",
    "    if temp['interest_level']=='high':\n",
    "        building_level[temp['manager_id']][2]+=1\n",
    "\n",
    "for i in test_df['manager_id'].values:\n",
    "    if i not in building_level.keys():\n",
    "        a.append(0)\n",
    "        b.append(0)\n",
    "        c.append(0)\n",
    "    else:\n",
    "        a.append(building_level[i][0]*1.0/sum(building_level[i]))\n",
    "        b.append(building_level[i][1]*1.0/sum(building_level[i]))\n",
    "        c.append(building_level[i][2]*1.0/sum(building_level[i]))\n",
    "test_df['manager_level_low']=a\n",
    "test_df['manager_level_medium']=b\n",
    "test_df['manager_level_high']=c\n",
    "\n",
    "#features_to_use.append('manager_level_low') \n",
    "#features_to_use.append('manager_level_medium') \n",
    "#features_to_use.append('manager_level_high')"
   ]
  },
  {
   "cell_type": "markdown",
   "metadata": {},
   "source": [
    "Label encoding transformation of the categorical variables."
   ]
  },
  {
   "cell_type": "code",
   "execution_count": 103,
   "metadata": {
    "collapsed": true
   },
   "outputs": [],
   "source": [
    "#categorical = [\"display_address\", \"manager_id\", \"building_id\", \"street_address\"]\n",
    "categorical = [\"manager_id\", \"building_id\"]\n",
    "for f in categorical:\n",
    "        if train_df[f].dtype=='object':\n",
    "            #print(f)\n",
    "            lbl = preprocessing.LabelEncoder()\n",
    "            lbl.fit(list(train_df[f].values) + list(test_df[f].values))\n",
    "            train_df[f] = lbl.transform(list(train_df[f].values))\n",
    "            test_df[f] = lbl.transform(list(test_df[f].values))\n",
    "            features_to_use.append(f)"
   ]
  },
  {
   "cell_type": "markdown",
   "metadata": {},
   "source": [
    "Introducing the price diff variable"
   ]
  },
  {
   "cell_type": "code",
   "execution_count": 104,
   "metadata": {
    "collapsed": true
   },
   "outputs": [],
   "source": [
    "train_group_by = train_df[[\"bedrooms\", \"price\"]].groupby([\"bedrooms\"]).median()\n",
    "train_group_by = train_group_by.add_suffix('_median').reset_index()\n",
    "\n",
    "train_df = train_df.merge(train_group_by, left_on=['bedrooms'], right_on=['bedrooms'], how='outer')\n",
    "test_df = test_df.merge(train_group_by, left_on=['bedrooms'], right_on=['bedrooms'], how='left')\n",
    "\n",
    "train_df[\"price_diff\"] = train_df[\"price\"] - train_df[\"price_median\"]\n",
    "test_df[\"price_diff\"] = test_df[\"price\"] - test_df[\"price_median\"]"
   ]
  },
  {
   "cell_type": "markdown",
   "metadata": {},
   "source": [
    "We will use the created date and will add the day of year, week of year and a number of other data related variables."
   ]
  },
  {
   "cell_type": "code",
   "execution_count": 105,
   "metadata": {
    "collapsed": true
   },
   "outputs": [],
   "source": [
    "train_df[\"created\"] = pd.to_datetime(train_df[\"created\"])\n",
    "train_df[\"date\"]= train_df[\"created\"].dt.date\n",
    "\n",
    "train_df[\"dayofyear\"] = train_df[\"created\"].dt.dayofyear\n",
    "train_df[\"weekofyear\"] = train_df[\"created\"].dt.weekofyear\n",
    "train_df[\"weekday\"] = train_df[\"created\"].dt.weekday\n",
    "train_df[\"hour\"] = train_df[\"created\"].dt.hour\n",
    "\n",
    "test_df[\"created\"] = pd.to_datetime(test_df[\"created\"])\n",
    "test_df[\"date\"]= test_df[\"created\"].dt.date\n",
    "\n",
    "test_df[\"dayofyear\"] = test_df[\"created\"].dt.dayofyear\n",
    "test_df[\"weekofyear\"] = test_df[\"created\"].dt.weekofyear\n",
    "test_df[\"weekday\"] = test_df[\"created\"].dt.weekday\n",
    "test_df[\"hour\"] = test_df[\"created\"].dt.hour"
   ]
  },
  {
   "cell_type": "markdown",
   "metadata": {},
   "source": [
    "Adding the count of apartments available for rent in each building."
   ]
  },
  {
   "cell_type": "code",
   "execution_count": 106,
   "metadata": {
    "collapsed": true
   },
   "outputs": [],
   "source": [
    "building_id_group_by = train_df[[\"street_address\", \"building_id\"]].groupby([\"building_id\"]).count()\n",
    "building_id_group_by = building_id_group_by.add_suffix('_count').reset_index()\n",
    "\n",
    "train_df = train_df.merge(building_id_group_by, left_on=['building_id'], right_on=['building_id'], how='inner')\n",
    "test_df = test_df.merge(building_id_group_by, left_on=['building_id'], right_on=['building_id'], how='left')"
   ]
  },
  {
   "cell_type": "markdown",
   "metadata": {},
   "source": [
    "Adding a density description variable for the location of the apartments."
   ]
  },
  {
   "cell_type": "code",
   "execution_count": 107,
   "metadata": {
    "collapsed": true
   },
   "outputs": [],
   "source": [
    "train_df[\"pos\"] = train_df.longitude.round(3).astype(str) + '_' + train_df.latitude.round(3).astype(str)\n",
    "test_df[\"pos\"] = test_df.longitude.round(3).astype(str) + '_' + test_df.latitude.round(3).astype(str)\n",
    "\n",
    "vals = train_df['pos'].value_counts()\n",
    "dvals = vals.to_dict()\n",
    "train_df[\"density\"] = train_df['pos'].apply(lambda x: dvals.get(x, vals.min()))\n",
    "test_df[\"density\"] = test_df['pos'].apply(lambda x: dvals.get(x, vals.min()))"
   ]
  },
  {
   "cell_type": "markdown",
   "metadata": {},
   "source": [
    "Assessing the manager skill based on the postings with high and low interest."
   ]
  },
  {
   "cell_type": "code",
   "execution_count": 108,
   "metadata": {
    "collapsed": false
   },
   "outputs": [],
   "source": [
    "train_df['manager_skill'] = train_df['manager_level_high']*3 + train_df['manager_level_medium']*2 + train_df['manager_level_low']\n",
    "test_df['manager_skill'] = test_df['manager_level_high']*3 + test_df['manager_level_medium']*2 + test_df['manager_level_low']"
   ]
  },
  {
   "cell_type": "markdown",
   "metadata": {},
   "source": [
    "Adding a listing difference variable which is a reflection of the position under which a listing appears."
   ]
  },
  {
   "cell_type": "code",
   "execution_count": 109,
   "metadata": {
    "collapsed": true
   },
   "outputs": [],
   "source": [
    "dayofyear_group_by = train_df[[\"listing_id\", \"dayofyear\"]].groupby([\"dayofyear\"]).min()\n",
    "dayofyear_group_by = dayofyear_group_by.add_suffix('_min').reset_index()\n",
    "\n",
    "train_df = train_df.merge(dayofyear_group_by, left_on=['dayofyear'], right_on=['dayofyear'], how='left')\n",
    "train_df['listing_difference'] = train_df['listing_id'] - train_df['listing_id_min']\n",
    "\n",
    "test_df = test_df.merge(dayofyear_group_by, left_on=['dayofyear'], right_on=['dayofyear'], how='left')\n",
    "test_df['listing_difference'] = test_df['listing_id'] - test_df['listing_id_min']"
   ]
  },
  {
   "cell_type": "markdown",
   "metadata": {},
   "source": [
    "Performing clustering based on the latitude and longitude information in order to form rental unit clusters based on proximity. The idea for teh clustering and part of the code was taken from https://www.kaggle.com/luisblanche/two-sigma-connect-rental-listing-inquiries/price-compared-to-neighborhood-median ."
   ]
  },
  {
   "cell_type": "code",
   "execution_count": 151,
   "metadata": {
    "collapsed": true
   },
   "outputs": [],
   "source": [
    "features_to_use=[\"bathrooms\", \"bedrooms\", \"latitude\", \"longitude\", \"listing_difference\", \"price\",\"price_t\",\"num_photos\", \"num_features\", \"num_description_words\",\"listing_id\"]\n",
    "\n",
    "features_to_use.append(\"price_diff\")\n",
    "features_to_use.append(\"dayofyear\")\n",
    "features_to_use.append(\"weekofyear\")\n",
    "features_to_use.append(\"weekday\")\n",
    "features_to_use.append(\"hour\")\n",
    "#features_to_use.append(\"price_diff\")\n",
    "#features_to_use.append(\"longitude\")\n",
    "#features_to_use.append(\"latitude\")\n",
    "features_to_use.append(\"street_address_count\")\n",
    "features_to_use.append(\"manager_level_low\")\n",
    "features_to_use.append(\"manager_level_medium\")\n",
    "features_to_use.append(\"manager_level_high\")\n",
    "#features_to_use.append(\"pos\")\n",
    "features_to_use.append(\"density\")\n",
    "features_to_use.append(\"manager_skill\")\n",
    "#features_to_use.append(\"listing_difference\")"
   ]
  },
  {
   "cell_type": "code",
   "execution_count": 111,
   "metadata": {
    "collapsed": true
   },
   "outputs": [],
   "source": [
    "from sklearn.cluster import Birch\n",
    "import matplotlib.pyplot as plt\n",
    "\n",
    "def cluster_latlon(n_clusters, train_df, test_df):  \n",
    "    train_df['type_df'] = \"train\"\n",
    "    test_df['type_df'] = \"test\"\n",
    "    \n",
    "    data = pd.concat([train_df, test_df])\n",
    "    #split the data between \"around NYC\" and \"other locations\" basically our first two clusters \n",
    "    data_c=data[(data.longitude>-74.05)&(data.longitude<-73.75)&(data.latitude>40.4)&(data.latitude<40.9)]\n",
    "    data_e=data[~(data.longitude>-74.05)&(data.longitude<-73.75)&(data.latitude>40.4)&(data.latitude<40.9)]\n",
    "    #put it in matrix form\n",
    "    coords=data_c.as_matrix(columns=['latitude', \"longitude\"])\n",
    "    \n",
    "    brc = Birch(branching_factor=100, n_clusters=n_clusters, threshold=0.01,compute_labels=True)\n",
    "\n",
    "    brc.fit(coords)\n",
    "    clusters=brc.predict(coords)\n",
    "    data_c[\"cluster_\"+str(n_clusters)]=clusters\n",
    "    data_e[\"cluster_\"+str(n_clusters)]=-1 #assign cluster label -1 for the non NYC listings \n",
    "    data=pd.concat([data_c,data_e])\n",
    "    \n",
    "    res_train_df = data[(data.type_df == \"train\")]\n",
    "    res_test_df = data[(data.type_df == \"test\")]\n",
    "    \n",
    "    #Visualizing the clusters\n",
    "    plt.scatter(data_c[\"longitude\"], data_c[\"latitude\"], c=data_c[\"cluster_\"+str(n_clusters)], s=10, linewidth=0.1)\n",
    "    plt.title(str(n_clusters)+\" Neighbourhoods from clustering\")\n",
    "    plt.show()\n",
    "    return res_train_df, res_test_df "
   ]
  },
  {
   "cell_type": "markdown",
   "metadata": {},
   "source": [
    "Performing clustering with 30 clusters and presenting the results on a map. Other number of clusters have been tried in the model but their overall log loss scores on the test set are pretty close. For that reason an arbitrary number of 30 clusters is selected. We are aiming for a reasonable number of clusters, where the clusters are forming nice and clean regions on the map and at the same time each cluster has plenty of data which will help us with forming the median price value. "
   ]
  },
  {
   "cell_type": "code",
   "execution_count": null,
   "metadata": {
    "collapsed": false
   },
   "outputs": [
    {
     "name": "stderr",
     "output_type": "stream",
     "text": [
      "C:\\Users\\sevda\\Anaconda3\\lib\\site-packages\\ipykernel\\__main__.py:19: SettingWithCopyWarning: \n",
      "A value is trying to be set on a copy of a slice from a DataFrame.\n",
      "Try using .loc[row_indexer,col_indexer] = value instead\n",
      "\n",
      "See the caveats in the documentation: http://pandas.pydata.org/pandas-docs/stable/indexing.html#indexing-view-versus-copy\n",
      "C:\\Users\\sevda\\Anaconda3\\lib\\site-packages\\ipykernel\\__main__.py:20: SettingWithCopyWarning: \n",
      "A value is trying to be set on a copy of a slice from a DataFrame.\n",
      "Try using .loc[row_indexer,col_indexer] = value instead\n",
      "\n",
      "See the caveats in the documentation: http://pandas.pydata.org/pandas-docs/stable/indexing.html#indexing-view-versus-copy\n"
     ]
    }
   ],
   "source": [
    "train_X_full, test_X_full = cluster_latlon(30, train_df, test_df)\n",
    "\n",
    "train_df[\"cluster_30\"] = train_X_full[\"cluster_30\"]\n",
    "test_df[\"cluster_30\"] = test_X_full[\"cluster_30\"]\n",
    "\n",
    "features_to_use.append(\"cluster_30\")\n",
    "\n",
    "train_X_sel = train_X_full[features_to_use]\n",
    "test_X_sel = test_X_full[features_to_use]\n",
    "\n",
    "train_model(train_X_sel, train_df['interest_level'])"
   ]
  },
  {
   "cell_type": "markdown",
   "metadata": {},
   "source": [
    "We will try to explore other variables that may be derived based on the cluster to which the rental unit belongs, such as the median price based on cluster id, number of bedrooms and number of bathrooms. Based on the results, we can see that introducing the variables, increases significantly the log loss. Therefore we will not include this variables in the final model."
   ]
  },
  {
   "cell_type": "code",
   "execution_count": 150,
   "metadata": {
    "collapsed": false
   },
   "outputs": [
    {
     "name": "stderr",
     "output_type": "stream",
     "text": [
      "C:\\Users\\sevda\\Anaconda3\\lib\\site-packages\\ipykernel\\__main__.py:19: SettingWithCopyWarning: \n",
      "A value is trying to be set on a copy of a slice from a DataFrame.\n",
      "Try using .loc[row_indexer,col_indexer] = value instead\n",
      "\n",
      "See the caveats in the documentation: http://pandas.pydata.org/pandas-docs/stable/indexing.html#indexing-view-versus-copy\n",
      "C:\\Users\\sevda\\Anaconda3\\lib\\site-packages\\ipykernel\\__main__.py:20: SettingWithCopyWarning: \n",
      "A value is trying to be set on a copy of a slice from a DataFrame.\n",
      "Try using .loc[row_indexer,col_indexer] = value instead\n",
      "\n",
      "See the caveats in the documentation: http://pandas.pydata.org/pandas-docs/stable/indexing.html#indexing-view-versus-copy\n"
     ]
    },
    {
     "data": {
      "image/png": "[encoded data removed]",
      "text/plain": [
       "<matplotlib.figure.Figure at 0x28be7b7beb8>"
      ]
     },
     "metadata": {},
     "output_type": "display_data"
    },
    {
     "name": "stdout",
     "output_type": "stream",
     "text": [
      "[0]\ttrain-mlogloss:1.0488\ttest-mlogloss:1.0507\n",
      "Multiple eval metrics have been passed: 'test-mlogloss' will be used for early stopping.\n",
      "\n",
      "Will train until test-mlogloss hasn't improved in 20 rounds.\n",
      "[1]\ttrain-mlogloss:1.00775\ttest-mlogloss:1.01118\n",
      "[2]\ttrain-mlogloss:0.972497\ttest-mlogloss:0.977582\n",
      "[3]\ttrain-mlogloss:0.942228\ttest-mlogloss:0.948856\n",
      "[4]\ttrain-mlogloss:0.916273\ttest-mlogloss:0.924317\n",
      "[5]\ttrain-mlogloss:0.89393\ttest-mlogloss:0.903315\n",
      "[6]\ttrain-mlogloss:0.874446\ttest-mlogloss:0.885194\n",
      "[7]\ttrain-mlogloss:0.857381\ttest-mlogloss:0.869446\n",
      "[8]\ttrain-mlogloss:0.842499\ttest-mlogloss:0.855892\n",
      "[9]\ttrain-mlogloss:0.829522\ttest-mlogloss:0.844174\n",
      "[10]\ttrain-mlogloss:0.818484\ttest-mlogloss:0.834302\n",
      "[11]\ttrain-mlogloss:0.808505\ttest-mlogloss:0.82561\n",
      "[12]\ttrain-mlogloss:0.79978\ttest-mlogloss:0.818086\n",
      "[13]\ttrain-mlogloss:0.79232\ttest-mlogloss:0.811653\n",
      "[14]\ttrain-mlogloss:0.785463\ttest-mlogloss:0.806044\n",
      "[15]\ttrain-mlogloss:0.779089\ttest-mlogloss:0.800623\n",
      "[16]\ttrain-mlogloss:0.773485\ttest-mlogloss:0.796095\n",
      "[17]\ttrain-mlogloss:0.76816\ttest-mlogloss:0.79214\n",
      "[18]\ttrain-mlogloss:0.76365\ttest-mlogloss:0.788725\n",
      "[19]\ttrain-mlogloss:0.759507\ttest-mlogloss:0.785872\n",
      "[20]\ttrain-mlogloss:0.756175\ttest-mlogloss:0.783491\n",
      "[21]\ttrain-mlogloss:0.753269\ttest-mlogloss:0.781318\n",
      "[22]\ttrain-mlogloss:0.750319\ttest-mlogloss:0.779494\n",
      "[23]\ttrain-mlogloss:0.747565\ttest-mlogloss:0.77771\n",
      "[24]\ttrain-mlogloss:0.745237\ttest-mlogloss:0.776478\n",
      "[25]\ttrain-mlogloss:0.743069\ttest-mlogloss:0.77523\n",
      "[26]\ttrain-mlogloss:0.740705\ttest-mlogloss:0.773978\n",
      "[27]\ttrain-mlogloss:0.738804\ttest-mlogloss:0.772959\n",
      "[28]\ttrain-mlogloss:0.73702\ttest-mlogloss:0.771973\n",
      "[29]\ttrain-mlogloss:0.73524\ttest-mlogloss:0.771073\n",
      "[30]\ttrain-mlogloss:0.733559\ttest-mlogloss:0.770317\n",
      "[31]\ttrain-mlogloss:0.732133\ttest-mlogloss:0.769913\n",
      "[32]\ttrain-mlogloss:0.730721\ttest-mlogloss:0.769426\n",
      "[33]\ttrain-mlogloss:0.729647\ttest-mlogloss:0.769132\n",
      "[34]\ttrain-mlogloss:0.728508\ttest-mlogloss:0.768789\n",
      "[35]\ttrain-mlogloss:0.727116\ttest-mlogloss:0.768624\n",
      "[36]\ttrain-mlogloss:0.725693\ttest-mlogloss:0.76818\n",
      "[37]\ttrain-mlogloss:0.724511\ttest-mlogloss:0.767984\n",
      "[38]\ttrain-mlogloss:0.723161\ttest-mlogloss:0.767897\n",
      "[39]\ttrain-mlogloss:0.722162\ttest-mlogloss:0.767687\n",
      "[40]\ttrain-mlogloss:0.721144\ttest-mlogloss:0.767578\n",
      "[41]\ttrain-mlogloss:0.720108\ttest-mlogloss:0.767431\n",
      "[42]\ttrain-mlogloss:0.71895\ttest-mlogloss:0.767171\n",
      "[43]\ttrain-mlogloss:0.717889\ttest-mlogloss:0.767232\n",
      "[44]\ttrain-mlogloss:0.717045\ttest-mlogloss:0.767226\n",
      "[45]\ttrain-mlogloss:0.716172\ttest-mlogloss:0.76723\n",
      "[46]\ttrain-mlogloss:0.71489\ttest-mlogloss:0.767071\n",
      "[47]\ttrain-mlogloss:0.714139\ttest-mlogloss:0.766935\n",
      "[48]\ttrain-mlogloss:0.713276\ttest-mlogloss:0.766832\n",
      "[49]\ttrain-mlogloss:0.712437\ttest-mlogloss:0.766832\n",
      "[50]\ttrain-mlogloss:0.711451\ttest-mlogloss:0.766726\n",
      "[51]\ttrain-mlogloss:0.710416\ttest-mlogloss:0.766517\n",
      "[52]\ttrain-mlogloss:0.709293\ttest-mlogloss:0.766579\n",
      "[53]\ttrain-mlogloss:0.708413\ttest-mlogloss:0.766612\n",
      "[54]\ttrain-mlogloss:0.707637\ttest-mlogloss:0.76664\n",
      "[55]\ttrain-mlogloss:0.706759\ttest-mlogloss:0.766565\n",
      "[56]\ttrain-mlogloss:0.705679\ttest-mlogloss:0.766468\n",
      "[57]\ttrain-mlogloss:0.70491\ttest-mlogloss:0.76638\n",
      "[58]\ttrain-mlogloss:0.704155\ttest-mlogloss:0.766312\n",
      "[59]\ttrain-mlogloss:0.703431\ttest-mlogloss:0.766278\n",
      "[60]\ttrain-mlogloss:0.702749\ttest-mlogloss:0.766327\n",
      "[61]\ttrain-mlogloss:0.701946\ttest-mlogloss:0.766471\n",
      "[62]\ttrain-mlogloss:0.701504\ttest-mlogloss:0.766535\n",
      "[63]\ttrain-mlogloss:0.700504\ttest-mlogloss:0.766562\n",
      "[64]\ttrain-mlogloss:0.69977\ttest-mlogloss:0.766567\n",
      "[65]\ttrain-mlogloss:0.69887\ttest-mlogloss:0.766714\n",
      "[66]\ttrain-mlogloss:0.698283\ttest-mlogloss:0.766777\n",
      "[67]\ttrain-mlogloss:0.697565\ttest-mlogloss:0.766698\n",
      "[68]\ttrain-mlogloss:0.696607\ttest-mlogloss:0.766754\n",
      "[69]\ttrain-mlogloss:0.696077\ttest-mlogloss:0.76682\n",
      "[70]\ttrain-mlogloss:0.695346\ttest-mlogloss:0.766909\n",
      "[71]\ttrain-mlogloss:0.694636\ttest-mlogloss:0.766845\n",
      "[72]\ttrain-mlogloss:0.693679\ttest-mlogloss:0.766841\n",
      "[73]\ttrain-mlogloss:0.692901\ttest-mlogloss:0.766882\n",
      "[74]\ttrain-mlogloss:0.69207\ttest-mlogloss:0.766861\n",
      "[75]\ttrain-mlogloss:0.691515\ttest-mlogloss:0.766869\n",
      "[76]\ttrain-mlogloss:0.690939\ttest-mlogloss:0.766891\n",
      "[77]\ttrain-mlogloss:0.690206\ttest-mlogloss:0.76681\n",
      "[78]\ttrain-mlogloss:0.689537\ttest-mlogloss:0.766815\n",
      "[79]\ttrain-mlogloss:0.688749\ttest-mlogloss:0.766877\n",
      "Stopping. Best iteration:\n",
      "[59]\ttrain-mlogloss:0.703431\ttest-mlogloss:0.766278\n",
      "\n"
     ]
    },
    {
     "data": {
      "text/plain": [
       "[0.76687707300267205]"
      ]
     },
     "execution_count": 150,
     "metadata": {},
     "output_type": "execute_result"
    }
   ],
   "source": [
    "train_X_full, test_X_full = cluster_latlon(30, train_df, test_df)\n",
    "\n",
    "train_group_by = train_X_full[[\"cluster_30\",\"bedrooms\", \"bathrooms\", \"price\"]].groupby([\"cluster_30\",\"bedrooms\",\"bathrooms\"]).median()\n",
    "train_group_by = train_group_by.add_suffix('_med').reset_index()\n",
    "\n",
    "train_X_full = train_X_full.merge(train_group_by, left_on=[\"cluster_30\",\"bedrooms\", \"bathrooms\"], right_on=[\"cluster_30\",\"bedrooms\", \"bathrooms\"], how='outer')\n",
    "test_X_full = test_X_full.merge(train_group_by, left_on=[\"cluster_30\",\"bedrooms\",\"bathrooms\"], right_on=[\"cluster_30\",\"bedrooms\",\"bathrooms\"], how='left')\n",
    "\n",
    "train_X_full[\"price_comparison\"] = train_X_full[\"price\"] - train_X_full[\"price_med\"]\n",
    "test_X_full[\"price_comparison\"] = test_X_full[\"price\"] - test_X_full[\"price_med\"]\n",
    "#print(train_X_full.columns.values)\n",
    "\n",
    "train_df[\"cluster_30\"] = train_X_full[\"cluster_30\"]\n",
    "test_df[\"cluster_30\"] = test_X_full[\"cluster_30\"]\n",
    "\n",
    "train_df[\"price_comparison\"] = train_X_full[\"price_comparison\"]\n",
    "test_df[\"price_comparison\"] = test_X_full[\"price_comparison\"]\n",
    "\n",
    "features_to_use.append(\"cluster_30\")\n",
    "features_to_use.append(\"price_comparison\")\n",
    "\n",
    "train_X_sel = train_X_full[features_to_use]\n",
    "test_X_sel = test_X_full[features_to_use]\n",
    "\n",
    "train_model(train_X_sel, train_df['interest_level'])\n"
   ]
  },
  {
   "cell_type": "code",
   "execution_count": 119,
   "metadata": {
    "collapsed": false
   },
   "outputs": [
    {
     "name": "stderr",
     "output_type": "stream",
     "text": [
      "C:\\Users\\sevda\\Anaconda3\\lib\\site-packages\\ipykernel\\__main__.py:19: SettingWithCopyWarning: \n",
      "A value is trying to be set on a copy of a slice from a DataFrame.\n",
      "Try using .loc[row_indexer,col_indexer] = value instead\n",
      "\n",
      "See the caveats in the documentation: http://pandas.pydata.org/pandas-docs/stable/indexing.html#indexing-view-versus-copy\n",
      "C:\\Users\\sevda\\Anaconda3\\lib\\site-packages\\ipykernel\\__main__.py:20: SettingWithCopyWarning: \n",
      "A value is trying to be set on a copy of a slice from a DataFrame.\n",
      "Try using .loc[row_indexer,col_indexer] = value instead\n",
      "\n",
      "See the caveats in the documentation: http://pandas.pydata.org/pandas-docs/stable/indexing.html#indexing-view-versus-copy\n"
     ]
    },
    {
     "data": {
      "image/png": "[encoded data removed]",
      "text/plain": [
       "<matplotlib.figure.Figure at 0x28be7210b00>"
      ]
     },
     "metadata": {},
     "output_type": "display_data"
    },
    {
     "name": "stdout",
     "output_type": "stream",
     "text": [
      "['bathrooms' 'bedrooms' 'building_id' 'created' 'date' 'dayofyear'\n",
      " 'density' 'description' 'display_address' 'features' 'hour'\n",
      " 'interest_level' 'latitude' 'listing_difference' 'listing_id'\n",
      " 'listing_id_min' 'longitude' 'manager_id' 'manager_level_high'\n",
      " 'manager_level_low' 'manager_level_medium' 'manager_skill'\n",
      " 'num_description_words' 'num_features' 'num_photos' 'photos' 'pos' 'price'\n",
      " 'price_diff' 'price_median' 'price_t' 'room_sum' 'street_address'\n",
      " 'street_address_count' 'type_df' 'weekday' 'weekofyear' 'cluster_18']\n",
      "['bathrooms', 'bedrooms', 'latitude', 'longitude', 'listing_difference', 'price', 'price_t', 'num_photos', 'num_features', 'num_description_words', 'listing_id', 'price_diff', 'dayofyear', 'weekofyear', 'weekday', 'hour', 'street_address_count', 'manager_level_low', 'manager_level_medium', 'manager_level_high', 'density', 'manager_skill', 'cluster_18']\n",
      "['bathrooms' 'bedrooms' 'latitude' 'longitude' 'listing_difference' 'price'\n",
      " 'price_t' 'num_photos' 'num_features' 'num_description_words' 'listing_id'\n",
      " 'price_diff' 'dayofyear' 'weekofyear' 'weekday' 'hour'\n",
      " 'street_address_count' 'manager_level_low' 'manager_level_medium'\n",
      " 'manager_level_high' 'density' 'manager_skill' 'cluster_18']\n",
      "[0]\ttrain-mlogloss:1.03128\ttest-mlogloss:1.03371\n",
      "Multiple eval metrics have been passed: 'test-mlogloss' will be used for early stopping.\n",
      "\n",
      "Will train until test-mlogloss hasn't improved in 20 rounds.\n",
      "[1]\ttrain-mlogloss:0.975195\ttest-mlogloss:0.979741\n",
      "[2]\ttrain-mlogloss:0.92823\ttest-mlogloss:0.934635\n",
      "[3]\ttrain-mlogloss:0.885755\ttest-mlogloss:0.893694\n",
      "[4]\ttrain-mlogloss:0.849337\ttest-mlogloss:0.859187\n",
      "[5]\ttrain-mlogloss:0.81728\ttest-mlogloss:0.828707\n",
      "[6]\ttrain-mlogloss:0.789873\ttest-mlogloss:0.802387\n",
      "[7]\ttrain-mlogloss:0.765772\ttest-mlogloss:0.779637\n",
      "[8]\ttrain-mlogloss:0.743955\ttest-mlogloss:0.758996\n",
      "[9]\ttrain-mlogloss:0.724961\ttest-mlogloss:0.741462\n",
      "[10]\ttrain-mlogloss:0.708295\ttest-mlogloss:0.725679\n",
      "[11]\ttrain-mlogloss:0.692676\ttest-mlogloss:0.711153\n",
      "[12]\ttrain-mlogloss:0.6788\ttest-mlogloss:0.698149\n",
      "[13]\ttrain-mlogloss:0.666365\ttest-mlogloss:0.686699\n",
      "[14]\ttrain-mlogloss:0.654725\ttest-mlogloss:0.676144\n",
      "[15]\ttrain-mlogloss:0.644988\ttest-mlogloss:0.66734\n",
      "[16]\ttrain-mlogloss:0.635852\ttest-mlogloss:0.65924\n",
      "[17]\ttrain-mlogloss:0.627712\ttest-mlogloss:0.65215\n",
      "[18]\ttrain-mlogloss:0.620328\ttest-mlogloss:0.645651\n",
      "[19]\ttrain-mlogloss:0.613217\ttest-mlogloss:0.639561\n",
      "[20]\ttrain-mlogloss:0.606911\ttest-mlogloss:0.633999\n",
      "[21]\ttrain-mlogloss:0.601367\ttest-mlogloss:0.629279\n",
      "[22]\ttrain-mlogloss:0.595996\ttest-mlogloss:0.624787\n",
      "[23]\ttrain-mlogloss:0.590698\ttest-mlogloss:0.620137\n",
      "[24]\ttrain-mlogloss:0.585945\ttest-mlogloss:0.616051\n",
      "[25]\ttrain-mlogloss:0.581815\ttest-mlogloss:0.612738\n",
      "[26]\ttrain-mlogloss:0.577785\ttest-mlogloss:0.609585\n",
      "[27]\ttrain-mlogloss:0.57406\ttest-mlogloss:0.606601\n",
      "[28]\ttrain-mlogloss:0.57062\ttest-mlogloss:0.603815\n",
      "[29]\ttrain-mlogloss:0.567577\ttest-mlogloss:0.6016\n",
      "[30]\ttrain-mlogloss:0.564452\ttest-mlogloss:0.599182\n",
      "[31]\ttrain-mlogloss:0.561193\ttest-mlogloss:0.596639\n",
      "[32]\ttrain-mlogloss:0.558582\ttest-mlogloss:0.594453\n",
      "[33]\ttrain-mlogloss:0.556162\ttest-mlogloss:0.592934\n",
      "[34]\ttrain-mlogloss:0.553935\ttest-mlogloss:0.591219\n",
      "[35]\ttrain-mlogloss:0.55133\ttest-mlogloss:0.589414\n",
      "[36]\ttrain-mlogloss:0.54902\ttest-mlogloss:0.587857\n",
      "[37]\ttrain-mlogloss:0.547349\ttest-mlogloss:0.586645\n",
      "[38]\ttrain-mlogloss:0.545574\ttest-mlogloss:0.585526\n",
      "[39]\ttrain-mlogloss:0.543518\ttest-mlogloss:0.584114\n",
      "[40]\ttrain-mlogloss:0.541266\ttest-mlogloss:0.582527\n",
      "[41]\ttrain-mlogloss:0.539583\ttest-mlogloss:0.581538\n",
      "[42]\ttrain-mlogloss:0.537944\ttest-mlogloss:0.580417\n",
      "[43]\ttrain-mlogloss:0.536355\ttest-mlogloss:0.579452\n",
      "[44]\ttrain-mlogloss:0.534417\ttest-mlogloss:0.578159\n",
      "[45]\ttrain-mlogloss:0.532808\ttest-mlogloss:0.577251\n",
      "[46]\ttrain-mlogloss:0.531047\ttest-mlogloss:0.576358\n",
      "[47]\ttrain-mlogloss:0.529553\ttest-mlogloss:0.575641\n",
      "[48]\ttrain-mlogloss:0.528226\ttest-mlogloss:0.575012\n",
      "[49]\ttrain-mlogloss:0.526863\ttest-mlogloss:0.574337\n",
      "[50]\ttrain-mlogloss:0.525548\ttest-mlogloss:0.573575\n",
      "[51]\ttrain-mlogloss:0.524096\ttest-mlogloss:0.572757\n",
      "[52]\ttrain-mlogloss:0.522867\ttest-mlogloss:0.57222\n",
      "[53]\ttrain-mlogloss:0.521341\ttest-mlogloss:0.571563\n",
      "[54]\ttrain-mlogloss:0.519894\ttest-mlogloss:0.571011\n",
      "[55]\ttrain-mlogloss:0.518352\ttest-mlogloss:0.570376\n",
      "[56]\ttrain-mlogloss:0.517183\ttest-mlogloss:0.569792\n",
      "[57]\ttrain-mlogloss:0.51562\ttest-mlogloss:0.569084\n",
      "[58]\ttrain-mlogloss:0.514488\ttest-mlogloss:0.568628\n",
      "[59]\ttrain-mlogloss:0.513452\ttest-mlogloss:0.568017\n",
      "[60]\ttrain-mlogloss:0.512415\ttest-mlogloss:0.567654\n",
      "[61]\ttrain-mlogloss:0.51122\ttest-mlogloss:0.56736\n",
      "[62]\ttrain-mlogloss:0.50979\ttest-mlogloss:0.566561\n",
      "[63]\ttrain-mlogloss:0.508581\ttest-mlogloss:0.565883\n",
      "[64]\ttrain-mlogloss:0.507768\ttest-mlogloss:0.565696\n",
      "[65]\ttrain-mlogloss:0.506196\ttest-mlogloss:0.564988\n",
      "[66]\ttrain-mlogloss:0.505122\ttest-mlogloss:0.564835\n",
      "[67]\ttrain-mlogloss:0.503834\ttest-mlogloss:0.56426\n",
      "[68]\ttrain-mlogloss:0.502669\ttest-mlogloss:0.563705\n",
      "[69]\ttrain-mlogloss:0.501872\ttest-mlogloss:0.563395\n",
      "[70]\ttrain-mlogloss:0.500423\ttest-mlogloss:0.562742\n",
      "[71]\ttrain-mlogloss:0.499357\ttest-mlogloss:0.562478\n",
      "[72]\ttrain-mlogloss:0.498458\ttest-mlogloss:0.562199\n",
      "[73]\ttrain-mlogloss:0.496951\ttest-mlogloss:0.561751\n",
      "[74]\ttrain-mlogloss:0.496187\ttest-mlogloss:0.561412\n",
      "[75]\ttrain-mlogloss:0.495202\ttest-mlogloss:0.561105\n",
      "[76]\ttrain-mlogloss:0.49423\ttest-mlogloss:0.560781\n",
      "[77]\ttrain-mlogloss:0.493011\ttest-mlogloss:0.560379\n",
      "[78]\ttrain-mlogloss:0.49185\ttest-mlogloss:0.560121\n",
      "[79]\ttrain-mlogloss:0.49123\ttest-mlogloss:0.560017\n",
      "[80]\ttrain-mlogloss:0.490503\ttest-mlogloss:0.559715\n",
      "[81]\ttrain-mlogloss:0.48948\ttest-mlogloss:0.55937\n",
      "[82]\ttrain-mlogloss:0.488498\ttest-mlogloss:0.559141\n",
      "[83]\ttrain-mlogloss:0.487256\ttest-mlogloss:0.558838\n",
      "[84]\ttrain-mlogloss:0.486304\ttest-mlogloss:0.558395\n",
      "[85]\ttrain-mlogloss:0.485643\ttest-mlogloss:0.558179\n",
      "[86]\ttrain-mlogloss:0.484783\ttest-mlogloss:0.557937\n",
      "[87]\ttrain-mlogloss:0.484036\ttest-mlogloss:0.55771\n",
      "[88]\ttrain-mlogloss:0.482909\ttest-mlogloss:0.557508\n",
      "[89]\ttrain-mlogloss:0.481987\ttest-mlogloss:0.557235\n",
      "[90]\ttrain-mlogloss:0.480951\ttest-mlogloss:0.557054\n",
      "[91]\ttrain-mlogloss:0.479877\ttest-mlogloss:0.556696\n",
      "[92]\ttrain-mlogloss:0.478791\ttest-mlogloss:0.556595\n",
      "[93]\ttrain-mlogloss:0.478128\ttest-mlogloss:0.556531\n",
      "[94]\ttrain-mlogloss:0.477401\ttest-mlogloss:0.556362\n",
      "[95]\ttrain-mlogloss:0.476525\ttest-mlogloss:0.556054\n",
      "[96]\ttrain-mlogloss:0.475724\ttest-mlogloss:0.556011\n",
      "[97]\ttrain-mlogloss:0.475034\ttest-mlogloss:0.555994\n",
      "[98]\ttrain-mlogloss:0.473993\ttest-mlogloss:0.55575\n",
      "[99]\ttrain-mlogloss:0.472917\ttest-mlogloss:0.555484\n",
      "[100]\ttrain-mlogloss:0.472369\ttest-mlogloss:0.55538\n",
      "[101]\ttrain-mlogloss:0.471568\ttest-mlogloss:0.555218\n",
      "[102]\ttrain-mlogloss:0.470783\ttest-mlogloss:0.55508\n",
      "[103]\ttrain-mlogloss:0.470018\ttest-mlogloss:0.554751\n",
      "[104]\ttrain-mlogloss:0.469202\ttest-mlogloss:0.554635\n",
      "[105]\ttrain-mlogloss:0.468527\ttest-mlogloss:0.554387\n",
      "[106]\ttrain-mlogloss:0.467741\ttest-mlogloss:0.554228\n",
      "[107]\ttrain-mlogloss:0.466777\ttest-mlogloss:0.553904\n",
      "[108]\ttrain-mlogloss:0.465946\ttest-mlogloss:0.553818\n",
      "[109]\ttrain-mlogloss:0.465\ttest-mlogloss:0.553488\n",
      "[110]\ttrain-mlogloss:0.464351\ttest-mlogloss:0.553299\n",
      "[111]\ttrain-mlogloss:0.463538\ttest-mlogloss:0.553057\n",
      "[112]\ttrain-mlogloss:0.462855\ttest-mlogloss:0.552856\n",
      "[113]\ttrain-mlogloss:0.462128\ttest-mlogloss:0.552613\n",
      "[114]\ttrain-mlogloss:0.461581\ttest-mlogloss:0.552622\n",
      "[115]\ttrain-mlogloss:0.460783\ttest-mlogloss:0.552532\n",
      "[116]\ttrain-mlogloss:0.459896\ttest-mlogloss:0.552304\n",
      "[117]\ttrain-mlogloss:0.45917\ttest-mlogloss:0.552209\n",
      "[118]\ttrain-mlogloss:0.458445\ttest-mlogloss:0.552054\n",
      "[119]\ttrain-mlogloss:0.457786\ttest-mlogloss:0.551834\n",
      "[120]\ttrain-mlogloss:0.457081\ttest-mlogloss:0.551707\n",
      "[121]\ttrain-mlogloss:0.456327\ttest-mlogloss:0.551545\n",
      "[122]\ttrain-mlogloss:0.455625\ttest-mlogloss:0.55142\n",
      "[123]\ttrain-mlogloss:0.454844\ttest-mlogloss:0.551344\n",
      "[124]\ttrain-mlogloss:0.454389\ttest-mlogloss:0.551244\n",
      "[125]\ttrain-mlogloss:0.453496\ttest-mlogloss:0.551012\n",
      "[126]\ttrain-mlogloss:0.452632\ttest-mlogloss:0.550996\n",
      "[127]\ttrain-mlogloss:0.452024\ttest-mlogloss:0.550826\n",
      "[128]\ttrain-mlogloss:0.451211\ttest-mlogloss:0.550694\n",
      "[129]\ttrain-mlogloss:0.450644\ttest-mlogloss:0.55065\n",
      "[130]\ttrain-mlogloss:0.449944\ttest-mlogloss:0.550599\n",
      "[131]\ttrain-mlogloss:0.44924\ttest-mlogloss:0.550475\n",
      "[132]\ttrain-mlogloss:0.448546\ttest-mlogloss:0.550396\n",
      "[133]\ttrain-mlogloss:0.447991\ttest-mlogloss:0.550247\n",
      "[134]\ttrain-mlogloss:0.447215\ttest-mlogloss:0.549918\n",
      "[135]\ttrain-mlogloss:0.446638\ttest-mlogloss:0.549878\n",
      "[136]\ttrain-mlogloss:0.44588\ttest-mlogloss:0.549726\n",
      "[137]\ttrain-mlogloss:0.445051\ttest-mlogloss:0.549539\n",
      "[138]\ttrain-mlogloss:0.44452\ttest-mlogloss:0.549591\n",
      "[139]\ttrain-mlogloss:0.443746\ttest-mlogloss:0.549435\n",
      "[140]\ttrain-mlogloss:0.443198\ttest-mlogloss:0.549344\n",
      "[141]\ttrain-mlogloss:0.442513\ttest-mlogloss:0.549304\n",
      "[142]\ttrain-mlogloss:0.441683\ttest-mlogloss:0.54931\n",
      "[143]\ttrain-mlogloss:0.441085\ttest-mlogloss:0.549272\n",
      "[144]\ttrain-mlogloss:0.440342\ttest-mlogloss:0.549031\n",
      "[145]\ttrain-mlogloss:0.439581\ttest-mlogloss:0.548843\n",
      "[146]\ttrain-mlogloss:0.438963\ttest-mlogloss:0.548806\n",
      "[147]\ttrain-mlogloss:0.438334\ttest-mlogloss:0.548615\n",
      "[148]\ttrain-mlogloss:0.437391\ttest-mlogloss:0.548474\n",
      "[149]\ttrain-mlogloss:0.436886\ttest-mlogloss:0.548437\n",
      "[150]\ttrain-mlogloss:0.436272\ttest-mlogloss:0.548422\n",
      "[151]\ttrain-mlogloss:0.435802\ttest-mlogloss:0.548318\n",
      "[152]\ttrain-mlogloss:0.435128\ttest-mlogloss:0.548251\n",
      "[153]\ttrain-mlogloss:0.434573\ttest-mlogloss:0.548246\n",
      "[154]\ttrain-mlogloss:0.433911\ttest-mlogloss:0.548089\n",
      "[155]\ttrain-mlogloss:0.433063\ttest-mlogloss:0.54806\n",
      "[156]\ttrain-mlogloss:0.432409\ttest-mlogloss:0.54807\n",
      "[157]\ttrain-mlogloss:0.431805\ttest-mlogloss:0.548003\n",
      "[158]\ttrain-mlogloss:0.431335\ttest-mlogloss:0.547915\n",
      "[159]\ttrain-mlogloss:0.430993\ttest-mlogloss:0.54787\n",
      "[160]\ttrain-mlogloss:0.430372\ttest-mlogloss:0.547768\n",
      "[161]\ttrain-mlogloss:0.429842\ttest-mlogloss:0.547875\n",
      "[162]\ttrain-mlogloss:0.429159\ttest-mlogloss:0.547799\n",
      "[163]\ttrain-mlogloss:0.428725\ttest-mlogloss:0.547776\n",
      "[164]\ttrain-mlogloss:0.428012\ttest-mlogloss:0.547711\n",
      "[165]\ttrain-mlogloss:0.427221\ttest-mlogloss:0.547621\n",
      "[166]\ttrain-mlogloss:0.42663\ttest-mlogloss:0.547546\n",
      "[167]\ttrain-mlogloss:0.42586\ttest-mlogloss:0.547368\n",
      "[168]\ttrain-mlogloss:0.425138\ttest-mlogloss:0.547388\n",
      "[169]\ttrain-mlogloss:0.424496\ttest-mlogloss:0.547513\n",
      "[170]\ttrain-mlogloss:0.423963\ttest-mlogloss:0.547453\n",
      "[171]\ttrain-mlogloss:0.42335\ttest-mlogloss:0.547381\n",
      "[172]\ttrain-mlogloss:0.422903\ttest-mlogloss:0.547246\n",
      "[173]\ttrain-mlogloss:0.422419\ttest-mlogloss:0.547274\n",
      "[174]\ttrain-mlogloss:0.421824\ttest-mlogloss:0.547176\n",
      "[175]\ttrain-mlogloss:0.421195\ttest-mlogloss:0.547074\n",
      "[176]\ttrain-mlogloss:0.420649\ttest-mlogloss:0.547115\n",
      "[177]\ttrain-mlogloss:0.4199\ttest-mlogloss:0.547076\n",
      "[178]\ttrain-mlogloss:0.419105\ttest-mlogloss:0.547097\n",
      "[179]\ttrain-mlogloss:0.418461\ttest-mlogloss:0.547047\n",
      "[180]\ttrain-mlogloss:0.417883\ttest-mlogloss:0.546912\n",
      "[181]\ttrain-mlogloss:0.417317\ttest-mlogloss:0.546856\n",
      "[182]\ttrain-mlogloss:0.416566\ttest-mlogloss:0.546777\n",
      "[183]\ttrain-mlogloss:0.416068\ttest-mlogloss:0.546711\n",
      "[184]\ttrain-mlogloss:0.415433\ttest-mlogloss:0.546688\n",
      "[185]\ttrain-mlogloss:0.414892\ttest-mlogloss:0.546626\n",
      "[186]\ttrain-mlogloss:0.41435\ttest-mlogloss:0.54654\n",
      "[187]\ttrain-mlogloss:0.4137\ttest-mlogloss:0.546485\n",
      "[188]\ttrain-mlogloss:0.413189\ttest-mlogloss:0.546466\n",
      "[189]\ttrain-mlogloss:0.412867\ttest-mlogloss:0.546559\n",
      "[190]\ttrain-mlogloss:0.412211\ttest-mlogloss:0.546541\n",
      "[191]\ttrain-mlogloss:0.411776\ttest-mlogloss:0.546517\n",
      "[192]\ttrain-mlogloss:0.411207\ttest-mlogloss:0.54644\n",
      "[193]\ttrain-mlogloss:0.410462\ttest-mlogloss:0.546659\n",
      "[194]\ttrain-mlogloss:0.409771\ttest-mlogloss:0.546659\n",
      "[195]\ttrain-mlogloss:0.409376\ttest-mlogloss:0.546644\n",
      "[196]\ttrain-mlogloss:0.408718\ttest-mlogloss:0.546613\n",
      "[197]\ttrain-mlogloss:0.408251\ttest-mlogloss:0.546488\n",
      "[198]\ttrain-mlogloss:0.407512\ttest-mlogloss:0.546462\n",
      "[199]\ttrain-mlogloss:0.407008\ttest-mlogloss:0.546448\n",
      "[200]\ttrain-mlogloss:0.406394\ttest-mlogloss:0.546535\n",
      "[201]\ttrain-mlogloss:0.405633\ttest-mlogloss:0.546538\n",
      "[202]\ttrain-mlogloss:0.405112\ttest-mlogloss:0.546562\n",
      "[203]\ttrain-mlogloss:0.404428\ttest-mlogloss:0.546451\n",
      "[204]\ttrain-mlogloss:0.403804\ttest-mlogloss:0.546399\n",
      "[205]\ttrain-mlogloss:0.403096\ttest-mlogloss:0.546275\n",
      "[206]\ttrain-mlogloss:0.402472\ttest-mlogloss:0.546214\n",
      "[207]\ttrain-mlogloss:0.402021\ttest-mlogloss:0.546135\n",
      "[208]\ttrain-mlogloss:0.401254\ttest-mlogloss:0.546081\n",
      "[209]\ttrain-mlogloss:0.400805\ttest-mlogloss:0.546036\n",
      "[210]\ttrain-mlogloss:0.40024\ttest-mlogloss:0.546167\n",
      "[211]\ttrain-mlogloss:0.39966\ttest-mlogloss:0.546043\n",
      "[212]\ttrain-mlogloss:0.399029\ttest-mlogloss:0.546104\n",
      "[213]\ttrain-mlogloss:0.398729\ttest-mlogloss:0.54615\n",
      "[214]\ttrain-mlogloss:0.398028\ttest-mlogloss:0.546165\n",
      "[215]\ttrain-mlogloss:0.39769\ttest-mlogloss:0.546213\n",
      "[216]\ttrain-mlogloss:0.39712\ttest-mlogloss:0.546148\n",
      "[217]\ttrain-mlogloss:0.396359\ttest-mlogloss:0.546112\n",
      "[218]\ttrain-mlogloss:0.395699\ttest-mlogloss:0.546025\n",
      "[219]\ttrain-mlogloss:0.394981\ttest-mlogloss:0.546054\n",
      "[220]\ttrain-mlogloss:0.394676\ttest-mlogloss:0.546105\n",
      "[221]\ttrain-mlogloss:0.394028\ttest-mlogloss:0.546188\n",
      "[222]\ttrain-mlogloss:0.393832\ttest-mlogloss:0.546236\n",
      "[223]\ttrain-mlogloss:0.393292\ttest-mlogloss:0.546225\n",
      "[224]\ttrain-mlogloss:0.3927\ttest-mlogloss:0.546233\n",
      "[225]\ttrain-mlogloss:0.392073\ttest-mlogloss:0.546224\n",
      "[226]\ttrain-mlogloss:0.391648\ttest-mlogloss:0.546199\n",
      "[227]\ttrain-mlogloss:0.391135\ttest-mlogloss:0.546131\n",
      "[228]\ttrain-mlogloss:0.390707\ttest-mlogloss:0.546088\n",
      "[229]\ttrain-mlogloss:0.39023\ttest-mlogloss:0.545986\n",
      "[230]\ttrain-mlogloss:0.389761\ttest-mlogloss:0.545929\n",
      "[231]\ttrain-mlogloss:0.389339\ttest-mlogloss:0.545924\n",
      "[232]\ttrain-mlogloss:0.388673\ttest-mlogloss:0.545845\n",
      "[233]\ttrain-mlogloss:0.388219\ttest-mlogloss:0.545806\n",
      "[234]\ttrain-mlogloss:0.387697\ttest-mlogloss:0.545891\n",
      "[235]\ttrain-mlogloss:0.387228\ttest-mlogloss:0.545832\n",
      "[236]\ttrain-mlogloss:0.386756\ttest-mlogloss:0.545801\n",
      "[237]\ttrain-mlogloss:0.386312\ttest-mlogloss:0.545746\n",
      "[238]\ttrain-mlogloss:0.385786\ttest-mlogloss:0.545796\n",
      "[239]\ttrain-mlogloss:0.385243\ttest-mlogloss:0.545765\n",
      "[240]\ttrain-mlogloss:0.384825\ttest-mlogloss:0.54573\n",
      "[241]\ttrain-mlogloss:0.384306\ttest-mlogloss:0.54578\n",
      "[242]\ttrain-mlogloss:0.383851\ttest-mlogloss:0.545774\n",
      "[243]\ttrain-mlogloss:0.383358\ttest-mlogloss:0.545855\n",
      "[244]\ttrain-mlogloss:0.382922\ttest-mlogloss:0.545932\n",
      "[245]\ttrain-mlogloss:0.382434\ttest-mlogloss:0.545906\n",
      "[246]\ttrain-mlogloss:0.381928\ttest-mlogloss:0.545847\n",
      "[247]\ttrain-mlogloss:0.381497\ttest-mlogloss:0.545867\n",
      "[248]\ttrain-mlogloss:0.38107\ttest-mlogloss:0.545922\n",
      "[249]\ttrain-mlogloss:0.380537\ttest-mlogloss:0.545859\n",
      "[250]\ttrain-mlogloss:0.380126\ttest-mlogloss:0.545826\n",
      "[251]\ttrain-mlogloss:0.379524\ttest-mlogloss:0.54578\n",
      "[252]\ttrain-mlogloss:0.378893\ttest-mlogloss:0.545786\n",
      "[253]\ttrain-mlogloss:0.378382\ttest-mlogloss:0.545613\n",
      "[254]\ttrain-mlogloss:0.37796\ttest-mlogloss:0.545606\n",
      "[255]\ttrain-mlogloss:0.377535\ttest-mlogloss:0.54577\n",
      "[256]\ttrain-mlogloss:0.377032\ttest-mlogloss:0.545743\n",
      "[257]\ttrain-mlogloss:0.376721\ttest-mlogloss:0.545715\n",
      "[258]\ttrain-mlogloss:0.376164\ttest-mlogloss:0.545666\n",
      "[259]\ttrain-mlogloss:0.375565\ttest-mlogloss:0.545626\n",
      "[260]\ttrain-mlogloss:0.375037\ttest-mlogloss:0.545592\n",
      "[261]\ttrain-mlogloss:0.374648\ttest-mlogloss:0.545589\n",
      "[262]\ttrain-mlogloss:0.374122\ttest-mlogloss:0.545624\n",
      "[263]\ttrain-mlogloss:0.373565\ttest-mlogloss:0.545574\n",
      "[264]\ttrain-mlogloss:0.372927\ttest-mlogloss:0.545577\n",
      "[265]\ttrain-mlogloss:0.372494\ttest-mlogloss:0.545603\n",
      "[266]\ttrain-mlogloss:0.371881\ttest-mlogloss:0.545498\n",
      "[267]\ttrain-mlogloss:0.371431\ttest-mlogloss:0.545456\n",
      "[268]\ttrain-mlogloss:0.37104\ttest-mlogloss:0.54535\n",
      "[269]\ttrain-mlogloss:0.370594\ttest-mlogloss:0.545362\n",
      "[270]\ttrain-mlogloss:0.370061\ttest-mlogloss:0.545272\n",
      "[271]\ttrain-mlogloss:0.369666\ttest-mlogloss:0.545343\n",
      "[272]\ttrain-mlogloss:0.36926\ttest-mlogloss:0.545406\n",
      "[273]\ttrain-mlogloss:0.368675\ttest-mlogloss:0.545372\n",
      "[274]\ttrain-mlogloss:0.368268\ttest-mlogloss:0.545368\n",
      "[275]\ttrain-mlogloss:0.367717\ttest-mlogloss:0.545254\n",
      "[276]\ttrain-mlogloss:0.367246\ttest-mlogloss:0.545292\n",
      "[277]\ttrain-mlogloss:0.366871\ttest-mlogloss:0.545256\n",
      "[278]\ttrain-mlogloss:0.366423\ttest-mlogloss:0.545279\n",
      "[279]\ttrain-mlogloss:0.365787\ttest-mlogloss:0.545194\n",
      "[280]\ttrain-mlogloss:0.365251\ttest-mlogloss:0.545229\n",
      "[281]\ttrain-mlogloss:0.364818\ttest-mlogloss:0.545241\n",
      "[282]\ttrain-mlogloss:0.364209\ttest-mlogloss:0.54513\n",
      "[283]\ttrain-mlogloss:0.363727\ttest-mlogloss:0.545018\n",
      "[284]\ttrain-mlogloss:0.363406\ttest-mlogloss:0.545005\n",
      "[285]\ttrain-mlogloss:0.362874\ttest-mlogloss:0.54506\n",
      "[286]\ttrain-mlogloss:0.3623\ttest-mlogloss:0.545027\n",
      "[287]\ttrain-mlogloss:0.361958\ttest-mlogloss:0.544999\n",
      "[288]\ttrain-mlogloss:0.361467\ttest-mlogloss:0.544974\n",
      "[289]\ttrain-mlogloss:0.36106\ttest-mlogloss:0.544978\n",
      "[290]\ttrain-mlogloss:0.360617\ttest-mlogloss:0.544964\n",
      "[291]\ttrain-mlogloss:0.360329\ttest-mlogloss:0.544942\n",
      "[292]\ttrain-mlogloss:0.359789\ttest-mlogloss:0.544988\n",
      "[293]\ttrain-mlogloss:0.359308\ttest-mlogloss:0.545114\n",
      "[294]\ttrain-mlogloss:0.358939\ttest-mlogloss:0.545052\n",
      "[295]\ttrain-mlogloss:0.358287\ttest-mlogloss:0.545043\n",
      "[296]\ttrain-mlogloss:0.357806\ttest-mlogloss:0.545038\n",
      "[297]\ttrain-mlogloss:0.357334\ttest-mlogloss:0.545031\n",
      "[298]\ttrain-mlogloss:0.356792\ttest-mlogloss:0.545084\n",
      "[299]\ttrain-mlogloss:0.356373\ttest-mlogloss:0.545036\n",
      "[300]\ttrain-mlogloss:0.355963\ttest-mlogloss:0.544978\n",
      "[301]\ttrain-mlogloss:0.355655\ttest-mlogloss:0.545008\n",
      "[302]\ttrain-mlogloss:0.355316\ttest-mlogloss:0.545184\n",
      "[303]\ttrain-mlogloss:0.354861\ttest-mlogloss:0.545204\n",
      "[304]\ttrain-mlogloss:0.354513\ttest-mlogloss:0.545164\n",
      "[305]\ttrain-mlogloss:0.353965\ttest-mlogloss:0.545202\n",
      "[306]\ttrain-mlogloss:0.353412\ttest-mlogloss:0.545226\n",
      "[307]\ttrain-mlogloss:0.353001\ttest-mlogloss:0.545287\n",
      "[308]\ttrain-mlogloss:0.352562\ttest-mlogloss:0.545353\n",
      "[309]\ttrain-mlogloss:0.352004\ttest-mlogloss:0.545431\n",
      "[310]\ttrain-mlogloss:0.351631\ttest-mlogloss:0.545473\n",
      "[311]\ttrain-mlogloss:0.351129\ttest-mlogloss:0.54547\n",
      "Stopping. Best iteration:\n",
      "[291]\ttrain-mlogloss:0.360329\ttest-mlogloss:0.544942\n",
      "\n"
     ]
    }
   ],
   "source": [
    "train_X_full, test_X_full = cluster_latlon(18, train_df, test_df)\n",
    "\n",
    "print(train_X_full.columns.values)\n",
    "\n",
    "features_to_use_upd = features_to_use\n",
    "features_to_use_upd.append(\"cluster_18\")\n",
    "#\n",
    "print(features_to_use)\n",
    "#features_to_use_upd.remove(\"cluster_9\")\n",
    "train_X_sel = train_X_full[features_to_use_upd]\n",
    "test_X_sel = test_X_full[features_to_use_upd]\n",
    "\n",
    "print(train_X_sel.columns.values)\n",
    "\n",
    "train_model(train_X_sel, train_df['interest_level'])\n",
    "\n",
    "features_to_use_upd.remove(\"cluster_18\")"
   ]
  },
  {
   "cell_type": "code",
   "execution_count": 96,
   "metadata": {
    "collapsed": false
   },
   "outputs": [
    {
     "name": "stdout",
     "output_type": "stream",
     "text": [
      "['bathrooms', 'bedrooms', 'latitude', 'longitude', 'listing_difference', 'price', 'price_t', 'num_photos', 'num_features', 'num_description_words', 'listing_id', 'price_diff', 'dayofyear', 'weekofyear', 'weekday', 'hour', 'street_address_count', 'manager_level_low', 'manager_level_medium', 'manager_level_high', 'density', 'manager_skill', 'cluster_9', 'cluster_9']\n"
     ]
    }
   ],
   "source": [
    "print(features_to_use_upd)"
   ]
  },
  {
   "cell_type": "markdown",
   "metadata": {},
   "source": [
    "Now it is important ot make a decision how many clusters to use for this particular data set."
   ]
  },
  {
   "cell_type": "markdown",
   "metadata": {},
   "source": [
    "We are adding the newly created variable to features_to_use."
   ]
  },
  {
   "cell_type": "markdown",
   "metadata": {},
   "source": [
    "Transforming the feature variable."
   ]
  },
  {
   "cell_type": "code",
   "execution_count": 49,
   "metadata": {
    "collapsed": false
   },
   "outputs": [
    {
     "name": "stdout",
     "output_type": "stream",
     "text": [
      "0                                                     \n",
      "1                                                     \n",
      "2                                                     \n",
      "3          Doorman Elevator Dishwasher Hardwood_Floors\n",
      "4    Fireplace Dining_Room Balcony Doorman Elevator...\n",
      "Name: features, dtype: object\n"
     ]
    }
   ],
   "source": [
    "train_df['features'] = train_df[\"features\"].apply(lambda x: \" \".join([\"_\".join(i.split(\" \")) for i in x]))\n",
    "test_df['features'] = test_df[\"features\"].apply(lambda x: \" \".join([\"_\".join(i.split(\" \")) for i in x]))\n",
    "print(train_df[\"features\"].head())\n",
    "tfidf = CountVectorizer(stop_words='english', max_features=200)\n",
    "tr_sparse = tfidf.fit_transform(train_df[\"features\"])\n",
    "te_sparse = tfidf.transform(test_df[\"features\"])\n",
    "\n",
    "col_desc = ['desc_'+ i for i in tfidf.get_feature_names()] \n",
    "count_vect_df = pd.DataFrame(tr_sparse.todense(), columns=col_desc)\n",
    "train_X_full = pd.concat([train_df[features_to_use].reset_index(),count_vect_df],axis=1)\n",
    "\n",
    "count_vect_test_df = pd.DataFrame(te_sparse.todense(), columns=col_desc)\n",
    "test_X_full = pd.concat([test_df[features_to_use].reset_index(),count_vect_test_df],axis=1)"
   ]
  },
  {
   "cell_type": "markdown",
   "metadata": {},
   "source": [
    "Source for part of the code https://www.kaggle.com/ug2409/two-sigma-connect-rental-listing-inquiries/using-description-as-the-only-feature-72-cv"
   ]
  },
  {
   "cell_type": "code",
   "execution_count": 50,
   "metadata": {
    "collapsed": false
   },
   "outputs": [
    {
     "name": "stdout",
     "output_type": "stream",
     "text": [
      "(74659, 223)\n",
      "(49352, 223)\n"
     ]
    }
   ],
   "source": [
    "print(test_X_full.shape)\n",
    "print(train_X_full.shape)"
   ]
  },
  {
   "cell_type": "markdown",
   "metadata": {},
   "source": [
    "Now we will combine the newly created feature variables, which represent whether a feature is present or not, with the initial data frame"
   ]
  },
  {
   "cell_type": "code",
   "execution_count": 51,
   "metadata": {
    "collapsed": false
   },
   "outputs": [],
   "source": [
    "#Maybe we do not need this part\n",
    "#train_X = sparse.hstack([train_df[features_to_use], tr_sparse]).tocsr()\n",
    "#test_X = sparse.hstack([test_df[features_to_use], te_sparse]).tocsr()\n",
    "\n",
    "target_num_map = {'high':0, 'medium':1, 'low':2}\n",
    "train_y = np.array(train_df['interest_level'].apply(lambda x: target_num_map[x]))\n",
    "#print(train_X.shape, test_X.shape)"
   ]
  },
  {
   "cell_type": "code",
   "execution_count": 81,
   "metadata": {
    "collapsed": false
   },
   "outputs": [
    {
     "name": "stdout",
     "output_type": "stream",
     "text": [
      "[0]\ttrain-mlogloss:1.03303\ttest-mlogloss:1.03433\n",
      "Multiple eval metrics have been passed: 'test-mlogloss' will be used for early stopping.\n",
      "\n",
      "Will train until test-mlogloss hasn't improved in 20 rounds.\n",
      "[1]\ttrain-mlogloss:0.976144\ttest-mlogloss:0.978975\n",
      "[2]\ttrain-mlogloss:0.927146\ttest-mlogloss:0.931413\n",
      "[3]\ttrain-mlogloss:0.884742\ttest-mlogloss:0.890487\n",
      "[4]\ttrain-mlogloss:0.848655\ttest-mlogloss:0.855892\n",
      "[5]\ttrain-mlogloss:0.817034\ttest-mlogloss:0.825638\n",
      "[6]\ttrain-mlogloss:0.788661\ttest-mlogloss:0.798492\n",
      "[7]\ttrain-mlogloss:0.76398\ttest-mlogloss:0.775082\n",
      "[8]\ttrain-mlogloss:0.742216\ttest-mlogloss:0.754436\n",
      "[9]\ttrain-mlogloss:0.722461\ttest-mlogloss:0.73599\n",
      "[10]\ttrain-mlogloss:0.705488\ttest-mlogloss:0.720167\n",
      "[11]\ttrain-mlogloss:0.690404\ttest-mlogloss:0.706025\n",
      "[12]\ttrain-mlogloss:0.676374\ttest-mlogloss:0.693337\n",
      "[13]\ttrain-mlogloss:0.663468\ttest-mlogloss:0.681635\n",
      "[14]\ttrain-mlogloss:0.651882\ttest-mlogloss:0.671117\n",
      "[15]\ttrain-mlogloss:0.641458\ttest-mlogloss:0.661819\n",
      "[16]\ttrain-mlogloss:0.63222\ttest-mlogloss:0.65383\n",
      "[17]\ttrain-mlogloss:0.623775\ttest-mlogloss:0.646521\n",
      "[18]\ttrain-mlogloss:0.615917\ttest-mlogloss:0.639783\n",
      "[19]\ttrain-mlogloss:0.608826\ttest-mlogloss:0.633721\n",
      "[20]\ttrain-mlogloss:0.602267\ttest-mlogloss:0.628176\n",
      "[21]\ttrain-mlogloss:0.595926\ttest-mlogloss:0.622954\n",
      "[22]\ttrain-mlogloss:0.590574\ttest-mlogloss:0.618312\n",
      "[23]\ttrain-mlogloss:0.585429\ttest-mlogloss:0.614255\n",
      "[24]\ttrain-mlogloss:0.580684\ttest-mlogloss:0.610377\n",
      "[25]\ttrain-mlogloss:0.576042\ttest-mlogloss:0.60672\n",
      "[26]\ttrain-mlogloss:0.571918\ttest-mlogloss:0.603525\n",
      "[27]\ttrain-mlogloss:0.567935\ttest-mlogloss:0.600546\n",
      "[28]\ttrain-mlogloss:0.564234\ttest-mlogloss:0.597635\n",
      "[29]\ttrain-mlogloss:0.560927\ttest-mlogloss:0.595284\n",
      "[30]\ttrain-mlogloss:0.558197\ttest-mlogloss:0.59336\n",
      "[31]\ttrain-mlogloss:0.555322\ttest-mlogloss:0.591106\n",
      "[32]\ttrain-mlogloss:0.552459\ttest-mlogloss:0.589272\n",
      "[33]\ttrain-mlogloss:0.54978\ttest-mlogloss:0.587492\n",
      "[34]\ttrain-mlogloss:0.546891\ttest-mlogloss:0.58568\n",
      "[35]\ttrain-mlogloss:0.544389\ttest-mlogloss:0.583914\n",
      "[36]\ttrain-mlogloss:0.541921\ttest-mlogloss:0.582123\n",
      "[37]\ttrain-mlogloss:0.539752\ttest-mlogloss:0.580725\n",
      "[38]\ttrain-mlogloss:0.53768\ttest-mlogloss:0.579352\n",
      "[39]\ttrain-mlogloss:0.535489\ttest-mlogloss:0.578108\n",
      "[40]\ttrain-mlogloss:0.533859\ttest-mlogloss:0.577163\n",
      "[41]\ttrain-mlogloss:0.53201\ttest-mlogloss:0.575971\n",
      "[42]\ttrain-mlogloss:0.529659\ttest-mlogloss:0.574565\n",
      "[43]\ttrain-mlogloss:0.528241\ttest-mlogloss:0.573747\n",
      "[44]\ttrain-mlogloss:0.526759\ttest-mlogloss:0.573093\n",
      "[45]\ttrain-mlogloss:0.52536\ttest-mlogloss:0.572254\n",
      "[46]\ttrain-mlogloss:0.523404\ttest-mlogloss:0.571102\n",
      "[47]\ttrain-mlogloss:0.521785\ttest-mlogloss:0.570381\n",
      "[48]\ttrain-mlogloss:0.520121\ttest-mlogloss:0.569437\n",
      "[49]\ttrain-mlogloss:0.518506\ttest-mlogloss:0.568569\n",
      "[50]\ttrain-mlogloss:0.517047\ttest-mlogloss:0.568022\n",
      "[51]\ttrain-mlogloss:0.515088\ttest-mlogloss:0.567216\n",
      "[52]\ttrain-mlogloss:0.51331\ttest-mlogloss:0.566287\n",
      "[53]\ttrain-mlogloss:0.511669\ttest-mlogloss:0.565643\n",
      "[54]\ttrain-mlogloss:0.510342\ttest-mlogloss:0.565018\n",
      "[55]\ttrain-mlogloss:0.50907\ttest-mlogloss:0.564548\n",
      "[56]\ttrain-mlogloss:0.507448\ttest-mlogloss:0.563897\n",
      "[57]\ttrain-mlogloss:0.50623\ttest-mlogloss:0.563476\n",
      "[58]\ttrain-mlogloss:0.504716\ttest-mlogloss:0.563032\n",
      "[59]\ttrain-mlogloss:0.503582\ttest-mlogloss:0.562625\n",
      "[60]\ttrain-mlogloss:0.5023\ttest-mlogloss:0.562051\n",
      "[61]\ttrain-mlogloss:0.501329\ttest-mlogloss:0.561584\n",
      "[62]\ttrain-mlogloss:0.500297\ttest-mlogloss:0.561339\n",
      "[63]\ttrain-mlogloss:0.499469\ttest-mlogloss:0.560934\n",
      "[64]\ttrain-mlogloss:0.498553\ttest-mlogloss:0.560472\n",
      "[65]\ttrain-mlogloss:0.497435\ttest-mlogloss:0.559955\n",
      "[66]\ttrain-mlogloss:0.49642\ttest-mlogloss:0.559518\n",
      "[67]\ttrain-mlogloss:0.495481\ttest-mlogloss:0.558916\n",
      "[68]\ttrain-mlogloss:0.494055\ttest-mlogloss:0.558416\n",
      "[69]\ttrain-mlogloss:0.493083\ttest-mlogloss:0.558212\n",
      "[70]\ttrain-mlogloss:0.491999\ttest-mlogloss:0.557993\n",
      "[71]\ttrain-mlogloss:0.490553\ttest-mlogloss:0.557652\n",
      "[72]\ttrain-mlogloss:0.48973\ttest-mlogloss:0.557403\n",
      "[73]\ttrain-mlogloss:0.488633\ttest-mlogloss:0.557024\n",
      "[74]\ttrain-mlogloss:0.487334\ttest-mlogloss:0.556644\n",
      "[75]\ttrain-mlogloss:0.486198\ttest-mlogloss:0.556411\n",
      "[76]\ttrain-mlogloss:0.484991\ttest-mlogloss:0.555856\n",
      "[77]\ttrain-mlogloss:0.48388\ttest-mlogloss:0.555494\n",
      "[78]\ttrain-mlogloss:0.483058\ttest-mlogloss:0.555357\n",
      "[79]\ttrain-mlogloss:0.482198\ttest-mlogloss:0.554993\n",
      "[80]\ttrain-mlogloss:0.48116\ttest-mlogloss:0.554562\n",
      "[81]\ttrain-mlogloss:0.480415\ttest-mlogloss:0.554208\n",
      "[82]\ttrain-mlogloss:0.479486\ttest-mlogloss:0.553969\n",
      "[83]\ttrain-mlogloss:0.478439\ttest-mlogloss:0.55365\n",
      "[84]\ttrain-mlogloss:0.477698\ttest-mlogloss:0.55342\n",
      "[85]\ttrain-mlogloss:0.476893\ttest-mlogloss:0.553164\n",
      "[86]\ttrain-mlogloss:0.475986\ttest-mlogloss:0.552966\n",
      "[87]\ttrain-mlogloss:0.475087\ttest-mlogloss:0.552691\n",
      "[88]\ttrain-mlogloss:0.473944\ttest-mlogloss:0.552325\n",
      "[89]\ttrain-mlogloss:0.473061\ttest-mlogloss:0.552057\n",
      "[90]\ttrain-mlogloss:0.472371\ttest-mlogloss:0.551923\n",
      "[91]\ttrain-mlogloss:0.471525\ttest-mlogloss:0.551847\n",
      "[92]\ttrain-mlogloss:0.470562\ttest-mlogloss:0.551404\n",
      "[93]\ttrain-mlogloss:0.469855\ttest-mlogloss:0.551191\n",
      "[94]\ttrain-mlogloss:0.469118\ttest-mlogloss:0.551057\n",
      "[95]\ttrain-mlogloss:0.468267\ttest-mlogloss:0.550734\n",
      "[96]\ttrain-mlogloss:0.467462\ttest-mlogloss:0.550493\n",
      "[97]\ttrain-mlogloss:0.46655\ttest-mlogloss:0.550256\n",
      "[98]\ttrain-mlogloss:0.46553\ttest-mlogloss:0.550034\n",
      "[99]\ttrain-mlogloss:0.464893\ttest-mlogloss:0.549912\n",
      "[100]\ttrain-mlogloss:0.464083\ttest-mlogloss:0.549746\n",
      "[101]\ttrain-mlogloss:0.463415\ttest-mlogloss:0.549488\n",
      "[102]\ttrain-mlogloss:0.462569\ttest-mlogloss:0.549395\n",
      "[103]\ttrain-mlogloss:0.461699\ttest-mlogloss:0.549156\n",
      "[104]\ttrain-mlogloss:0.460887\ttest-mlogloss:0.549039\n",
      "[105]\ttrain-mlogloss:0.459878\ttest-mlogloss:0.54886\n",
      "[106]\ttrain-mlogloss:0.458759\ttest-mlogloss:0.548661\n",
      "[107]\ttrain-mlogloss:0.457677\ttest-mlogloss:0.548535\n",
      "[108]\ttrain-mlogloss:0.457324\ttest-mlogloss:0.548534\n",
      "[109]\ttrain-mlogloss:0.45648\ttest-mlogloss:0.548426\n",
      "[110]\ttrain-mlogloss:0.455545\ttest-mlogloss:0.548299\n",
      "[111]\ttrain-mlogloss:0.454875\ttest-mlogloss:0.54818\n",
      "[112]\ttrain-mlogloss:0.454125\ttest-mlogloss:0.547998\n",
      "[113]\ttrain-mlogloss:0.453407\ttest-mlogloss:0.547913\n",
      "[114]\ttrain-mlogloss:0.452511\ttest-mlogloss:0.547613\n",
      "[115]\ttrain-mlogloss:0.451772\ttest-mlogloss:0.547427\n",
      "[116]\ttrain-mlogloss:0.450825\ttest-mlogloss:0.547218\n",
      "[117]\ttrain-mlogloss:0.450092\ttest-mlogloss:0.546992\n",
      "[118]\ttrain-mlogloss:0.44927\ttest-mlogloss:0.546906\n",
      "[119]\ttrain-mlogloss:0.448326\ttest-mlogloss:0.546704\n",
      "[120]\ttrain-mlogloss:0.447785\ttest-mlogloss:0.54664\n",
      "[121]\ttrain-mlogloss:0.44673\ttest-mlogloss:0.546431\n",
      "[122]\ttrain-mlogloss:0.446024\ttest-mlogloss:0.546142\n",
      "[123]\ttrain-mlogloss:0.4453\ttest-mlogloss:0.546186\n",
      "[124]\ttrain-mlogloss:0.444352\ttest-mlogloss:0.545978\n",
      "[125]\ttrain-mlogloss:0.443751\ttest-mlogloss:0.545921\n",
      "[126]\ttrain-mlogloss:0.442783\ttest-mlogloss:0.545577\n",
      "[127]\ttrain-mlogloss:0.442135\ttest-mlogloss:0.545483\n",
      "[128]\ttrain-mlogloss:0.441581\ttest-mlogloss:0.545527\n",
      "[129]\ttrain-mlogloss:0.441279\ttest-mlogloss:0.545459\n",
      "[130]\ttrain-mlogloss:0.440727\ttest-mlogloss:0.54541\n",
      "[131]\ttrain-mlogloss:0.440278\ttest-mlogloss:0.545293\n",
      "[132]\ttrain-mlogloss:0.439423\ttest-mlogloss:0.54533\n",
      "[133]\ttrain-mlogloss:0.43907\ttest-mlogloss:0.545334\n",
      "[134]\ttrain-mlogloss:0.438519\ttest-mlogloss:0.545241\n",
      "[135]\ttrain-mlogloss:0.437901\ttest-mlogloss:0.545217\n",
      "[136]\ttrain-mlogloss:0.437498\ttest-mlogloss:0.545117\n",
      "[137]\ttrain-mlogloss:0.436826\ttest-mlogloss:0.544971\n",
      "[138]\ttrain-mlogloss:0.43618\ttest-mlogloss:0.544984\n",
      "[139]\ttrain-mlogloss:0.435652\ttest-mlogloss:0.544903\n",
      "[140]\ttrain-mlogloss:0.434947\ttest-mlogloss:0.54491\n",
      "[141]\ttrain-mlogloss:0.434506\ttest-mlogloss:0.544856\n",
      "[142]\ttrain-mlogloss:0.433879\ttest-mlogloss:0.544804\n",
      "[143]\ttrain-mlogloss:0.433173\ttest-mlogloss:0.544737\n",
      "[144]\ttrain-mlogloss:0.432359\ttest-mlogloss:0.544683\n",
      "[145]\ttrain-mlogloss:0.431545\ttest-mlogloss:0.544425\n",
      "[146]\ttrain-mlogloss:0.430977\ttest-mlogloss:0.544445\n",
      "[147]\ttrain-mlogloss:0.430061\ttest-mlogloss:0.544316\n",
      "[148]\ttrain-mlogloss:0.429287\ttest-mlogloss:0.544206\n",
      "[149]\ttrain-mlogloss:0.428586\ttest-mlogloss:0.54416\n",
      "[150]\ttrain-mlogloss:0.427681\ttest-mlogloss:0.543942\n",
      "[151]\ttrain-mlogloss:0.42695\ttest-mlogloss:0.543792\n",
      "[152]\ttrain-mlogloss:0.426128\ttest-mlogloss:0.543741\n",
      "[153]\ttrain-mlogloss:0.425518\ttest-mlogloss:0.54364\n",
      "[154]\ttrain-mlogloss:0.424735\ttest-mlogloss:0.54353\n",
      "[155]\ttrain-mlogloss:0.424053\ttest-mlogloss:0.543441\n",
      "[156]\ttrain-mlogloss:0.42314\ttest-mlogloss:0.543463\n",
      "[157]\ttrain-mlogloss:0.422481\ttest-mlogloss:0.543465\n",
      "[158]\ttrain-mlogloss:0.422005\ttest-mlogloss:0.543425\n",
      "[159]\ttrain-mlogloss:0.421368\ttest-mlogloss:0.54336\n",
      "[160]\ttrain-mlogloss:0.420733\ttest-mlogloss:0.543255\n",
      "[161]\ttrain-mlogloss:0.420166\ttest-mlogloss:0.543238\n",
      "[162]\ttrain-mlogloss:0.419677\ttest-mlogloss:0.543248\n",
      "[163]\ttrain-mlogloss:0.419051\ttest-mlogloss:0.543274\n",
      "[164]\ttrain-mlogloss:0.418219\ttest-mlogloss:0.5431\n",
      "[165]\ttrain-mlogloss:0.417571\ttest-mlogloss:0.5432\n",
      "[166]\ttrain-mlogloss:0.417142\ttest-mlogloss:0.543255\n",
      "[167]\ttrain-mlogloss:0.416891\ttest-mlogloss:0.543192\n",
      "[168]\ttrain-mlogloss:0.416131\ttest-mlogloss:0.542866\n",
      "[169]\ttrain-mlogloss:0.415469\ttest-mlogloss:0.542705\n",
      "[170]\ttrain-mlogloss:0.414652\ttest-mlogloss:0.542593\n",
      "[171]\ttrain-mlogloss:0.414083\ttest-mlogloss:0.542686\n",
      "[172]\ttrain-mlogloss:0.413623\ttest-mlogloss:0.5426\n",
      "[173]\ttrain-mlogloss:0.413147\ttest-mlogloss:0.542566\n",
      "[174]\ttrain-mlogloss:0.412808\ttest-mlogloss:0.542521\n",
      "[175]\ttrain-mlogloss:0.412569\ttest-mlogloss:0.542534\n",
      "[176]\ttrain-mlogloss:0.41204\ttest-mlogloss:0.542563\n",
      "[177]\ttrain-mlogloss:0.41132\ttest-mlogloss:0.542574\n",
      "[178]\ttrain-mlogloss:0.410714\ttest-mlogloss:0.54264\n",
      "[179]\ttrain-mlogloss:0.410069\ttest-mlogloss:0.542541\n",
      "[180]\ttrain-mlogloss:0.40933\ttest-mlogloss:0.542502\n",
      "[181]\ttrain-mlogloss:0.408872\ttest-mlogloss:0.542463\n",
      "[182]\ttrain-mlogloss:0.408057\ttest-mlogloss:0.54241\n",
      "[183]\ttrain-mlogloss:0.407254\ttest-mlogloss:0.542377\n",
      "[184]\ttrain-mlogloss:0.406502\ttest-mlogloss:0.542397\n",
      "[185]\ttrain-mlogloss:0.405982\ttest-mlogloss:0.542427\n",
      "[186]\ttrain-mlogloss:0.40547\ttest-mlogloss:0.542422\n",
      "[187]\ttrain-mlogloss:0.405023\ttest-mlogloss:0.542373\n",
      "[188]\ttrain-mlogloss:0.404587\ttest-mlogloss:0.542274\n",
      "[189]\ttrain-mlogloss:0.403839\ttest-mlogloss:0.542145\n",
      "[190]\ttrain-mlogloss:0.403341\ttest-mlogloss:0.542168\n",
      "[191]\ttrain-mlogloss:0.402962\ttest-mlogloss:0.542117\n",
      "[192]\ttrain-mlogloss:0.402417\ttest-mlogloss:0.542025\n",
      "[193]\ttrain-mlogloss:0.401879\ttest-mlogloss:0.542003\n",
      "[194]\ttrain-mlogloss:0.401336\ttest-mlogloss:0.541862\n",
      "[195]\ttrain-mlogloss:0.400689\ttest-mlogloss:0.541814\n",
      "[196]\ttrain-mlogloss:0.4003\ttest-mlogloss:0.541663\n",
      "[197]\ttrain-mlogloss:0.39981\ttest-mlogloss:0.541615\n",
      "[198]\ttrain-mlogloss:0.399067\ttest-mlogloss:0.541558\n",
      "[199]\ttrain-mlogloss:0.398617\ttest-mlogloss:0.541503\n",
      "[200]\ttrain-mlogloss:0.397986\ttest-mlogloss:0.54141\n",
      "[201]\ttrain-mlogloss:0.397521\ttest-mlogloss:0.54148\n",
      "[202]\ttrain-mlogloss:0.397184\ttest-mlogloss:0.541357\n",
      "[203]\ttrain-mlogloss:0.396699\ttest-mlogloss:0.541381\n",
      "[204]\ttrain-mlogloss:0.396107\ttest-mlogloss:0.541312\n",
      "[205]\ttrain-mlogloss:0.395448\ttest-mlogloss:0.541211\n",
      "[206]\ttrain-mlogloss:0.395177\ttest-mlogloss:0.541128\n",
      "[207]\ttrain-mlogloss:0.394604\ttest-mlogloss:0.541144\n",
      "[208]\ttrain-mlogloss:0.393805\ttest-mlogloss:0.541119\n",
      "[209]\ttrain-mlogloss:0.393344\ttest-mlogloss:0.541051\n",
      "[210]\ttrain-mlogloss:0.392616\ttest-mlogloss:0.541077\n",
      "[211]\ttrain-mlogloss:0.392193\ttest-mlogloss:0.540972\n",
      "[212]\ttrain-mlogloss:0.391666\ttest-mlogloss:0.540891\n",
      "[213]\ttrain-mlogloss:0.3912\ttest-mlogloss:0.540959\n",
      "[214]\ttrain-mlogloss:0.390797\ttest-mlogloss:0.540882\n",
      "[215]\ttrain-mlogloss:0.390294\ttest-mlogloss:0.540934\n",
      "[216]\ttrain-mlogloss:0.389499\ttest-mlogloss:0.540801\n",
      "[217]\ttrain-mlogloss:0.388999\ttest-mlogloss:0.540763\n",
      "[218]\ttrain-mlogloss:0.388545\ttest-mlogloss:0.540692\n",
      "[219]\ttrain-mlogloss:0.388011\ttest-mlogloss:0.540763\n",
      "[220]\ttrain-mlogloss:0.387589\ttest-mlogloss:0.540853\n",
      "[221]\ttrain-mlogloss:0.387103\ttest-mlogloss:0.540818\n",
      "[222]\ttrain-mlogloss:0.386538\ttest-mlogloss:0.540712\n",
      "[223]\ttrain-mlogloss:0.385994\ttest-mlogloss:0.540699\n",
      "[224]\ttrain-mlogloss:0.385567\ttest-mlogloss:0.54069\n",
      "[225]\ttrain-mlogloss:0.384874\ttest-mlogloss:0.540713\n",
      "[226]\ttrain-mlogloss:0.384224\ttest-mlogloss:0.540604\n",
      "[227]\ttrain-mlogloss:0.383732\ttest-mlogloss:0.540535\n",
      "[228]\ttrain-mlogloss:0.383133\ttest-mlogloss:0.540581\n",
      "[229]\ttrain-mlogloss:0.3825\ttest-mlogloss:0.540517\n",
      "[230]\ttrain-mlogloss:0.381854\ttest-mlogloss:0.54045\n",
      "[231]\ttrain-mlogloss:0.381411\ttest-mlogloss:0.540442\n",
      "[232]\ttrain-mlogloss:0.381134\ttest-mlogloss:0.540416\n",
      "[233]\ttrain-mlogloss:0.380726\ttest-mlogloss:0.540408\n",
      "[234]\ttrain-mlogloss:0.380277\ttest-mlogloss:0.540464\n",
      "[235]\ttrain-mlogloss:0.379865\ttest-mlogloss:0.54042\n",
      "[236]\ttrain-mlogloss:0.379277\ttest-mlogloss:0.540411\n",
      "[237]\ttrain-mlogloss:0.378808\ttest-mlogloss:0.540421\n",
      "[238]\ttrain-mlogloss:0.378494\ttest-mlogloss:0.5404\n",
      "[239]\ttrain-mlogloss:0.378068\ttest-mlogloss:0.540304\n",
      "[240]\ttrain-mlogloss:0.377465\ttest-mlogloss:0.540305\n",
      "[241]\ttrain-mlogloss:0.376885\ttest-mlogloss:0.540442\n",
      "[242]\ttrain-mlogloss:0.376222\ttest-mlogloss:0.540573\n",
      "[243]\ttrain-mlogloss:0.375648\ttest-mlogloss:0.540578\n",
      "[244]\ttrain-mlogloss:0.375174\ttest-mlogloss:0.54058\n",
      "[245]\ttrain-mlogloss:0.374651\ttest-mlogloss:0.540661\n",
      "[246]\ttrain-mlogloss:0.374137\ttest-mlogloss:0.540675\n",
      "[247]\ttrain-mlogloss:0.373715\ttest-mlogloss:0.540649\n",
      "[248]\ttrain-mlogloss:0.373221\ttest-mlogloss:0.540643\n",
      "[249]\ttrain-mlogloss:0.372754\ttest-mlogloss:0.540601\n",
      "[250]\ttrain-mlogloss:0.372226\ttest-mlogloss:0.54061\n",
      "[251]\ttrain-mlogloss:0.371688\ttest-mlogloss:0.540442\n",
      "[252]\ttrain-mlogloss:0.371144\ttest-mlogloss:0.540428\n",
      "[253]\ttrain-mlogloss:0.370684\ttest-mlogloss:0.540327\n",
      "[254]\ttrain-mlogloss:0.370187\ttest-mlogloss:0.540309\n",
      "[255]\ttrain-mlogloss:0.369623\ttest-mlogloss:0.540306\n",
      "[256]\ttrain-mlogloss:0.369396\ttest-mlogloss:0.540421\n",
      "[257]\ttrain-mlogloss:0.369063\ttest-mlogloss:0.540463\n",
      "[258]\ttrain-mlogloss:0.368625\ttest-mlogloss:0.540481\n",
      "[259]\ttrain-mlogloss:0.368008\ttest-mlogloss:0.540465\n",
      "Stopping. Best iteration:\n",
      "[239]\ttrain-mlogloss:0.378068\ttest-mlogloss:0.540304\n",
      "\n"
     ]
    },
    {
     "data": {
      "text/plain": [
       "[0.54046477515564872]"
      ]
     },
     "execution_count": 81,
     "metadata": {},
     "output_type": "execute_result"
    }
   ],
   "source": [
    "train_model(train_X_full, train_df['interest_level'])"
   ]
  },
  {
   "cell_type": "code",
   "execution_count": 87,
   "metadata": {
    "collapsed": false
   },
   "outputs": [],
   "source": [
    "# not needed\n",
    "train_X_full = train_X_full.drop(\"listing_id\", axis=1)\n",
    "test_X_full = test_X_full.drop(\"listing_id\", axis=1)"
   ]
  },
  {
   "cell_type": "code",
   "execution_count": 16,
   "metadata": {
    "collapsed": false
   },
   "outputs": [
    {
     "name": "stdout",
     "output_type": "stream",
     "text": [
      "Before train function\n"
     ]
    }
   ],
   "source": [
    "#preds, model = runXGB(train_X, train_y, test_X, num_rounds=300)\n",
    "preds, model = runXGB(train_X_full, train_y, test_X_full, num_rounds=300)\n",
    "\n",
    "out_df = pd.DataFrame(preds)\n",
    "out_df.columns = [\"high\", \"medium\", \"low\"]\n",
    "out_df[\"listing_id\"] = test_df.listing_id.values\n",
    "out_df.to_csv(\"xgb_starter_results_v11.csv\", index=False)"
   ]
  },
  {
   "cell_type": "code",
   "execution_count": 85,
   "metadata": {
    "collapsed": false
   },
   "outputs": [
    {
     "data": {
      "text/plain": [
       "<matplotlib.figure.Figure at 0x1fd4e51aac8>"
      ]
     },
     "metadata": {},
     "output_type": "display_data"
    },
    {
     "data": {
      "image/png": "[encoded data removed]",
      "text/plain": [
       "<matplotlib.figure.Figure at 0x1fd4e51b908>"
      ]
     },
     "metadata": {},
     "output_type": "display_data"
    },
    {
     "data": {
      "image/png": "[encoded data removed]",
      "text/plain": [
       "<matplotlib.figure.Figure at 0x1fd4e5086d8>"
      ]
     },
     "metadata": {},
     "output_type": "display_data"
    }
   ],
   "source": [
    "from matplotlib import pylab as plt\n",
    "from xgboost import plot_tree\n",
    "\n",
    "importance = model.get_fscore()\n",
    "importance = sorted(importance.items(), key=operator.itemgetter(1))\n",
    "\n",
    "df = pd.DataFrame(importance, columns=['feature', 'fscore'])\n",
    "df['fscore'] = df['fscore'] / df['fscore'].sum()\n",
    "df = df[df['fscore']>0.02]\n",
    "\n",
    "plt.style.use('ggplot') \n",
    "\n",
    "plt.figure()\n",
    "df.plot()\n",
    "df.plot(kind='barh', x='feature', y='fscore', legend=False, figsize=(6, 10))\n",
    "plt.title('XGBoost Feature Importance')\n",
    "plt.xlabel('relative importance')\n",
    "plt.show()"
   ]
  },
  {
   "cell_type": "markdown",
   "metadata": {},
   "source": [
    "Transforming the initial variabels by using a factor analysis."
   ]
  },
  {
   "cell_type": "code",
   "execution_count": 64,
   "metadata": {
    "collapsed": false
   },
   "outputs": [
    {
     "name": "stdout",
     "output_type": "stream",
     "text": [
      "          bathrooms      bedrooms      latitude     longitude  \\\n",
      "count  74659.000000  74659.000000  74659.000000  74659.000000   \n",
      "mean       1.212915      1.544663     40.735060    -73.945282   \n",
      "std        0.649820      1.107014      0.806687      1.487795   \n",
      "min        0.000000      0.000000      0.000000   -121.488000   \n",
      "25%        1.000000      1.000000     40.727800    -73.991800   \n",
      "50%        1.000000      1.000000     40.751600    -73.977700   \n",
      "75%        1.000000      2.000000     40.774300    -73.954700   \n",
      "max      112.000000      7.000000     42.872700      0.000000   \n",
      "\n",
      "       listing_difference         price        price_t    num_photos  \\\n",
      "count        74659.000000  7.465900e+04   74659.000000  74659.000000   \n",
      "mean          5490.850989  3.749033e+03    1631.330597      5.620193   \n",
      "std          34640.183017  9.713092e+03    4482.208640      3.641383   \n",
      "min            -82.000000  1.000000e+00       0.333333      0.000000   \n",
      "25%           1291.000000  2.495000e+03    1065.000000      4.000000   \n",
      "50%           2544.000000  3.150000e+03    1377.500000      5.000000   \n",
      "75%           4058.000000  4.100000e+03    1950.000000      7.000000   \n",
      "max         930659.000000  1.675000e+06  558333.333333     50.000000   \n",
      "\n",
      "       num_features  num_description_words      ...           dayofyear  \\\n",
      "count  74659.000000           74659.000000      ...        74659.000000   \n",
      "mean       5.423593              90.093050      ...          136.972743   \n",
      "std        3.917167              60.771831      ...           25.887725   \n",
      "min        0.000000               1.000000      ...           92.000000   \n",
      "25%        2.000000              50.000000      ...          114.000000   \n",
      "50%        5.000000              83.000000      ...          137.000000   \n",
      "75%        8.000000             119.000000      ...          160.000000   \n",
      "max       36.000000            2837.000000      ...          181.000000   \n",
      "\n",
      "         weekofyear       weekday          hour  street_address_count  \\\n",
      "count  74659.000000  74659.000000  74659.000000          69041.000000   \n",
      "mean      19.575872      2.941641      4.799087           1518.084182   \n",
      "std        3.712203      1.779753      4.216924           3163.585520   \n",
      "min       13.000000      0.000000      0.000000              1.000000   \n",
      "25%       16.000000      1.000000      2.000000              9.000000   \n",
      "50%       20.000000      3.000000      4.000000             27.000000   \n",
      "75%       23.000000      4.000000      5.000000            123.000000   \n",
      "max       26.000000      6.000000     23.000000           8286.000000   \n",
      "\n",
      "       manager_level_low  manager_level_medium  manager_level_high  \\\n",
      "count       74659.000000          74659.000000        74659.000000   \n",
      "mean            0.679105              0.224937            0.076215   \n",
      "std             0.266156              0.182449            0.120126   \n",
      "min             0.000000              0.000000            0.000000   \n",
      "25%             0.515823              0.056911            0.000000   \n",
      "50%             0.689655              0.227273            0.034783   \n",
      "75%             0.909091              0.360000            0.100000   \n",
      "max             1.000000              1.000000            1.000000   \n",
      "\n",
      "            density  manager_skill  \n",
      "count  74659.000000   74659.000000  \n",
      "mean      53.945834       1.357624  \n",
      "std       61.159249       0.395703  \n",
      "min        1.000000       0.000000  \n",
      "25%       12.000000       1.083333  \n",
      "50%       35.000000       1.333333  \n",
      "75%       70.000000       1.571429  \n",
      "max      346.000000       3.000000  \n",
      "\n",
      "[8 rows x 22 columns]\n",
      "0\n",
      "[[-0.04411326 -0.39328468  0.95700575 ...,  0.          0.          0.        ]\n",
      " [-0.04170644 -0.40980401  0.99527416 ...,  0.          0.          0.        ]\n",
      " [-0.04428371 -0.40666604  1.00130813 ...,  0.          0.          0.        ]\n",
      " ..., \n",
      " [-0.02346864 -0.0179775  -0.06806555 ...,  0.          0.          0.        ]\n",
      " [-0.03962835 -0.14728265  0.24900195 ...,  0.          0.          0.        ]\n",
      " [-0.0344923  -0.18033182  0.22155937 ...,  0.          0.          0.        ]]\n"
     ]
    }
   ],
   "source": [
    "\n",
    "#from sklearn.decomposition import FactorAnalysis\n",
    "#iris = load_iris()\n",
    "#X, y = train_X_full, train_y\n",
    "#train_X_full.info()\n",
    "#print(train_X_full.columns.values)\n",
    "\n",
    "from sklearn import decomposition, preprocessing\n",
    "#print(train_X_full.describe())\n",
    "print(test_X_full[features_to_use].describe())\n",
    "#train_X_full.fillna(0, inplace=True)\n",
    "test_X_full.fillna(0, inplace=True)\n",
    "#print(type(train_X_full))\n",
    "#print(train_X_full.isinf().sum().sum())\n",
    "print(test_X_full.isnull().sum().sum())\n",
    "\n",
    "#for col_name in test_X_full.columns.values:\n",
    "#    print(col_name)\n",
    "#    print(test_X_full[col_name].isnull().sum().sum())\n",
    "\n",
    "train_X_normal_df = preprocessing.scale(train_X_full) # Normalization\n",
    "test_X_normal_df = preprocessing.scale(test_X_full) \n",
    "\n",
    "fa = decomposition.FactorAnalysis()\n",
    "train_X_factor_df = fa.fit_transform(train_X_normal_df)\n",
    "test_X_factor_df = fa.transform(test_X_normal_df)\n",
    "\n",
    "print (train_X_factor_df) # Factor loadings\n",
    "\n",
    "\n",
    "#factor = FactorAnalysis(random_state=101).fit(train_X_full)"
   ]
  },
  {
   "cell_type": "code",
   "execution_count": 65,
   "metadata": {
    "collapsed": false
   },
   "outputs": [
    {
     "name": "stdout",
     "output_type": "stream",
     "text": [
      "(49352, 223)\n"
     ]
    }
   ],
   "source": [
    "print(train_X_factor_df.shape)"
   ]
  },
  {
   "cell_type": "code",
   "execution_count": 44,
   "metadata": {
    "collapsed": false
   },
   "outputs": [
    {
     "name": "stdout",
     "output_type": "stream",
     "text": [
      "latitude\n",
      "before xgboost\n",
      "Before train function\n",
      "sfter xgboost\n",
      "longitude\n",
      "before xgboost\n",
      "Before train function\n",
      "sfter xgboost\n",
      "price_diff\n",
      "before xgboost\n",
      "Before train function\n",
      "sfter xgboost\n",
      "price\n",
      "before xgboost\n",
      "Before train function\n",
      "sfter xgboost\n",
      "num_description_words\n",
      "before xgboost\n",
      "Before train function\n",
      "sfter xgboost\n",
      "price_t\n",
      "before xgboost\n",
      "Before train function\n",
      "sfter xgboost\n"
     ]
    }
   ],
   "source": [
    "remove_vars = [\"latitude\", \"longitude\", \"price_diff\", \"price\", \"num_description_words\", \"price_t\"]\n",
    "\n",
    "all_results_df = out_df\n",
    "for var in remove_vars:\n",
    "    print(var)\n",
    "    train_X_partial = train_X_full.drop(var, axis=1)\n",
    "    test_X_partial= test_X_full.drop(var, axis=1)\n",
    "    print(\"before xgboost\")\n",
    "    preds, model = runXGB(train_X_partial, train_y, test_X_partial, num_rounds=300)\n",
    "    print(\"sfter xgboost\")\n",
    "    out_df = pd.DataFrame(preds)\n",
    "    out_df.columns = [\"high\", \"medium\", \"low\"]\n",
    "    out_df[\"listing_id\"] = test_df.listing_id.values\n",
    "    if all_results_df.empty: \n",
    "        all_results_df = out_df\n",
    "    else:\n",
    "        all_results_df.append(out_df)\n",
    "\n",
    "final_out_df = all_results_df.groupby([\"listing_id\"]).mean()\n",
    "#out_df = out_df.add_suffix('_mean').reset_index()\n",
    "final_out_df = final_out_df.reset_index()\n",
    "\n",
    "final_out_df.to_csv(\"xgb_starter_results_v11.csv\", index=False)    "
   ]
  },
  {
   "cell_type": "markdown",
   "metadata": {},
   "source": [
    "Predicting and saving the output."
   ]
  },
  {
   "cell_type": "code",
   "execution_count": 126,
   "metadata": {
    "collapsed": false
   },
   "outputs": [
    {
     "data": {
      "text/plain": [
       "<matplotlib.figure.Figure at 0x17dcc9ebac8>"
      ]
     },
     "metadata": {},
     "output_type": "display_data"
    },
    {
     "data": {
      "image/png": "[encoded data removed]",
      "text/plain": [
       "<matplotlib.figure.Figure at 0x17dbe79f390>"
      ]
     },
     "metadata": {},
     "output_type": "display_data"
    },
    {
     "data": {
      "image/png": "[encoded data removed]",
      "text/plain": [
       "<matplotlib.figure.Figure at 0x17dbe779940>"
      ]
     },
     "metadata": {},
     "output_type": "display_data"
    }
   ],
   "source": [
    "from matplotlib import pylab as plt\n",
    "from xgboost import plot_tree\n",
    "\n",
    "importance = model.get_fscore()\n",
    "importance = sorted(importance.items(), key=operator.itemgetter(1))\n",
    "\n",
    "df = pd.DataFrame(importance, columns=['feature', 'fscore'])\n",
    "df['fscore'] = df['fscore'] / df['fscore'].sum()\n",
    "df = df[df['fscore']>0.02]\n",
    "\n",
    "plt.style.use('ggplot') \n",
    "\n",
    "plt.figure()\n",
    "df.plot()\n",
    "df.plot(kind='barh', x='feature', y='fscore', legend=False, figsize=(6, 10))\n",
    "plt.title('XGBoost Feature Importance')\n",
    "plt.xlabel('relative importance')\n",
    "plt.show()\n"
   ]
  },
  {
   "cell_type": "code",
   "execution_count": null,
   "metadata": {
    "collapsed": true
   },
   "outputs": [],
   "source": []
  }
 ],
 "metadata": {
  "kernelspec": {
   "display_name": "Python 3",
   "language": "python",
   "name": "python3"
  },
  "language_info": {
   "codemirror_mode": {
    "name": "ipython",
    "version": 3
   },
   "file_extension": ".py",
   "mimetype": "text/x-python",
   "name": "python",
   "nbconvert_exporter": "python",
   "pygments_lexer": "ipython3",
   "version": "3.6.0"
  }
 },
 "nbformat": 4,
 "nbformat_minor": 2
}
