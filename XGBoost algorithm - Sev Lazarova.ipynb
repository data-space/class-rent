{
 "cells": [
  {
   "cell_type": "markdown",
   "metadata": {},
   "source": [
    "## Preparing the data set\n",
    "\n",
    "The first step before running the clustering algorithm is to prepare the training and the testing data set. \n"
   ]
  },
  {
   "cell_type": "code",
   "execution_count": 1,
   "metadata": {
    "collapsed": false
   },
   "outputs": [],
   "source": [
    "import pandas as pd\n",
    "import numpy as np\n",
    "import matplotlib.pyplot as plt\n",
    "import seaborn as sns\n",
    "import warnings\n",
    "warnings.filterwarnings('ignore')\n",
    "\n",
    "sns.set(style=\"whitegrid\", color_codes=True)\n",
    "sns.palplot(sns.color_palette(\"RdBu\", n_colors=7))\n",
    "\n",
    "fileNameTrain = \"C:\\\\Users\\\\sevda\\\\Documents\\\\Data Lab\\\\Six sigma rental property\\\\train.json\\\\train.json\"\n",
    "train_df = pd.read_json(fileNameTrain)\n",
    "\n",
    "fileNameTest = \"C:\\\\Users\\\\sevda\\\\Documents\\\\Data Lab\\\\Six sigma rental property\\\\test.json\\\\test.json\"\n",
    "test_df = pd.read_json(fileNameTest)\n",
    "\n"
   ]
  },
  {
   "cell_type": "code",
   "execution_count": 2,
   "metadata": {
    "collapsed": true
   },
   "outputs": [],
   "source": [
    "lower_limit_lon = np.percentile(train_df.longitude.values, 1)\n",
    "upper_limit_lon = np.percentile(train_df.longitude.values, 99)\n",
    "train_df['longitude'].ix[train_df['longitude']<lower_limit_lon] = lower_limit_lon\n",
    "train_df['longitude'].ix[train_df['longitude']>upper_limit_lon] = upper_limit_lon\n",
    "test_df['longitude'].ix[test_df['longitude']<lower_limit_lon] = lower_limit_lon\n",
    "test_df['longitude'].ix[test_df['longitude']>upper_limit_lon] = upper_limit_lon\n",
    "\n",
    "lower_limit_lat = np.percentile(train_df.latitude.values, 1)\n",
    "upper_limit_lat = np.percentile(train_df.latitude.values, 99)\n",
    "train_df['latitude'].ix[train_df['latitude']<lower_limit_lat] = lower_limit_lat\n",
    "train_df['latitude'].ix[train_df['latitude']>upper_limit_lat] = upper_limit_lat\n",
    "test_df['latitude'].ix[test_df['latitude']<lower_limit_lat] = lower_limit_lat\n",
    "test_df['latitude'].ix[test_df['latitude']>upper_limit_lat] = upper_limit_lat"
   ]
  },
  {
   "cell_type": "code",
   "execution_count": 3,
   "metadata": {
    "collapsed": false
   },
   "outputs": [],
   "source": [
    "import shapefile\n",
    "\n",
    "sf = shapefile.Reader(\"C:\\\\Users\\\\sevda\\\\Documents\\\\Data Lab\\\\Six sigma rental property\\\\ZillowNeighborhoods-NY\\\\ZillowNeighborhoods-NY.shp\")\n",
    "\n",
    "shapes = sf.shapes()\n",
    "records = sf.records()\n",
    "\n",
    "towns_values = [records[i][2] for i in range(len(records))]\n",
    "neighb_values = [records[i][3] for i in range(len(records))]\n",
    "west_values = [shapes[i].bbox[0] for i in range(len(records))]\n",
    "south_values = [shapes[i].bbox[1] for i in range(len(records))]\n",
    "east_values = [shapes[i].bbox[2] for i in range(len(records))]\n",
    "north_values = [shapes[i].bbox[3] for i in range(len(records))]\n",
    "\n",
    "west, south, east, north = -74.02, 40.64, -73.85, 40.86\n",
    "\n",
    "neighbourhood_pd = pd.DataFrame({'Town' : towns_values,\n",
    "                                 'Neighbourhood' : neighb_values,\n",
    "                                 'West' : west_values,\n",
    "                                 'South' : south_values,\n",
    "                                 'East' : east_values,\n",
    "                                 'North' : north_values})\n",
    "\n",
    "neighbourhood_pd = neighbourhood_pd[neighbourhood_pd.Town == \"New York\"]\n",
    "neighbourhood_pd = neighbourhood_pd.ix[(neighbourhood_pd.West >= west) & \n",
    "                                     (neighbourhood_pd.East <= east) & \n",
    "                                     (neighbourhood_pd.South >= south) & \n",
    "                                     (neighbourhood_pd.North <= north)]\n",
    "\n",
    "neighbourhood_sorted_pd = neighbourhood_pd.sort_values(['West'])\n",
    "\n",
    "\n",
    "neighbourhood_ls = []\n",
    "for num in range(0, train_df.shape[0]):\n",
    "    temp = neighbourhood_sorted_pd[(neighbourhood_sorted_pd.West<train_df.longitude.values[num]) &\n",
    "                                   (neighbourhood_sorted_pd.East>train_df.longitude.values[num]) &\n",
    "                                   (neighbourhood_sorted_pd.South<train_df.latitude.values[num]) &\n",
    "                                   (neighbourhood_sorted_pd.North>train_df.latitude.values[num])]\n",
    "    if temp.shape[0] > 0:\n",
    "        neighbourhood_ls += [temp.Neighbourhood.values[0]]\n",
    "    else:\n",
    "        neighbourhood_ls += [\"Other\"]\n",
    "    \n",
    "train_df['neighbourhood'] = pd.Series(neighbourhood_ls, index=train_df.index)\n",
    "\n",
    "neighbourhood_ls = []\n",
    "for num in range(0, test_df.shape[0]):\n",
    "    temp = neighbourhood_sorted_pd[(neighbourhood_sorted_pd.West<test_df.longitude.values[num]) &\n",
    "                                   (neighbourhood_sorted_pd.East>test_df.longitude.values[num]) &\n",
    "                                   (neighbourhood_sorted_pd.South<test_df.latitude.values[num]) &\n",
    "                                   (neighbourhood_sorted_pd.North>test_df.latitude.values[num])]\n",
    "    if temp.shape[0] > 0:\n",
    "        neighbourhood_ls += [temp.Neighbourhood.values[0]]\n",
    "    else:\n",
    "        neighbourhood_ls += [\"Other\"]\n",
    "    \n",
    "test_df['neighbourhood'] = pd.Series(neighbourhood_ls, index=test_df.index)"
   ]
  },
  {
   "cell_type": "code",
   "execution_count": 46,
   "metadata": {
    "collapsed": false
   },
   "outputs": [
    {
     "name": "stdout",
     "output_type": "stream",
     "text": [
      "(49352, 25)\n"
     ]
    }
   ],
   "source": [
    "unique_neighbourhoods_arr = np.sort(test_df['neighbourhood'].unique())\n",
    "unique_neighbourhoods_dict = dict(enumerate(np.sort(unique_neighbourhoods_arr)))\n",
    "#unique_neighbourhoods_dict.iteritems()\n",
    "unique_neighbourhoods_dict = dict((y,x) for (x,y) in unique_neighbourhoods_dict.items())\n",
    "#print(unique_neighbourhoods_dict)\n",
    "train_df['neighbourhood_id'] = train_df['neighbourhood'].map(unique_neighbourhoods_dict)\n",
    "test_df['neighbourhood_id'] = test_df['neighbourhood'].map(unique_neighbourhoods_dict)\n",
    "\n",
    "print(train_df.shape)"
   ]
  },
  {
   "cell_type": "markdown",
   "metadata": {},
   "source": [
    "As a next step, we will extract the key words from the description variable - by key words, we define words that are in the description of the unit but are not stop words as defined by the ntlk.corpus package."
   ]
  },
  {
   "cell_type": "code",
   "execution_count": 47,
   "metadata": {
    "collapsed": false
   },
   "outputs": [
    {
     "name": "stdout",
     "output_type": "stream",
     "text": [
      "10        77.0\n",
      "10000     73.0\n",
      "100004    76.0\n",
      "100007    71.0\n",
      "100013    33.0\n",
      "Name: neighbourhood_id, dtype: float64\n"
     ]
    }
   ],
   "source": [
    "#print(train_df['neighbourhood_id'].head())"
   ]
  },
  {
   "cell_type": "code",
   "execution_count": 4,
   "metadata": {
    "collapsed": true
   },
   "outputs": [],
   "source": [
    "from nltk.corpus import stopwords\n",
    "\n",
    "cachedStopWords = stopwords.words(\"english\")\n",
    "\n",
    "description_key_words_ls = []\n",
    "\n",
    "for ind, row in train_df.iterrows():\n",
    "        #print(row['features'])\n",
    "        #description = description.lower()\n",
    "        description = row['description'].lower().rstrip(',?!.')\n",
    "        description = ' '.join([word for word in description.split() if word not in cachedStopWords])\n",
    "        description_ls = description.split(\" \")\n",
    "        description_key_words_ls += [description_ls]\n",
    "\n",
    "train_df['description_key_words'] = pd.Series(description_key_words_ls, index=train_df.index)\n",
    "\n",
    "description_key_words_ls = []\n",
    "\n",
    "for ind, row in test_df.iterrows():\n",
    "        #print(row['features'])\n",
    "        #description = description.lower()\n",
    "        description = row['description'].lower().rstrip(',?!.')\n",
    "        description = ' '.join([word for word in description.split() if word not in cachedStopWords])\n",
    "        description_ls = description.split(\" \")\n",
    "        description_key_words_ls += [description_ls]\n",
    "\n",
    "test_df['description_key_words'] = pd.Series(description_key_words_ls, index=test_df.index)"
   ]
  },
  {
   "cell_type": "markdown",
   "metadata": {},
   "source": [
    "We will create two numeric variables which describe the number of features and number of key words in the description section"
   ]
  },
  {
   "cell_type": "code",
   "execution_count": 5,
   "metadata": {
    "collapsed": true
   },
   "outputs": [],
   "source": [
    "train_df['num_features'] = train_df.features.apply(len)\n",
    "train_df['num_key_words_description'] = train_df.description_key_words.apply(len)\n",
    "\n",
    "test_df['num_features'] = test_df.features.apply(len)\n",
    "test_df['num_key_words_description'] = test_df.description_key_words.apply(len)"
   ]
  },
  {
   "cell_type": "markdown",
   "metadata": {},
   "source": [
    "From the Created variable, we will extract into new variables the exact data when the listing was created, the day of year, week of year, weekday and hour."
   ]
  },
  {
   "cell_type": "code",
   "execution_count": 6,
   "metadata": {
    "collapsed": true
   },
   "outputs": [],
   "source": [
    "train_df[\"created\"] = pd.to_datetime(train_df[\"created\"])\n",
    "train_df[\"date\"]= train_df[\"created\"].dt.date\n",
    "\n",
    "train_df[\"dayofyear\"] = train_df[\"created\"].dt.dayofyear\n",
    "train_df[\"weekofyear\"] = train_df[\"created\"].dt.weekofyear\n",
    "train_df[\"weekday\"] = train_df[\"created\"].dt.weekday\n",
    "train_df[\"hour\"] = train_df[\"created\"].dt.hour\n",
    "\n",
    "test_df[\"created\"] = pd.to_datetime(test_df[\"created\"])\n",
    "test_df[\"date\"]= test_df[\"created\"].dt.date\n",
    "\n",
    "test_df[\"dayofyear\"] = test_df[\"created\"].dt.dayofyear\n",
    "test_df[\"weekofyear\"] = test_df[\"created\"].dt.weekofyear\n",
    "test_df[\"weekday\"] = test_df[\"created\"].dt.weekday\n",
    "test_df[\"hour\"] = test_df[\"created\"].dt.hour"
   ]
  },
  {
   "cell_type": "markdown",
   "metadata": {},
   "source": [
    "The train and the test data set are ready so the next step is to apply the XGBoost algorithm.\n"
   ]
  },
  {
   "cell_type": "code",
   "execution_count": 15,
   "metadata": {
    "collapsed": false
   },
   "outputs": [],
   "source": [
    "import xgboost as xgb\n",
    "from xgboost.sklearn import XGBClassifier\n",
    "from sklearn import cross_validation, metrics   #Additional scklearn functions\n",
    "from sklearn.grid_search import GridSearchCV   #Perforing grid search\n",
    "\n",
    "alg = XGBClassifier(\n",
    "                     learning_rate =0.1,\n",
    "                     n_estimators=1000,\n",
    "                     max_depth=5,\n",
    "                     min_child_weight=1,\n",
    "                     gamma=0,\n",
    "                     subsample=0.8,\n",
    "                     colsample_bytree=0.8,\n",
    "                     objective= 'multi:softprob; num_class=3',\n",
    "                     nthread=4,\n",
    "                     scale_pos_weight=1,\n",
    "                     seed=27)\n",
    "    \n",
    "def modelXGBfit(alg, train_df, test_df, predictors, target, target_num_map, cv_folds=5, early_stopping_rounds=50):\n",
    "    \n",
    "   \n",
    "    \n",
    "    #Fit the algorithm on the data\n",
    "    #alg.set_params(n_estimators = 3)\n",
    "    train_target = pd.DataFrame(train_df['interest_level'].apply(lambda x: target_num_map[x]))\n",
    "    alg.fit(train_df[predictors], train_target)\n",
    "        \n",
    "    #Predict training set:\n",
    "    train_predictions = alg.predict(train_df[predictors])\n",
    "    train_predprob = alg.predict_proba(train_df[predictors])\n",
    "        \n",
    "    #Print model report:\n",
    "    print (\"\\nModel Report\")\n",
    "    print (\"Accuracy : %.4g\" % metrics.accuracy_score(train_target, train_predictions))\n",
    "                    \n",
    "    feat_imp = pd.Series(alg.booster().get_fscore()).sort_values(ascending=False)\n",
    "    feat_imp.plot(kind='bar', title='Feature Importances')\n",
    "    plt.ylabel('Feature Importance Score')\n",
    "    plt.show()\n",
    "    \n",
    "    #Predicting on the test data set\n",
    "    test_predictions = alg.predict(test_df[predictors])\n",
    "    test_predprob = alg.predict_proba(test_df[predictors])\n",
    "    return test_predictions, test_predprob, alg\n"
   ]
  },
  {
   "cell_type": "markdown",
   "metadata": {},
   "source": [
    "We will use the modelXGBfit function to run the model. The function defines some of the paramteres needed by the xgboost algorithm. We will apply the algorithm to the train data set with the pre selected variables and target variable \"interest_level\"."
   ]
  },
  {
   "cell_type": "code",
   "execution_count": null,
   "metadata": {
    "collapsed": false
   },
   "outputs": [
    {
     "name": "stdout",
     "output_type": "stream",
     "text": [
      "\n",
      "Model Report\n",
      "Accuracy : 0.9312\n"
     ]
    },
    {
     "data": {
      "image/png": "[encoded data removed]",
      "text/plain": [
       "<matplotlib.figure.Figure at 0x25e44d85748>"
      ]
     },
     "metadata": {},
     "output_type": "display_data"
    }
   ],
   "source": [
    "selected_vars  = [\"bathrooms\", \"bedrooms\", \"price\", \"num_features\", \"num_key_words_description\",\n",
    "                   \"dayofyear\", \"weekofyear\", \"weekday\", \"hour\", \"neighbourhood_id\"]\n",
    "target = \"interest_level\"\n",
    "target_num_map = {'high':0, 'medium':1, 'low':2}\n",
    "\n",
    "test_prediction, test_predprob, alg = modelXGBfit (alg, train_df, test_df, selected_vars, target, target_num_map)"
   ]
  },
  {
   "cell_type": "markdown",
   "metadata": {},
   "source": [
    "Based on the XGBoost algorithm which was trained on the train_df data set, we can see that the trained model has accuracy of 81%. And the strongest predictors used by the model are: price, nm of key words in the desciption (or in other words how long is the description when the stp wprds are removed), day of the year, number of features, hour. Weekday, bedrooms and bathrooms are with less important function when predicting the probabilities the interest level."
   ]
  },
  {
   "cell_type": "code",
   "execution_count": null,
   "metadata": {
    "collapsed": false
   },
   "outputs": [],
   "source": [
    "out_df = pd.DataFrame(test_predprob)\n",
    "out_df.columns = [\"high\", \"medium\", \"low\"]\n",
    "out_df[\"listing_id\"] = test_df.listing_id.values\n",
    "print(out_df.head())"
   ]
  },
  {
   "cell_type": "markdown",
   "metadata": {},
   "source": [
    "As a next step we will perform cross validation and some fine tuning to the parameters of XGBoost."
   ]
  },
  {
   "cell_type": "markdown",
   "metadata": {},
   "source": [
    "##Tune max_depth and min_child_weight\n",
    "\n",
    "Both parameters are important in the model performance and that's the reason we start with them."
   ]
  },
  {
   "cell_type": "code",
   "execution_count": 11,
   "metadata": {
    "collapsed": false
   },
   "outputs": [
    {
     "data": {
      "text/plain": [
       "([mean: 0.71239, std: 0.00167, params: {'max_depth': 3, 'min_child_weight': 1},\n",
       "  mean: 0.71193, std: 0.00144, params: {'max_depth': 3, 'min_child_weight': 3},\n",
       "  mean: 0.71207, std: 0.00192, params: {'max_depth': 3, 'min_child_weight': 5},\n",
       "  mean: 0.71339, std: 0.00238, params: {'max_depth': 4, 'min_child_weight': 1},\n",
       "  mean: 0.71365, std: 0.00257, params: {'max_depth': 4, 'min_child_weight': 3},\n",
       "  mean: 0.71418, std: 0.00230, params: {'max_depth': 4, 'min_child_weight': 5},\n",
       "  mean: 0.71497, std: 0.00241, params: {'max_depth': 5, 'min_child_weight': 1},\n",
       "  mean: 0.71507, std: 0.00148, params: {'max_depth': 5, 'min_child_weight': 3},\n",
       "  mean: 0.71578, std: 0.00268, params: {'max_depth': 5, 'min_child_weight': 5},\n",
       "  mean: 0.71594, std: 0.00221, params: {'max_depth': 6, 'min_child_weight': 1},\n",
       "  mean: 0.71539, std: 0.00201, params: {'max_depth': 6, 'min_child_weight': 3},\n",
       "  mean: 0.71519, std: 0.00190, params: {'max_depth': 6, 'min_child_weight': 5},\n",
       "  mean: 0.71545, std: 0.00400, params: {'max_depth': 7, 'min_child_weight': 1},\n",
       "  mean: 0.71553, std: 0.00239, params: {'max_depth': 7, 'min_child_weight': 3},\n",
       "  mean: 0.71586, std: 0.00281, params: {'max_depth': 7, 'min_child_weight': 5},\n",
       "  mean: 0.71681, std: 0.00353, params: {'max_depth': 8, 'min_child_weight': 1},\n",
       "  mean: 0.71557, std: 0.00224, params: {'max_depth': 8, 'min_child_weight': 3},\n",
       "  mean: 0.71497, std: 0.00367, params: {'max_depth': 8, 'min_child_weight': 5},\n",
       "  mean: 0.71602, std: 0.00270, params: {'max_depth': 9, 'min_child_weight': 1},\n",
       "  mean: 0.71499, std: 0.00257, params: {'max_depth': 9, 'min_child_weight': 3},\n",
       "  mean: 0.71446, std: 0.00411, params: {'max_depth': 9, 'min_child_weight': 5},\n",
       "  mean: 0.71359, std: 0.00249, params: {'max_depth': 10, 'min_child_weight': 1},\n",
       "  mean: 0.71379, std: 0.00259, params: {'max_depth': 10, 'min_child_weight': 3},\n",
       "  mean: 0.71426, std: 0.00279, params: {'max_depth': 10, 'min_child_weight': 5},\n",
       "  mean: 0.71276, std: 0.00219, params: {'max_depth': 11, 'min_child_weight': 1},\n",
       "  mean: 0.71193, std: 0.00202, params: {'max_depth': 11, 'min_child_weight': 3},\n",
       "  mean: 0.71091, std: 0.00315, params: {'max_depth': 11, 'min_child_weight': 5}],\n",
       " {'max_depth': 8, 'min_child_weight': 1},\n",
       " 0.7168099082131938)"
      ]
     },
     "execution_count": 11,
     "metadata": {},
     "output_type": "execute_result"
    }
   ],
   "source": [
    "param_test1 = {\n",
    " 'max_depth': [3, 4, 5, 6, 7, 8, 9, 10, 11],\n",
    " 'min_child_weight': [1, 3, 5]\n",
    "}\n",
    "\n",
    "selected_vars  = [\"bathrooms\", \"bedrooms\", \"price\", \"num_features\", \"num_key_words_description\",\n",
    "                   \"dayofyear\", \"weekofyear\", \"weekday\", \"hour\"]\n",
    "target = \"interest_level\"\n",
    "train_target = pd.DataFrame(train_df['interest_level'].apply(lambda x: target_num_map[x]))\n",
    "    \n",
    "gsearch1 = GridSearchCV(estimator = XGBClassifier( learning_rate =0.1, n_estimators=140, max_depth=5,\n",
    " min_child_weight=1, gamma=0, subsample=0.8, colsample_bytree=0.8,\n",
    " objective= 'multi:softprob', nthread=4, scale_pos_weight=1, seed=27), \n",
    " param_grid = param_test1,n_jobs=4,iid=False, cv=5)\n",
    "gsearch1.fit(train_df[selected_vars],train_target.values.flatten())\n",
    "gsearch1.grid_scores_, gsearch1.best_params_, gsearch1.best_score_"
   ]
  },
  {
   "cell_type": "markdown",
   "metadata": {},
   "source": [
    "From the results we can see that the optimal value for max depth is 8. Our cross validation was focused on consequitive values between 3 and 11. The optimal value for the minimum child weight is 1. The values for the minimum child weight that we considered were 1, 3 and 5. Since the optimum values are in the middle or the lower end of the intervals we have tested, we will accept max depth = 8 and min child weight = 1 as the best values and will proceed with the rest of the parameter tuning by using these values."
   ]
  },
  {
   "cell_type": "code",
   "execution_count": 12,
   "metadata": {
    "collapsed": false
   },
   "outputs": [
    {
     "data": {
      "text/plain": [
       "([mean: 0.71681, std: 0.00353, params: {'gamma': 0.0},\n",
       "  mean: 0.71592, std: 0.00309, params: {'gamma': 0.1},\n",
       "  mean: 0.71707, std: 0.00364, params: {'gamma': 0.2},\n",
       "  mean: 0.71497, std: 0.00329, params: {'gamma': 0.3},\n",
       "  mean: 0.71598, std: 0.00377, params: {'gamma': 0.4}],\n",
       " {'gamma': 0.2},\n",
       " 0.7170732382883092)"
      ]
     },
     "execution_count": 12,
     "metadata": {},
     "output_type": "execute_result"
    }
   ],
   "source": [
    "param_test3 = {\n",
    " 'gamma':[i/10.0 for i in range(0,5)]\n",
    "}\n",
    "gsearch3 = GridSearchCV(estimator = XGBClassifier( learning_rate =0.1, n_estimators=140, max_depth=8,\n",
    " min_child_weight=1, gamma=0, subsample=0.8, colsample_bytree=0.8,\n",
    " objective= 'multi:softprob', nthread=4, scale_pos_weight=1,seed=27), \n",
    " param_grid = param_test3, n_jobs=4,iid=False, cv=5)\n",
    "gsearch3.fit(train_df[selected_vars],train_target.values.flatten())\n",
    "gsearch3.grid_scores_, gsearch3.best_params_, gsearch3.best_score_"
   ]
  },
  {
   "cell_type": "markdown",
   "metadata": {},
   "source": [
    "We can see that the best gamma value for our data set is 0.2 and not 0 as we initially have selected. We will update the parameters and will run the whole model to see how the updated parameters have affected the final result."
   ]
  },
  {
   "cell_type": "code",
   "execution_count": 16,
   "metadata": {
    "collapsed": false
   },
   "outputs": [
    {
     "name": "stdout",
     "output_type": "stream",
     "text": [
      "\n",
      "Model Report\n",
      "Accuracy : 0.9751\n"
     ]
    },
    {
     "data": {
      "image/png": "[encoded data removed]",
      "text/plain": [
       "<matplotlib.figure.Figure at 0x25e41711588>"
      ]
     },
     "metadata": {},
     "output_type": "display_data"
    }
   ],
   "source": [
    "alg = XGBClassifier(\n",
    "                     learning_rate =0.1,\n",
    "                     n_estimators=1000,\n",
    "                     max_depth=8,\n",
    "                     min_child_weight=1,\n",
    "                     gamma=0.2,\n",
    "                     subsample=0.8,\n",
    "                     colsample_bytree=0.8,\n",
    "                     objective= 'multi:softprob; num_class=3',\n",
    "                     nthread=4,\n",
    "                     scale_pos_weight=1,\n",
    "                     seed=27)\n",
    "\n",
    "test_prediction, test_predprob, alg_result = modelXGBfit (alg, train_df, test_df, selected_vars, target, target_num_map)"
   ]
  },
  {
   "cell_type": "markdown",
   "metadata": {},
   "source": [
    "We can see that by adjusting the above parameters, we have increased the accuracy of the model from 0.8116 to 0.9751. As a next step we will adjust the \"subsample\" and \"colsample_bytree\" parameters."
   ]
  },
  {
   "cell_type": "code",
   "execution_count": 17,
   "metadata": {
    "collapsed": false
   },
   "outputs": [
    {
     "data": {
      "text/plain": [
       "([mean: 0.71318, std: 0.00442, params: {'colsample_bytree': 0.6, 'subsample': 0.6},\n",
       "  mean: 0.71549, std: 0.00222, params: {'colsample_bytree': 0.6, 'subsample': 0.7},\n",
       "  mean: 0.71608, std: 0.00289, params: {'colsample_bytree': 0.6, 'subsample': 0.8},\n",
       "  mean: 0.71584, std: 0.00344, params: {'colsample_bytree': 0.6, 'subsample': 0.9},\n",
       "  mean: 0.71495, std: 0.00338, params: {'colsample_bytree': 0.7, 'subsample': 0.6},\n",
       "  mean: 0.71565, std: 0.00236, params: {'colsample_bytree': 0.7, 'subsample': 0.7},\n",
       "  mean: 0.71420, std: 0.00227, params: {'colsample_bytree': 0.7, 'subsample': 0.8},\n",
       "  mean: 0.71501, std: 0.00261, params: {'colsample_bytree': 0.7, 'subsample': 0.9},\n",
       "  mean: 0.71387, std: 0.00308, params: {'colsample_bytree': 0.8, 'subsample': 0.6},\n",
       "  mean: 0.71478, std: 0.00250, params: {'colsample_bytree': 0.8, 'subsample': 0.7},\n",
       "  mean: 0.71539, std: 0.00347, params: {'colsample_bytree': 0.8, 'subsample': 0.8},\n",
       "  mean: 0.71600, std: 0.00263, params: {'colsample_bytree': 0.8, 'subsample': 0.9},\n",
       "  mean: 0.71407, std: 0.00270, params: {'colsample_bytree': 0.9, 'subsample': 0.6},\n",
       "  mean: 0.71432, std: 0.00242, params: {'colsample_bytree': 0.9, 'subsample': 0.7},\n",
       "  mean: 0.71387, std: 0.00279, params: {'colsample_bytree': 0.9, 'subsample': 0.8},\n",
       "  mean: 0.71499, std: 0.00232, params: {'colsample_bytree': 0.9, 'subsample': 0.9}],\n",
       " {'colsample_bytree': 0.6, 'subsample': 0.8},\n",
       " 0.7160806035474154)"
      ]
     },
     "execution_count": 17,
     "metadata": {},
     "output_type": "execute_result"
    }
   ],
   "source": [
    "param_test4 = {\n",
    " 'subsample':[i/10.0 for i in range(6,10)],\n",
    " 'colsample_bytree':[i/10.0 for i in range(6,10)]\n",
    "}\n",
    "gsearch4 = GridSearchCV(estimator = XGBClassifier( learning_rate =0.1, n_estimators=177, max_depth=8,\n",
    " min_child_weight=1, gamma=0.2, subsample=0.8, colsample_bytree=0.8,\n",
    " objective= 'multi:softprob', nthread=4, scale_pos_weight=1,seed=27), \n",
    " param_grid = param_test4, n_jobs=4,iid=False, cv=5)\n",
    "gsearch4.fit(train_df[selected_vars],train_target.values.flatten())\n",
    "gsearch4.grid_scores_, gsearch4.best_params_, gsearch4.best_score_"
   ]
  },
  {
   "cell_type": "markdown",
   "metadata": {},
   "source": [
    "We found that the best values are \"colsample_bytree\" = 0.6 and subsample = 0.8. As a next step we will tune the regularization parameters. The next step is to tune the regularization parameters."
   ]
  },
  {
   "cell_type": "code",
   "execution_count": 18,
   "metadata": {
    "collapsed": false
   },
   "outputs": [
    {
     "data": {
      "text/plain": [
       "([mean: 0.71596, std: 0.00294, params: {'reg_alpha': 1e-05},\n",
       "  mean: 0.71551, std: 0.00299, params: {'reg_alpha': 0.01},\n",
       "  mean: 0.71663, std: 0.00296, params: {'reg_alpha': 0.1},\n",
       "  mean: 0.71604, std: 0.00393, params: {'reg_alpha': 1},\n",
       "  mean: 0.70854, std: 0.00207, params: {'reg_alpha': 100}],\n",
       " {'reg_alpha': 0.1},\n",
       " 0.7166275928262589)"
      ]
     },
     "execution_count": 18,
     "metadata": {},
     "output_type": "execute_result"
    }
   ],
   "source": [
    "param_test6 = {\n",
    " 'reg_alpha':[1e-5, 1e-2, 0.1, 1, 100]\n",
    "}\n",
    "gsearch6 = GridSearchCV(estimator = XGBClassifier( learning_rate =0.1, n_estimators=177, max_depth=8,\n",
    " min_child_weight=1, gamma=0.2, subsample=0.8, colsample_bytree=0.6,\n",
    " objective= 'multi:softprob', nthread=4, scale_pos_weight=1,seed=27), \n",
    " param_grid = param_test6, n_jobs=4,iid=False, cv=5)\n",
    "gsearch6.fit(train_df[selected_vars],train_target.values.flatten())\n",
    "gsearch6.grid_scores_, gsearch6.best_params_, gsearch6.best_score_"
   ]
  },
  {
   "cell_type": "markdown",
   "metadata": {},
   "source": [
    "We've got a slight improvement in the cv score compared to the previous parameters. Since our reg_alpha values were pretty wide spread, we will focus on values around 0.1 to see if we can find an even better adjusted value for reg_alpha."
   ]
  },
  {
   "cell_type": "code",
   "execution_count": 19,
   "metadata": {
    "collapsed": false
   },
   "outputs": [
    {
     "data": {
      "text/plain": [
       "([mean: 0.71608, std: 0.00289, params: {'reg_alpha': 0},\n",
       "  mean: 0.71602, std: 0.00340, params: {'reg_alpha': 0.001},\n",
       "  mean: 0.71608, std: 0.00333, params: {'reg_alpha': 0.005},\n",
       "  mean: 0.71551, std: 0.00299, params: {'reg_alpha': 0.01},\n",
       "  mean: 0.71699, std: 0.00312, params: {'reg_alpha': 0.05}],\n",
       " {'reg_alpha': 0.05},\n",
       " 0.7169924022320032)"
      ]
     },
     "execution_count": 19,
     "metadata": {},
     "output_type": "execute_result"
    }
   ],
   "source": [
    "param_test6 = {\n",
    " 'reg_alpha':[0, 0.001, 0.005, 0.01, 0.05]\n",
    "}\n",
    "gsearch6 = GridSearchCV(estimator = XGBClassifier( learning_rate =0.1, n_estimators=177, max_depth=8,\n",
    " min_child_weight=1, gamma=0.2, subsample=0.8, colsample_bytree=0.6,\n",
    " objective= 'multi:softprob', nthread=4, scale_pos_weight=1,seed=27), \n",
    " param_grid = param_test6, n_jobs=4,iid=False, cv=5)\n",
    "gsearch6.fit(train_df[selected_vars],train_target.values.flatten())\n",
    "gsearch6.grid_scores_, gsearch6.best_params_, gsearch6.best_score_"
   ]
  },
  {
   "cell_type": "markdown",
   "metadata": {},
   "source": [
    "We can see that a better reg alpha parameter is 0.05 and it leads to slightly improvement in the cross validation results. Since we adjusted few more parameters of the model, it is time to see again our model performance. "
   ]
  },
  {
   "cell_type": "code",
   "execution_count": 20,
   "metadata": {
    "collapsed": false
   },
   "outputs": [
    {
     "name": "stdout",
     "output_type": "stream",
     "text": [
      "\n",
      "Model Report\n",
      "Accuracy : 0.9572\n"
     ]
    },
    {
     "data": {
      "image/png": "[encoded data removed]",
      "text/plain": [
       "<matplotlib.figure.Figure at 0x25e412ed1d0>"
      ]
     },
     "metadata": {},
     "output_type": "display_data"
    }
   ],
   "source": [
    "alg = XGBClassifier(\n",
    "                     learning_rate =0.1,\n",
    "                     n_estimators=1000,\n",
    "                     max_depth=8,\n",
    "                     min_child_weight=1,\n",
    "                     gamma=0.2,\n",
    "                     subsample=0.8,\n",
    "                     colsample_bytree=0.6,\n",
    "                     reg_alpha = 0.05,\n",
    "                     objective= 'multi:softprob; num_class=3',\n",
    "                     nthread=4,\n",
    "                     scale_pos_weight=1,\n",
    "                     seed=27)\n",
    "\n",
    "test_prediction, test_predprob, alg_result = modelXGBfit (alg, train_df, test_df, selected_vars, target, target_num_map)"
   ]
  },
  {
   "cell_type": "code",
   "execution_count": null,
   "metadata": {
    "collapsed": true
   },
   "outputs": [],
   "source": [
    "out_df = pd.DataFrame(test_predprob)\n",
    "out_df.columns = [\"high\", \"medium\", \"low\"]\n",
    "out_df[\"listing_id\"] = test_df.listing_id.values\n",
    "out_df.to_csv(\"xgb_starter_results.csv\", index=False)"
   ]
  }
 ],
 "metadata": {
  "kernelspec": {
   "display_name": "Python 3",
   "language": "python",
   "name": "python3"
  },
  "language_info": {
   "codemirror_mode": {
    "name": "ipython",
    "version": 3
   },
   "file_extension": ".py",
   "mimetype": "text/x-python",
   "name": "python",
   "nbconvert_exporter": "python",
   "pygments_lexer": "ipython3",
   "version": "3.6.0"
  }
 },
 "nbformat": 4,
 "nbformat_minor": 2
}
